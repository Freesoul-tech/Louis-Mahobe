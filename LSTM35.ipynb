{
  "nbformat": 4,
  "nbformat_minor": 0,
  "metadata": {
    "colab": {
      "provenance": [],
      "authorship_tag": "ABX9TyPhst5OSVK8XRlCe36uN92t",
      "include_colab_link": true
    },
    "kernelspec": {
      "name": "python3",
      "display_name": "Python 3"
    },
    "language_info": {
      "name": "python"
    },
        "7fdf2a094a4743f6ad2c0260899eafa8": {
          "model_module": "@jupyter-widgets/controls",
          "model_name": "HTMLModel",
          "model_module_version": "1.5.0",
          "state": {
            "_dom_classes": [],
            "_model_module": "@jupyter-widgets/controls",
            "_model_module_version": "1.5.0",
            "_model_name": "HTMLModel",
            "_view_count": null,
            "_view_module": "@jupyter-widgets/controls",
            "_view_module_version": "1.5.0",
            "_view_name": "HTMLView",
            "description": "",
            "description_tooltip": null,
            "layout": "IPY_MODEL_9e9ec5cca2424824a878124c2620c81d",
            "placeholder": "​",
            "style": "IPY_MODEL_c2d2607f5da24ae48962a52387114f73",
            "value": "README.md: "
          }
        },
        "030cd1f779bf44d79bf25a8d3c939246": {
          "model_module": "@jupyter-widgets/controls",
          "model_name": "FloatProgressModel",
          "model_module_version": "1.5.0",
          "state": {
            "_dom_classes": [],
            "_model_module": "@jupyter-widgets/controls",
            "_model_module_version": "1.5.0",
            "_model_name": "FloatProgressModel",
            "_view_count": null,
            "_view_module": "@jupyter-widgets/controls",
            "_view_module_version": "1.5.0",
            "_view_name": "ProgressView",
            "bar_style": "success",
            "description": "",
            "description_tooltip": null,
            "layout": "IPY_MODEL_012994daf06849f3a2d9a861e722a42e",
            "max": 1,
            "min": 0,
            "orientation": "horizontal",
            "style": "IPY_MODEL_f8bc6edb192641f4b6eaf8c775c4da11",
            "value": 1
          }
        },
        "441bceb6c4b34280b8de661bffac0edc": {
          "model_module": "@jupyter-widgets/controls",
          "model_name": "HTMLModel",
          "model_module_version": "1.5.0",
          "state": {
            "_dom_classes": [],
            "_model_module": "@jupyter-widgets/controls",
            "_model_module_version": "1.5.0",
            "_model_name": "HTMLModel",
            "_view_count": null,
            "_view_module": "@jupyter-widgets/controls",
            "_view_module_version": "1.5.0",
            "_view_name": "HTMLView",
            "description": "",
            "description_tooltip": null,
            "layout": "IPY_MODEL_857099b99e9f4be7afb5f8a83440b52a",
            "placeholder": "​",
            "style": "IPY_MODEL_37fd9c3c99da445cb04376f806c25107",
            "value": " 8.07k/? [00:00&lt;00:00, 121kB/s]"
          }
        },
        "7ad4cd8c90f6494a856caaab41372bd3": {
          "model_module": "@jupyter-widgets/base",
          "model_name": "LayoutModel",
          "model_module_version": "1.2.0",
          "state": {
            "_model_module": "@jupyter-widgets/base",
            "_model_module_version": "1.2.0",
            "_model_name": "LayoutModel",
            "_view_count": null,
            "_view_module": "@jupyter-widgets/base",
            "_view_module_version": "1.2.0",
            "_view_name": "LayoutView",
            "align_content": null,
            "align_items": null,
            "align_self": null,
            "border": null,
            "bottom": null,
            "display": null,
            "flex": null,
            "flex_flow": null,
            "grid_area": null,
            "grid_auto_columns": null,
            "grid_auto_flow": null,
            "grid_auto_rows": null,
            "grid_column": null,
            "grid_gap": null,
            "grid_row": null,
            "grid_template_areas": null,
            "grid_template_columns": null,
            "grid_template_rows": null,
            "height": null,
            "justify_content": null,
            "justify_items": null,
            "left": null,
            "margin": null,
            "max_height": null,
            "max_width": null,
            "min_height": null,
            "min_width": null,
            "object_fit": null,
            "object_position": null,
            "order": null,
            "overflow": null,
            "overflow_x": null,
            "overflow_y": null,
            "padding": null,
            "right": null,
            "top": null,
            "visibility": null,
            "width": null
          }
        },
        "9e9ec5cca2424824a878124c2620c81d": {
          "model_module": "@jupyter-widgets/base",
          "model_name": "LayoutModel",
          "model_module_version": "1.2.0",
          "state": {
            "_model_module": "@jupyter-widgets/base",
            "_model_module_version": "1.2.0",
            "_model_name": "LayoutModel",
            "_view_count": null,
            "_view_module": "@jupyter-widgets/base",
            "_view_module_version": "1.2.0",
            "_view_name": "LayoutView",
            "align_content": null,
            "align_items": null,
            "align_self": null,
            "border": null,
            "bottom": null,
            "display": null,
            "flex": null,
            "flex_flow": null,
            "grid_area": null,
            "grid_auto_columns": null,
            "grid_auto_flow": null,
            "grid_auto_rows": null,
            "grid_column": null,
            "grid_gap": null,
            "grid_row": null,
            "grid_template_areas": null,
            "grid_template_columns": null,
            "grid_template_rows": null,
            "height": null,
            "justify_content": null,
            "justify_items": null,
            "left": null,
            "margin": null,
            "max_height": null,
            "max_width": null,
            "min_height": null,
            "min_width": null,
            "object_fit": null,
            "object_position": null,
            "order": null,
            "overflow": null,
            "overflow_x": null,
            "overflow_y": null,
            "padding": null,
            "right": null,
            "top": null,
            "visibility": null,
            "width": null
          }
        },
        "c2d2607f5da24ae48962a52387114f73": {
          "model_module": "@jupyter-widgets/controls",
          "model_name": "DescriptionStyleModel",
          "model_module_version": "1.5.0",
          "state": {
            "_model_module": "@jupyter-widgets/controls",
            "_model_module_version": "1.5.0",
            "_model_name": "DescriptionStyleModel",
            "_view_count": null,
            "_view_module": "@jupyter-widgets/base",
            "_view_module_version": "1.2.0",
            "_view_name": "StyleView",
            "description_width": ""
          }
        },
        "012994daf06849f3a2d9a861e722a42e": {
          "model_module": "@jupyter-widgets/base",
          "model_name": "LayoutModel",
          "model_module_version": "1.2.0",
          "state": {
            "_model_module": "@jupyter-widgets/base",
            "_model_module_version": "1.2.0",
            "_model_name": "LayoutModel",
            "_view_count": null,
            "_view_module": "@jupyter-widgets/base",
            "_view_module_version": "1.2.0",
            "_view_name": "LayoutView",
            "align_content": null,
            "align_items": null,
            "align_self": null,
            "border": null,
            "bottom": null,
            "display": null,
            "flex": null,
            "flex_flow": null,
            "grid_area": null,
            "grid_auto_columns": null,
            "grid_auto_flow": null,
            "grid_auto_rows": null,
            "grid_column": null,
            "grid_gap": null,
            "grid_row": null,
            "grid_template_areas": null,
            "grid_template_columns": null,
            "grid_template_rows": null,
            "height": null,
            "justify_content": null,
            "justify_items": null,
            "left": null,
            "margin": null,
            "max_height": null,
            "max_width": null,
            "min_height": null,
            "min_width": null,
            "object_fit": null,
            "object_position": null,
            "order": null,
            "overflow": null,
            "overflow_x": null,
            "overflow_y": null,
            "padding": null,
            "right": null,
            "top": null,
            "visibility": null,
            "width": "20px"
          }
        },
        "f8bc6edb192641f4b6eaf8c775c4da11": {
          "model_module": "@jupyter-widgets/controls",
          "model_name": "ProgressStyleModel",
          "model_module_version": "1.5.0",
          "state": {
            "_model_module": "@jupyter-widgets/controls",
            "_model_module_version": "1.5.0",
            "_model_name": "ProgressStyleModel",
            "_view_count": null,
            "_view_module": "@jupyter-widgets/base",
            "_view_module_version": "1.2.0",
            "_view_name": "StyleView",
            "bar_color": null,
            "description_width": ""
          }
        },
        "857099b99e9f4be7afb5f8a83440b52a": {
          "model_module": "@jupyter-widgets/base",
          "model_name": "LayoutModel",
          "model_module_version": "1.2.0",
          "state": {
            "_model_module": "@jupyter-widgets/base",
            "_model_module_version": "1.2.0",
            "_model_name": "LayoutModel",
            "_view_count": null,
            "_view_module": "@jupyter-widgets/base",
            "_view_module_version": "1.2.0",
            "_view_name": "LayoutView",
            "align_content": null,
            "align_items": null,
            "align_self": null,
            "border": null,
            "bottom": null,
            "display": null,
            "flex": null,
            "flex_flow": null,
            "grid_area": null,
            "grid_auto_columns": null,
            "grid_auto_flow": null,
            "grid_auto_rows": null,
            "grid_column": null,
            "grid_gap": null,
            "grid_row": null,
            "grid_template_areas": null,
            "grid_template_columns": null,
            "grid_template_rows": null,
            "height": null,
            "justify_content": null,
            "justify_items": null,
            "left": null,
            "margin": null,
            "max_height": null,
            "max_width": null,
            "min_height": null,
            "min_width": null,
            "object_fit": null,
            "object_position": null,
            "order": null,
            "overflow": null,
            "overflow_x": null,
            "overflow_y": null,
            "padding": null,
            "right": null,
            "top": null,
            "visibility": null,
            "width": null
          }
        },
        "37fd9c3c99da445cb04376f806c25107": {
          "model_module": "@jupyter-widgets/controls",
          "model_name": "DescriptionStyleModel",
          "model_module_version": "1.5.0",
          "state": {
            "_model_module": "@jupyter-widgets/controls",
            "_model_module_version": "1.5.0",
            "_model_name": "DescriptionStyleModel",
            "_view_count": null,
            "_view_module": "@jupyter-widgets/base",
            "_view_module_version": "1.2.0",
            "_view_name": "StyleView",
            "description_width": ""
          }
        },
        "65b1214ca4124203806cc6f95dd87860": {
          "model_module": "@jupyter-widgets/controls",
          "model_name": "HBoxModel",
          "model_module_version": "1.5.0",
          "state": {
            "_dom_classes": [],
            "_model_module": "@jupyter-widgets/controls",
            "_model_module_version": "1.5.0",
            "_model_name": "HBoxModel",
            "_view_count": null,
            "_view_module": "@jupyter-widgets/controls",
            "_view_module_version": "1.5.0",
            "_view_name": "HBoxView",
            "box_style": "",
            "children": [
              "IPY_MODEL_b88112e499ea4080af4d8d51f144b948",
              "IPY_MODEL_ecb39c8551ef4e9583ba53d7fd11b603",
              "IPY_MODEL_cdb9e8b819ee428ba239a71285942358"
            ],
            "layout": "IPY_MODEL_a7ef906edd124d0e827593ad6bedb62f"
          }
        },
        "b88112e499ea4080af4d8d51f144b948": {
          "model_module": "@jupyter-widgets/controls",
          "model_name": "HTMLModel",
          "model_module_version": "1.5.0",
          "state": {
            "_dom_classes": [],
            "_model_module": "@jupyter-widgets/controls",
            "_model_module_version": "1.5.0",
            "_model_name": "HTMLModel",
            "_view_count": null,
            "_view_module": "@jupyter-widgets/controls",
            "_view_module_version": "1.5.0",
            "_view_name": "HTMLView",
            "description": "",
            "description_tooltip": null,
            "layout": "IPY_MODEL_26663e5f7028432880325011a03f871f",
            "placeholder": "​",
            "style": "IPY_MODEL_b97303c750134e558ba6e5c618069842",
            "value": "train-00000-of-00001.parquet: 100%"
          }
        },
        "ecb39c8551ef4e9583ba53d7fd11b603": {
          "model_module": "@jupyter-widgets/controls",
          "model_name": "FloatProgressModel",
          "model_module_version": "1.5.0",
          "state": {
            "_dom_classes": [],
            "_model_module": "@jupyter-widgets/controls",
            "_model_module_version": "1.5.0",
            "_model_name": "FloatProgressModel",
            "_view_count": null,
            "_view_module": "@jupyter-widgets/controls",
            "_view_module_version": "1.5.0",
            "_view_name": "ProgressView",
            "bar_style": "success",
            "description": "",
            "description_tooltip": null,
            "layout": "IPY_MODEL_62bcdc3724944614ba68cc5914476f37",
            "max": 18585438,
            "min": 0,
            "orientation": "horizontal",
            "style": "IPY_MODEL_bbff4aa0c6bd4acfaac1980a6b792e51",
            "value": 18585438
          }
        },
        "cdb9e8b819ee428ba239a71285942358": {
          "model_module": "@jupyter-widgets/controls",
          "model_name": "HTMLModel",
          "model_module_version": "1.5.0",
          "state": {
            "_dom_classes": [],
            "_model_module": "@jupyter-widgets/controls",
            "_model_module_version": "1.5.0",
            "_model_name": "HTMLModel",
            "_view_count": null,
            "_view_module": "@jupyter-widgets/controls",
            "_view_module_version": "1.5.0",
            "_view_name": "HTMLView",
            "description": "",
            "description_tooltip": null,
            "layout": "IPY_MODEL_2ae871e5f720495e9653974e06e717bd",
            "placeholder": "​",
            "style": "IPY_MODEL_d50ac8c295554e729ad12707efe7b639",
            "value": " 18.6M/18.6M [00:00&lt;00:00, 35.0MB/s]"
          }
        },
        "a7ef906edd124d0e827593ad6bedb62f": {
          "model_module": "@jupyter-widgets/base",
          "model_name": "LayoutModel",
          "model_module_version": "1.2.0",
          "state": {
            "_model_module": "@jupyter-widgets/base",
            "_model_module_version": "1.2.0",
            "_model_name": "LayoutModel",
            "_view_count": null,
            "_view_module": "@jupyter-widgets/base",
            "_view_module_version": "1.2.0",
            "_view_name": "LayoutView",
            "align_content": null,
            "align_items": null,
            "align_self": null,
            "border": null,
            "bottom": null,
            "display": null,
            "flex": null,
            "flex_flow": null,
            "grid_area": null,
            "grid_auto_columns": null,
            "grid_auto_flow": null,
            "grid_auto_rows": null,
            "grid_column": null,
            "grid_gap": null,
            "grid_row": null,
            "grid_template_areas": null,
            "grid_template_columns": null,
            "grid_template_rows": null,
            "height": null,
            "justify_content": null,
            "justify_items": null,
            "left": null,
            "margin": null,
            "max_height": null,
            "max_width": null,
            "min_height": null,
            "min_width": null,
            "object_fit": null,
            "object_position": null,
            "order": null,
            "overflow": null,
            "overflow_x": null,
            "overflow_y": null,
            "padding": null,
            "right": null,
            "top": null,
            "visibility": null,
            "width": null
          }
        },
        "26663e5f7028432880325011a03f871f": {
          "model_module": "@jupyter-widgets/base",
          "model_name": "LayoutModel",
          "model_module_version": "1.2.0",
          "state": {
            "_model_module": "@jupyter-widgets/base",
            "_model_module_version": "1.2.0",
            "_model_name": "LayoutModel",
            "_view_count": null,
            "_view_module": "@jupyter-widgets/base",
            "_view_module_version": "1.2.0",
            "_view_name": "LayoutView",
            "align_content": null,
            "align_items": null,
            "align_self": null,
            "border": null,
            "bottom": null,
            "display": null,
            "flex": null,
            "flex_flow": null,
            "grid_area": null,
            "grid_auto_columns": null,
            "grid_auto_flow": null,
            "grid_auto_rows": null,
            "grid_column": null,
            "grid_gap": null,
            "grid_row": null,
            "grid_template_areas": null,
            "grid_template_columns": null,
            "grid_template_rows": null,
            "height": null,
            "justify_content": null,
            "justify_items": null,
            "left": null,
            "margin": null,
            "max_height": null,
            "max_width": null,
            "min_height": null,
            "min_width": null,
            "object_fit": null,
            "object_position": null,
            "order": null,
            "overflow": null,
            "overflow_x": null,
            "overflow_y": null,
            "padding": null,
            "right": null,
            "top": null,
            "visibility": null,
            "width": null
          }
        },
        "b97303c750134e558ba6e5c618069842": {
          "model_module": "@jupyter-widgets/controls",
          "model_name": "DescriptionStyleModel",
          "model_module_version": "1.5.0",
          "state": {
            "_model_module": "@jupyter-widgets/controls",
            "_model_module_version": "1.5.0",
            "_model_name": "DescriptionStyleModel",
            "_view_count": null,
            "_view_module": "@jupyter-widgets/base",
            "_view_module_version": "1.2.0",
            "_view_name": "StyleView",
            "description_width": ""
          }
        },
        "62bcdc3724944614ba68cc5914476f37": {
          "model_module": "@jupyter-widgets/base",
          "model_name": "LayoutModel",
          "model_module_version": "1.2.0",
          "state": {
            "_model_module": "@jupyter-widgets/base",
            "_model_module_version": "1.2.0",
            "_model_name": "LayoutModel",
            "_view_count": null,
            "_view_module": "@jupyter-widgets/base",
            "_view_module_version": "1.2.0",
            "_view_name": "LayoutView",
            "align_content": null,
            "align_items": null,
            "align_self": null,
            "border": null,
            "bottom": null,
            "display": null,
            "flex": null,
            "flex_flow": null,
            "grid_area": null,
            "grid_auto_columns": null,
            "grid_auto_flow": null,
            "grid_auto_rows": null,
            "grid_column": null,
            "grid_gap": null,
            "grid_row": null,
            "grid_template_areas": null,
            "grid_template_columns": null,
            "grid_template_rows": null,
            "height": null,
            "justify_content": null,
            "justify_items": null,
            "left": null,
            "margin": null,
            "max_height": null,
            "max_width": null,
            "min_height": null,
            "min_width": null,
            "object_fit": null,
            "object_position": null,
            "order": null,
            "overflow": null,
            "overflow_x": null,
            "overflow_y": null,
            "padding": null,
            "right": null,
            "top": null,
            "visibility": null,
            "width": null
          }
        },
        "bbff4aa0c6bd4acfaac1980a6b792e51": {
          "model_module": "@jupyter-widgets/controls",
          "model_name": "ProgressStyleModel",
          "model_module_version": "1.5.0",
          "state": {
            "_model_module": "@jupyter-widgets/controls",
            "_model_module_version": "1.5.0",
            "_model_name": "ProgressStyleModel",
            "_view_count": null,
            "_view_module": "@jupyter-widgets/base",
            "_view_module_version": "1.2.0",
            "_view_name": "StyleView",
            "bar_color": null,
            "description_width": ""
          }
        },
        "2ae871e5f720495e9653974e06e717bd": {
          "model_module": "@jupyter-widgets/base",
          "model_name": "LayoutModel",
          "model_module_version": "1.2.0",
          "state": {
            "_model_module": "@jupyter-widgets/base",
            "_model_module_version": "1.2.0",
            "_model_name": "LayoutModel",
            "_view_count": null,
            "_view_module": "@jupyter-widgets/base",
            "_view_module_version": "1.2.0",
            "_view_name": "LayoutView",
            "align_content": null,
            "align_items": null,
            "align_self": null,
            "border": null,
            "bottom": null,
            "display": null,
            "flex": null,
            "flex_flow": null,
            "grid_area": null,
            "grid_auto_columns": null,
            "grid_auto_flow": null,
            "grid_auto_rows": null,
            "grid_column": null,
            "grid_gap": null,
            "grid_row": null,
            "grid_template_areas": null,
            "grid_template_columns": null,
            "grid_template_rows": null,
            "height": null,
            "justify_content": null,
            "justify_items": null,
            "left": null,
            "margin": null,
            "max_height": null,
            "max_width": null,
            "min_height": null,
            "min_width": null,
            "object_fit": null,
            "object_position": null,
            "order": null,
            "overflow": null,
            "overflow_x": null,
            "overflow_y": null,
            "padding": null,
            "right": null,
            "top": null,
            "visibility": null,
            "width": null
          }
        },
        "d50ac8c295554e729ad12707efe7b639": {
          "model_module": "@jupyter-widgets/controls",
          "model_name": "DescriptionStyleModel",
          "model_module_version": "1.5.0",
          "state": {
            "_model_module": "@jupyter-widgets/controls",
            "_model_module_version": "1.5.0",
            "_model_name": "DescriptionStyleModel",
            "_view_count": null,
            "_view_module": "@jupyter-widgets/base",
            "_view_module_version": "1.2.0",
            "_view_name": "StyleView",
            "description_width": ""
          }
        },
        "0c9effa4f2c742baacfaf85113ad6b17": {
          "model_module": "@jupyter-widgets/controls",
          "model_name": "HBoxModel",
          "model_module_version": "1.5.0",
          "state": {
            "_dom_classes": [],
            "_model_module": "@jupyter-widgets/controls",
            "_model_module_version": "1.5.0",
            "_model_name": "HBoxModel",
            "_view_count": null,
            "_view_module": "@jupyter-widgets/controls",
            "_view_module_version": "1.5.0",
            "_view_name": "HBoxView",
            "box_style": "",
            "children": [
              "IPY_MODEL_5693cdbad1ab4749b10fbb3c41a2a879",
              "IPY_MODEL_1595893cb1b64dc1b0527e5fdf4bc8ed",
              "IPY_MODEL_3da2313201d249dcbac98dd4c4526666"
            ],
            "layout": "IPY_MODEL_76bdcd83f1664af081bf11ee76f41a8b"
          }
        },
        "5693cdbad1ab4749b10fbb3c41a2a879": {
          "model_module": "@jupyter-widgets/controls",
          "model_name": "HTMLModel",
          "model_module_version": "1.5.0",
          "state": {
            "_dom_classes": [],
            "_model_module": "@jupyter-widgets/controls",
            "_model_module_version": "1.5.0",
            "_model_name": "HTMLModel",
            "_view_count": null,
            "_view_module": "@jupyter-widgets/controls",
            "_view_module_version": "1.5.0",
            "_view_name": "HTMLView",
            "description": "",
            "description_tooltip": null,
            "layout": "IPY_MODEL_33c84344728e4658b6015e78ec36c5a7",
            "placeholder": "​",
            "style": "IPY_MODEL_c0ad2c2075cd4d1bb5643fd8eaff3d06",
            "value": "test-00000-of-00001.parquet: 100%"
          }
        },
        "1595893cb1b64dc1b0527e5fdf4bc8ed": {
          "model_module": "@jupyter-widgets/controls",
          "model_name": "FloatProgressModel",
          "model_module_version": "1.5.0",
          "state": {
            "_dom_classes": [],
            "_model_module": "@jupyter-widgets/controls",
            "_model_module_version": "1.5.0",
            "_model_name": "FloatProgressModel",
            "_view_count": null,
            "_view_module": "@jupyter-widgets/controls",
            "_view_module_version": "1.5.0",
            "_view_name": "ProgressView",
            "bar_style": "success",
            "description": "",
            "description_tooltip": null,
            "layout": "IPY_MODEL_3eaaf2f8924342c6a4e30d049e869c85",
            "max": 1234829,
            "min": 0,
            "orientation": "horizontal",
            "style": "IPY_MODEL_959731299eb644bbaa07c21fcec747ae",
            "value": 1234829
          }
        },
        "3da2313201d249dcbac98dd4c4526666": {
          "model_module": "@jupyter-widgets/controls",
          "model_name": "HTMLModel",
          "model_module_version": "1.5.0",
          "state": {
            "_dom_classes": [],
            "_model_module": "@jupyter-widgets/controls",
            "_model_module_version": "1.5.0",
            "_model_name": "HTMLModel",
            "_view_count": null,
            "_view_module": "@jupyter-widgets/controls",
            "_view_module_version": "1.5.0",
            "_view_name": "HTMLView",
            "description": "",
            "description_tooltip": null,
            "layout": "IPY_MODEL_1ad75c7ab0144c69913bb0a8ffe77ffa",
            "placeholder": "​",
            "style": "IPY_MODEL_21f1db4b91754ca793275232f325f91c",
            "value": " 1.23M/1.23M [00:00&lt;00:00, 12.2MB/s]"
          }
        },
        "76bdcd83f1664af081bf11ee76f41a8b": {
          "model_module": "@jupyter-widgets/base",
          "model_name": "LayoutModel",
          "model_module_version": "1.2.0",
          "state": {
            "_model_module": "@jupyter-widgets/base",
            "_model_module_version": "1.2.0",
            "_model_name": "LayoutModel",
            "_view_count": null,
            "_view_module": "@jupyter-widgets/base",
            "_view_module_version": "1.2.0",
            "_view_name": "LayoutView",
            "align_content": null,
            "align_items": null,
            "align_self": null,
            "border": null,
            "bottom": null,
            "display": null,
            "flex": null,
            "flex_flow": null,
            "grid_area": null,
            "grid_auto_columns": null,
            "grid_auto_flow": null,
            "grid_auto_rows": null,
            "grid_column": null,
            "grid_gap": null,
            "grid_row": null,
            "grid_template_areas": null,
            "grid_template_columns": null,
            "grid_template_rows": null,
            "height": null,
            "justify_content": null,
            "justify_items": null,
            "left": null,
            "margin": null,
            "max_height": null,
            "max_width": null,
            "min_height": null,
            "min_width": null,
            "object_fit": null,
            "object_position": null,
            "order": null,
            "overflow": null,
            "overflow_x": null,
            "overflow_y": null,
            "padding": null,
            "right": null,
            "top": null,
            "visibility": null,
            "width": null
          }
        },
        "33c84344728e4658b6015e78ec36c5a7": {
          "model_module": "@jupyter-widgets/base",
          "model_name": "LayoutModel",
          "model_module_version": "1.2.0",
          "state": {
            "_model_module": "@jupyter-widgets/base",
            "_model_module_version": "1.2.0",
            "_model_name": "LayoutModel",
            "_view_count": null,
            "_view_module": "@jupyter-widgets/base",
            "_view_module_version": "1.2.0",
            "_view_name": "LayoutView",
            "align_content": null,
            "align_items": null,
            "align_self": null,
            "border": null,
            "bottom": null,
            "display": null,
            "flex": null,
            "flex_flow": null,
            "grid_area": null,
            "grid_auto_columns": null,
            "grid_auto_flow": null,
            "grid_auto_rows": null,
            "grid_column": null,
            "grid_gap": null,
            "grid_row": null,
            "grid_template_areas": null,
            "grid_template_columns": null,
            "grid_template_rows": null,
            "height": null,
            "justify_content": null,
            "justify_items": null,
            "left": null,
            "margin": null,
            "max_height": null,
            "max_width": null,
            "min_height": null,
            "min_width": null,
            "object_fit": null,
            "object_position": null,
            "order": null,
            "overflow": null,
            "overflow_x": null,
            "overflow_y": null,
            "padding": null,
            "right": null,
            "top": null,
            "visibility": null,
            "width": null
          }
        },
        "c0ad2c2075cd4d1bb5643fd8eaff3d06": {
          "model_module": "@jupyter-widgets/controls",
          "model_name": "DescriptionStyleModel",
          "model_module_version": "1.5.0",
          "state": {
            "_model_module": "@jupyter-widgets/controls",
            "_model_module_version": "1.5.0",
            "_model_name": "DescriptionStyleModel",
            "_view_count": null,
            "_view_module": "@jupyter-widgets/base",
            "_view_module_version": "1.2.0",
            "_view_name": "StyleView",
            "description_width": ""
          }
        },
        "3eaaf2f8924342c6a4e30d049e869c85": {
          "model_module": "@jupyter-widgets/base",
          "model_name": "LayoutModel",
          "model_module_version": "1.2.0",
          "state": {
            "_model_module": "@jupyter-widgets/base",
            "_model_module_version": "1.2.0",
            "_model_name": "LayoutModel",
            "_view_count": null,
            "_view_module": "@jupyter-widgets/base",
            "_view_module_version": "1.2.0",
            "_view_name": "LayoutView",
            "align_content": null,
            "align_items": null,
            "align_self": null,
            "border": null,
            "bottom": null,
            "display": null,
            "flex": null,
            "flex_flow": null,
            "grid_area": null,
            "grid_auto_columns": null,
            "grid_auto_flow": null,
            "grid_auto_rows": null,
            "grid_column": null,
            "grid_gap": null,
            "grid_row": null,
            "grid_template_areas": null,
            "grid_template_columns": null,
            "grid_template_rows": null,
            "height": null,
            "justify_content": null,
            "justify_items": null,
            "left": null,
            "margin": null,
            "max_height": null,
            "max_width": null,
            "min_height": null,
            "min_width": null,
            "object_fit": null,
            "object_position": null,
            "order": null,
            "overflow": null,
            "overflow_x": null,
            "overflow_y": null,
            "padding": null,
            "right": null,
            "top": null,
            "visibility": null,
            "width": null
          }
        },
        "959731299eb644bbaa07c21fcec747ae": {
          "model_module": "@jupyter-widgets/controls",
          "model_name": "ProgressStyleModel",
          "model_module_version": "1.5.0",
          "state": {
            "_model_module": "@jupyter-widgets/controls",
            "_model_module_version": "1.5.0",
            "_model_name": "ProgressStyleModel",
            "_view_count": null,
            "_view_module": "@jupyter-widgets/base",
            "_view_module_version": "1.2.0",
            "_view_name": "StyleView",
            "bar_color": null,
            "description_width": ""
          }
        },
        "1ad75c7ab0144c69913bb0a8ffe77ffa": {
          "model_module": "@jupyter-widgets/base",
          "model_name": "LayoutModel",
          "model_module_version": "1.2.0",
          "state": {
            "_model_module": "@jupyter-widgets/base",
            "_model_module_version": "1.2.0",
            "_model_name": "LayoutModel",
            "_view_count": null,
            "_view_module": "@jupyter-widgets/base",
            "_view_module_version": "1.2.0",
            "_view_name": "LayoutView",
            "align_content": null,
            "align_items": null,
            "align_self": null,
            "border": null,
            "bottom": null,
            "display": null,
            "flex": null,
            "flex_flow": null,
            "grid_area": null,
            "grid_auto_columns": null,
            "grid_auto_flow": null,
            "grid_auto_rows": null,
            "grid_column": null,
            "grid_gap": null,
            "grid_row": null,
            "grid_template_areas": null,
            "grid_template_columns": null,
            "grid_template_rows": null,
            "height": null,
            "justify_content": null,
            "justify_items": null,
            "left": null,
            "margin": null,
            "max_height": null,
            "max_width": null,
            "min_height": null,
            "min_width": null,
            "object_fit": null,
            "object_position": null,
            "order": null,
            "overflow": null,
            "overflow_x": null,
            "overflow_y": null,
            "padding": null,
            "right": null,
            "top": null,
            "visibility": null,
            "width": null
          }
        },
        "21f1db4b91754ca793275232f325f91c": {
          "model_module": "@jupyter-widgets/controls",
          "model_name": "DescriptionStyleModel",
          "model_module_version": "1.5.0",
          "state": {
            "_model_module": "@jupyter-widgets/controls",
            "_model_module_version": "1.5.0",
            "_model_name": "DescriptionStyleModel",
            "_view_count": null,
            "_view_module": "@jupyter-widgets/base",
            "_view_module_version": "1.2.0",
            "_view_name": "StyleView",
            "description_width": ""
          }
        },
        "01b51e934c704450982ff5fb981e8502": {
          "model_module": "@jupyter-widgets/controls",
          "model_name": "HBoxModel",
          "model_module_version": "1.5.0",
          "state": {
            "_dom_classes": [],
            "_model_module": "@jupyter-widgets/controls",
            "_model_module_version": "1.5.0",
            "_model_name": "HBoxModel",
            "_view_count": null,
            "_view_module": "@jupyter-widgets/controls",
            "_view_module_version": "1.5.0",
            "_view_name": "HBoxView",
            "box_style": "",
            "children": [
              "IPY_MODEL_38a0fd47679749adbb2ec1dc53767fd9",
              "IPY_MODEL_04d06e1f6a7b4d508b4b48651d2d6be0",
              "IPY_MODEL_b2e04d5ae1cc4ce98ed80b6aaab4d1ad"
            ],
            "layout": "IPY_MODEL_fd5efca278ac4bc2a5031fe84c3b471a"
          }
        },
        "38a0fd47679749adbb2ec1dc53767fd9": {
          "model_module": "@jupyter-widgets/controls",
          "model_name": "HTMLModel",
          "model_module_version": "1.5.0",
          "state": {
            "_dom_classes": [],
            "_model_module": "@jupyter-widgets/controls",
            "_model_module_version": "1.5.0",
            "_model_name": "HTMLModel",
            "_view_count": null,
            "_view_module": "@jupyter-widgets/controls",
            "_view_module_version": "1.5.0",
            "_view_name": "HTMLView",
            "description": "",
            "description_tooltip": null,
            "layout": "IPY_MODEL_01bc5674c9784988b817cdd4e4a9cdcb",
            "placeholder": "​",
            "style": "IPY_MODEL_fcde2af92d3d403d944f28d3e7b19b0f",
            "value": "Generating train split: 100%"
          }
        },
        "04d06e1f6a7b4d508b4b48651d2d6be0": {
          "model_module": "@jupyter-widgets/controls",
          "model_name": "FloatProgressModel",
          "model_module_version": "1.5.0",
          "state": {
            "_dom_classes": [],
            "_model_module": "@jupyter-widgets/controls",
            "_model_module_version": "1.5.0",
            "_model_name": "FloatProgressModel",
            "_view_count": null,
            "_view_module": "@jupyter-widgets/controls",
            "_view_module_version": "1.5.0",
            "_view_name": "ProgressView",
            "bar_style": "success",
            "description": "",
            "description_tooltip": null,
            "layout": "IPY_MODEL_e3cecadfed1f416c880c9466e5dce4af",
            "max": 120000,
            "min": 0,
            "orientation": "horizontal",
            "style": "IPY_MODEL_c0f898b409ce4506a890a16905d54c04",
            "value": 120000
          }
        },
        "b2e04d5ae1cc4ce98ed80b6aaab4d1ad": {
          "model_module": "@jupyter-widgets/controls",
          "model_name": "HTMLModel",
          "model_module_version": "1.5.0",
          "state": {
            "_dom_classes": [],
            "_model_module": "@jupyter-widgets/controls",
            "_model_module_version": "1.5.0",
            "_model_name": "HTMLModel",
            "_view_count": null,
            "_view_module": "@jupyter-widgets/controls",
            "_view_module_version": "1.5.0",
            "_view_name": "HTMLView",
            "description": "",
            "description_tooltip": null,
            "layout": "IPY_MODEL_20ae7e74d83a4ed292f940e025fe6d8b",
            "placeholder": "​",
            "style": "IPY_MODEL_0f2dd44dcd5e4ea19ea5addf0be3324b",
            "value": " 120000/120000 [00:00&lt;00:00, 204934.57 examples/s]"
          }
        },
        "fd5efca278ac4bc2a5031fe84c3b471a": {
          "model_module": "@jupyter-widgets/base",
          "model_name": "LayoutModel",
          "model_module_version": "1.2.0",
          "state": {
            "_model_module": "@jupyter-widgets/base",
            "_model_module_version": "1.2.0",
            "_model_name": "LayoutModel",
            "_view_count": null,
            "_view_module": "@jupyter-widgets/base",
            "_view_module_version": "1.2.0",
            "_view_name": "LayoutView",
            "align_content": null,
            "align_items": null,
            "align_self": null,
            "border": null,
            "bottom": null,
            "display": null,
            "flex": null,
            "flex_flow": null,
            "grid_area": null,
            "grid_auto_columns": null,
            "grid_auto_flow": null,
            "grid_auto_rows": null,
            "grid_column": null,
            "grid_gap": null,
            "grid_row": null,
            "grid_template_areas": null,
            "grid_template_columns": null,
            "grid_template_rows": null,
            "height": null,
            "justify_content": null,
            "justify_items": null,
            "left": null,
            "margin": null,
            "max_height": null,
            "max_width": null,
            "min_height": null,
            "min_width": null,
            "object_fit": null,
            "object_position": null,
            "order": null,
            "overflow": null,
            "overflow_x": null,
            "overflow_y": null,
            "padding": null,
            "right": null,
            "top": null,
            "visibility": null,
            "width": null
          }
        },
        "01bc5674c9784988b817cdd4e4a9cdcb": {
          "model_module": "@jupyter-widgets/base",
          "model_name": "LayoutModel",
          "model_module_version": "1.2.0",
          "state": {
            "_model_module": "@jupyter-widgets/base",
            "_model_module_version": "1.2.0",
            "_model_name": "LayoutModel",
            "_view_count": null,
            "_view_module": "@jupyter-widgets/base",
            "_view_module_version": "1.2.0",
            "_view_name": "LayoutView",
            "align_content": null,
            "align_items": null,
            "align_self": null,
            "border": null,
            "bottom": null,
            "display": null,
            "flex": null,
            "flex_flow": null,
            "grid_area": null,
            "grid_auto_columns": null,
            "grid_auto_flow": null,
            "grid_auto_rows": null,
            "grid_column": null,
            "grid_gap": null,
            "grid_row": null,
            "grid_template_areas": null,
            "grid_template_columns": null,
            "grid_template_rows": null,
            "height": null,
            "justify_content": null,
            "justify_items": null,
            "left": null,
            "margin": null,
            "max_height": null,
            "max_width": null,
            "min_height": null,
            "min_width": null,
            "object_fit": null,
            "object_position": null,
            "order": null,
            "overflow": null,
            "overflow_x": null,
            "overflow_y": null,
            "padding": null,
            "right": null,
            "top": null,
            "visibility": null,
            "width": null
          }
        },
        "fcde2af92d3d403d944f28d3e7b19b0f": {
          "model_module": "@jupyter-widgets/controls",
          "model_name": "DescriptionStyleModel",
          "model_module_version": "1.5.0",
          "state": {
            "_model_module": "@jupyter-widgets/controls",
            "_model_module_version": "1.5.0",
            "_model_name": "DescriptionStyleModel",
            "_view_count": null,
            "_view_module": "@jupyter-widgets/base",
            "_view_module_version": "1.2.0",
            "_view_name": "StyleView",
            "description_width": ""
          }
        },
        "e3cecadfed1f416c880c9466e5dce4af": {
          "model_module": "@jupyter-widgets/base",
          "model_name": "LayoutModel",
          "model_module_version": "1.2.0",
          "state": {
            "_model_module": "@jupyter-widgets/base",
            "_model_module_version": "1.2.0",
            "_model_name": "LayoutModel",
            "_view_count": null,
            "_view_module": "@jupyter-widgets/base",
            "_view_module_version": "1.2.0",
            "_view_name": "LayoutView",
            "align_content": null,
            "align_items": null,
            "align_self": null,
            "border": null,
            "bottom": null,
            "display": null,
            "flex": null,
            "flex_flow": null,
            "grid_area": null,
            "grid_auto_columns": null,
            "grid_auto_flow": null,
            "grid_auto_rows": null,
            "grid_column": null,
            "grid_gap": null,
            "grid_row": null,
            "grid_template_areas": null,
            "grid_template_columns": null,
            "grid_template_rows": null,
            "height": null,
            "justify_content": null,
            "justify_items": null,
            "left": null,
            "margin": null,
            "max_height": null,
            "max_width": null,
            "min_height": null,
            "min_width": null,
            "object_fit": null,
            "object_position": null,
            "order": null,
            "overflow": null,
            "overflow_x": null,
            "overflow_y": null,
            "padding": null,
            "right": null,
            "top": null,
            "visibility": null,
            "width": null
          }
        },
        "c0f898b409ce4506a890a16905d54c04": {
          "model_module": "@jupyter-widgets/controls",
          "model_name": "ProgressStyleModel",
          "model_module_version": "1.5.0",
          "state": {
            "_model_module": "@jupyter-widgets/controls",
            "_model_module_version": "1.5.0",
            "_model_name": "ProgressStyleModel",
            "_view_count": null,
            "_view_module": "@jupyter-widgets/base",
            "_view_module_version": "1.2.0",
            "_view_name": "StyleView",
            "bar_color": null,
            "description_width": ""
          }
        },
        "20ae7e74d83a4ed292f940e025fe6d8b": {
          "model_module": "@jupyter-widgets/base",
          "model_name": "LayoutModel",
          "model_module_version": "1.2.0",
          "state": {
            "_model_module": "@jupyter-widgets/base",
            "_model_module_version": "1.2.0",
            "_model_name": "LayoutModel",
            "_view_count": null,
            "_view_module": "@jupyter-widgets/base",
            "_view_module_version": "1.2.0",
            "_view_name": "LayoutView",
            "align_content": null,
            "align_items": null,
            "align_self": null,
            "border": null,
            "bottom": null,
            "display": null,
            "flex": null,
            "flex_flow": null,
            "grid_area": null,
            "grid_auto_columns": null,
            "grid_auto_flow": null,
            "grid_auto_rows": null,
            "grid_column": null,
            "grid_gap": null,
            "grid_row": null,
            "grid_template_areas": null,
            "grid_template_columns": null,
            "grid_template_rows": null,
            "height": null,
            "justify_content": null,
            "justify_items": null,
            "left": null,
            "margin": null,
            "max_height": null,
            "max_width": null,
            "min_height": null,
            "min_width": null,
            "object_fit": null,
            "object_position": null,
            "order": null,
            "overflow": null,
            "overflow_x": null,
            "overflow_y": null,
            "padding": null,
            "right": null,
            "top": null,
            "visibility": null,
            "width": null
          }
        },
        "0f2dd44dcd5e4ea19ea5addf0be3324b": {
          "model_module": "@jupyter-widgets/controls",
          "model_name": "DescriptionStyleModel",
          "model_module_version": "1.5.0",
          "state": {
            "_model_module": "@jupyter-widgets/controls",
            "_model_module_version": "1.5.0",
            "_model_name": "DescriptionStyleModel",
            "_view_count": null,
            "_view_module": "@jupyter-widgets/base",
            "_view_module_version": "1.2.0",
            "_view_name": "StyleView",
            "description_width": ""
          }
        },
        "435ae9a501b8446e8e606b57fd063a95": {
          "model_module": "@jupyter-widgets/controls",
          "model_name": "HBoxModel",
          "model_module_version": "1.5.0",
          "state": {
            "_dom_classes": [],
            "_model_module": "@jupyter-widgets/controls",
            "_model_module_version": "1.5.0",
            "_model_name": "HBoxModel",
            "_view_count": null,
            "_view_module": "@jupyter-widgets/controls",
            "_view_module_version": "1.5.0",
            "_view_name": "HBoxView",
            "box_style": "",
            "children": [
              "IPY_MODEL_800cc9a2e5ba410095399b6dec49bef8",
              "IPY_MODEL_3ac6189fabe044a9b445383357d9f0fb",
              "IPY_MODEL_42c7e8fe8d1547038acf4fadefe6cde4"
            ],
            "layout": "IPY_MODEL_3482f6f238c44ddaaf5c29183da68fd1"
          }
        },
        "800cc9a2e5ba410095399b6dec49bef8": {
          "model_module": "@jupyter-widgets/controls",
          "model_name": "HTMLModel",
          "model_module_version": "1.5.0",
          "state": {
            "_dom_classes": [],
            "_model_module": "@jupyter-widgets/controls",
            "_model_module_version": "1.5.0",
            "_model_name": "HTMLModel",
            "_view_count": null,
            "_view_module": "@jupyter-widgets/controls",
            "_view_module_version": "1.5.0",
            "_view_name": "HTMLView",
            "description": "",
            "description_tooltip": null,
            "layout": "IPY_MODEL_7bf6449239b14ac1a3cae996a89a3f36",
            "placeholder": "​",
            "style": "IPY_MODEL_2f8448c910904ee089872f3f80ec8592",
            "value": "Generating test split: 100%"
          }
        },
        "3ac6189fabe044a9b445383357d9f0fb": {
          "model_module": "@jupyter-widgets/controls",
          "model_name": "FloatProgressModel",
          "model_module_version": "1.5.0",
          "state": {
            "_dom_classes": [],
            "_model_module": "@jupyter-widgets/controls",
            "_model_module_version": "1.5.0",
            "_model_name": "FloatProgressModel",
            "_view_count": null,
            "_view_module": "@jupyter-widgets/controls",
            "_view_module_version": "1.5.0",
            "_view_name": "ProgressView",
            "bar_style": "success",
            "description": "",
            "description_tooltip": null,
            "layout": "IPY_MODEL_3557d1ef552741c0acc4679f72f3318c",
            "max": 7600,
            "min": 0,
            "orientation": "horizontal",
            "style": "IPY_MODEL_8313269f66894a718d087492dc2aae5a",
            "value": 7600
          }
        },
        "42c7e8fe8d1547038acf4fadefe6cde4": {
          "model_module": "@jupyter-widgets/controls",
          "model_name": "HTMLModel",
          "model_module_version": "1.5.0",
          "state": {
            "_dom_classes": [],
            "_model_module": "@jupyter-widgets/controls",
            "_model_module_version": "1.5.0",
            "_model_name": "HTMLModel",
            "_view_count": null,
            "_view_module": "@jupyter-widgets/controls",
            "_view_module_version": "1.5.0",
            "_view_name": "HTMLView",
            "description": "",
            "description_tooltip": null,
            "layout": "IPY_MODEL_8910018ad86d47d1a95df0d3c1a558e5",
            "placeholder": "​",
            "style": "IPY_MODEL_acbdcafdbce14616a6b6103fda52dd3b",
            "value": " 7600/7600 [00:00&lt;00:00, 114175.69 examples/s]"
          }
        },
        "3482f6f238c44ddaaf5c29183da68fd1": {
          "model_module": "@jupyter-widgets/base",
          "model_name": "LayoutModel",
          "model_module_version": "1.2.0",
          "state": {
            "_model_module": "@jupyter-widgets/base",
            "_model_module_version": "1.2.0",
            "_model_name": "LayoutModel",
            "_view_count": null,
            "_view_module": "@jupyter-widgets/base",
            "_view_module_version": "1.2.0",
            "_view_name": "LayoutView",
            "align_content": null,
            "align_items": null,
            "align_self": null,
            "border": null,
            "bottom": null,
            "display": null,
            "flex": null,
            "flex_flow": null,
            "grid_area": null,
            "grid_auto_columns": null,
            "grid_auto_flow": null,
            "grid_auto_rows": null,
            "grid_column": null,
            "grid_gap": null,
            "grid_row": null,
            "grid_template_areas": null,
            "grid_template_columns": null,
            "grid_template_rows": null,
            "height": null,
            "justify_content": null,
            "justify_items": null,
            "left": null,
            "margin": null,
            "max_height": null,
            "max_width": null,
            "min_height": null,
            "min_width": null,
            "object_fit": null,
            "object_position": null,
            "order": null,
            "overflow": null,
            "overflow_x": null,
            "overflow_y": null,
            "padding": null,
            "right": null,
            "top": null,
            "visibility": null,
            "width": null
          }
        },
        "7bf6449239b14ac1a3cae996a89a3f36": {
          "model_module": "@jupyter-widgets/base",
          "model_name": "LayoutModel",
          "model_module_version": "1.2.0",
          "state": {
            "_model_module": "@jupyter-widgets/base",
            "_model_module_version": "1.2.0",
            "_model_name": "LayoutModel",
            "_view_count": null,
            "_view_module": "@jupyter-widgets/base",
            "_view_module_version": "1.2.0",
            "_view_name": "LayoutView",
            "align_content": null,
            "align_items": null,
            "align_self": null,
            "border": null,
            "bottom": null,
            "display": null,
            "flex": null,
            "flex_flow": null,
            "grid_area": null,
            "grid_auto_columns": null,
            "grid_auto_flow": null,
            "grid_auto_rows": null,
            "grid_column": null,
            "grid_gap": null,
            "grid_row": null,
            "grid_template_areas": null,
            "grid_template_columns": null,
            "grid_template_rows": null,
            "height": null,
            "justify_content": null,
            "justify_items": null,
            "left": null,
            "margin": null,
            "max_height": null,
            "max_width": null,
            "min_height": null,
            "min_width": null,
            "object_fit": null,
            "object_position": null,
            "order": null,
            "overflow": null,
            "overflow_x": null,
            "overflow_y": null,
            "padding": null,
            "right": null,
            "top": null,
            "visibility": null,
            "width": null
          }
        },
        "2f8448c910904ee089872f3f80ec8592": {
          "model_module": "@jupyter-widgets/controls",
          "model_name": "DescriptionStyleModel",
          "model_module_version": "1.5.0",
          "state": {
            "_model_module": "@jupyter-widgets/controls",
            "_model_module_version": "1.5.0",
            "_model_name": "DescriptionStyleModel",
            "_view_count": null,
            "_view_module": "@jupyter-widgets/base",
            "_view_module_version": "1.2.0",
            "_view_name": "StyleView",
            "description_width": ""
          }
        },
        "3557d1ef552741c0acc4679f72f3318c": {
          "model_module": "@jupyter-widgets/base",
          "model_name": "LayoutModel",
          "model_module_version": "1.2.0",
          "state": {
            "_model_module": "@jupyter-widgets/base",
            "_model_module_version": "1.2.0",
            "_model_name": "LayoutModel",
            "_view_count": null,
            "_view_module": "@jupyter-widgets/base",
            "_view_module_version": "1.2.0",
            "_view_name": "LayoutView",
            "align_content": null,
            "align_items": null,
            "align_self": null,
            "border": null,
            "bottom": null,
            "display": null,
            "flex": null,
            "flex_flow": null,
            "grid_area": null,
            "grid_auto_columns": null,
            "grid_auto_flow": null,
            "grid_auto_rows": null,
            "grid_column": null,
            "grid_gap": null,
            "grid_row": null,
            "grid_template_areas": null,
            "grid_template_columns": null,
            "grid_template_rows": null,
            "height": null,
            "justify_content": null,
            "justify_items": null,
            "left": null,
            "margin": null,
            "max_height": null,
            "max_width": null,
            "min_height": null,
            "min_width": null,
            "object_fit": null,
            "object_position": null,
            "order": null,
            "overflow": null,
            "overflow_x": null,
            "overflow_y": null,
            "padding": null,
            "right": null,
            "top": null,
            "visibility": null,
            "width": null
          }
        },
        "8313269f66894a718d087492dc2aae5a": {
          "model_module": "@jupyter-widgets/controls",
          "model_name": "ProgressStyleModel",
          "model_module_version": "1.5.0",
          "state": {
            "_model_module": "@jupyter-widgets/controls",
            "_model_module_version": "1.5.0",
            "_model_name": "ProgressStyleModel",
            "_view_count": null,
            "_view_module": "@jupyter-widgets/base",
            "_view_module_version": "1.2.0",
            "_view_name": "StyleView",
            "bar_color": null,
            "description_width": ""
          }
        },
        "8910018ad86d47d1a95df0d3c1a558e5": {
          "model_module": "@jupyter-widgets/base",
          "model_name": "LayoutModel",
          "model_module_version": "1.2.0",
          "state": {
            "_model_module": "@jupyter-widgets/base",
            "_model_module_version": "1.2.0",
            "_model_name": "LayoutModel",
            "_view_count": null,
            "_view_module": "@jupyter-widgets/base",
            "_view_module_version": "1.2.0",
            "_view_name": "LayoutView",
            "align_content": null,
            "align_items": null,
            "align_self": null,
            "border": null,
            "bottom": null,
            "display": null,
            "flex": null,
            "flex_flow": null,
            "grid_area": null,
            "grid_auto_columns": null,
            "grid_auto_flow": null,
            "grid_auto_rows": null,
            "grid_column": null,
            "grid_gap": null,
            "grid_row": null,
            "grid_template_areas": null,
            "grid_template_columns": null,
            "grid_template_rows": null,
            "height": null,
            "justify_content": null,
            "justify_items": null,
            "left": null,
            "margin": null,
            "max_height": null,
            "max_width": null,
            "min_height": null,
            "min_width": null,
            "object_fit": null,
            "object_position": null,
            "order": null,
            "overflow": null,
            "overflow_x": null,
            "overflow_y": null,
            "padding": null,
            "right": null,
            "top": null,
            "visibility": null,
            "width": null
          }
        },
        "acbdcafdbce14616a6b6103fda52dd3b": {
          "model_module": "@jupyter-widgets/controls",
          "model_name": "DescriptionStyleModel",
          "model_module_version": "1.5.0",
          "state": {
            "_model_module": "@jupyter-widgets/controls",
            "_model_module_version": "1.5.0",
            "_model_name": "DescriptionStyleModel",
            "_view_count": null,
            "_view_module": "@jupyter-widgets/base",
            "_view_module_version": "1.2.0",
            "_view_name": "StyleView",
            "description_width": ""
          }
        }
      }
    }
  },
  "cells": [
    {
      "cell_type": "markdown",
      "metadata": {
        "id": "view-in-github",
        "colab_type": "text"
      },
      "source": [
        "<a href=\"https://colab.research.google.com/github/Freesoul-tech/Louis-Mahobe/blob/main/LSTM35.ipynb\" target=\"_parent\"><img src=\"https://colab.research.google.com/assets/colab-badge.svg\" alt=\"Open In Colab\"/></a>"
      ]
    },
    {
      "cell_type": "code",
      "execution_count": 1,
      "metadata": {
        "id": "uWlACgymg4Kn"
      },
      "outputs": [],
      "source": [
        "import numpy as np\n",
        "import matplotlib.pyplot as plt\n",
        "from tensorflow.keras.datasets import imdb, reuters\n",
        "from tensorflow.keras.preprocessing.sequence import pad_sequences\n",
        "from tensorflow.keras.models import Sequential\n",
        "from tensorflow.keras.layers import Embedding, GRU, LSTM, Dense\n",
        "from tensorflow.keras.utils import to_categorical\n"
      ]
    },
    {
      "cell_type": "code",
      "source": [
        "max_features = 10000\n",
        "maxlen = 200\n",
        "\n",
        "(x_train_imdb, y_train_imdb), (x_test_imdb, y_test_imdb) = imdb.load_data(num_words=max_features)\n",
        "x_train_imdb = pad_sequences(x_train_imdb, maxlen=maxlen)\n",
        "x_test_imdb = pad_sequences(x_test_imdb, maxlen=maxlen)\n"
      ],
      "metadata": {
        "colab": {
          "base_uri": "https://localhost:8080/"
        },
        "id": "cMxP9dvGpAQ8",
        "outputId": "0349dd8f-758a-4894-b62f-c3afe209ddab"
      },
      "execution_count": 2,
      "outputs": [
        {
          "output_type": "stream",
          "name": "stdout",
          "text": [
            "Downloading data from https://storage.googleapis.com/tensorflow/tf-keras-datasets/imdb.npz\n",
            "\u001b[1m17464789/17464789\u001b[0m \u001b[32m━━━━━━━━━━━━━━━━━━━━\u001b[0m\u001b[37m\u001b[0m \u001b[1m0s\u001b[0m 0us/step\n"
          ]
        }
      ]
    },
    {
      "cell_type": "code",
      "source": [
        "(x_train_reuters, y_train_reuters), (x_test_reuters, y_test_reuters) = reuters.load_data(num_words=max_features)\n",
        "x_train_reuters = pad_sequences(x_train_reuters, maxlen=maxlen)\n",
        "x_test_reuters = pad_sequences(x_test_reuters, maxlen=maxlen)\n",
        "\n",
        "num_classes = np.max(y_train_reuters) + 1\n",
        "y_train_reuters = to_categorical(y_train_reuters, num_classes)\n",
        "y_test_reuters = to_categorical(y_test_reuters, num_classes)\n"
      ],
      "metadata": {
        "colab": {
          "base_uri": "https://localhost:8080/"
        },
        "id": "-GtVIAxupIm-",
        "outputId": "1b44cc57-ab05-4b34-e223-4a7e345ccbfa"
      },
      "execution_count": 3,
      "outputs": [
        {
          "output_type": "stream",
          "name": "stdout",
          "text": [
            "Downloading data from https://storage.googleapis.com/tensorflow/tf-keras-datasets/reuters.npz\n",
            "\u001b[1m2110848/2110848\u001b[0m \u001b[32m━━━━━━━━━━━━━━━━━━━━\u001b[0m\u001b[37m\u001b[0m \u001b[1m0s\u001b[0m 0us/step\n"
          ]
        }
      ]
    },
    {
      "cell_type": "code",
      "source": [
        "def build_model(cell_type='LSTM', num_classes=1):\n",
        "    model = Sequential()\n",
        "    model.add(Embedding(max_features, 128))\n",
        "    if cell_type == 'GRU':\n",
        "        model.add(GRU(64))\n",
        "    else:\n",
        "        model.add(LSTM(64))\n",
        "    model.add(Dense(num_classes, activation='sigmoid' if num_classes == 1 else 'softmax'))\n",
        "    model.compile(loss='binary_crossentropy' if num_classes == 1 else 'categorical_crossentropy',\n",
        "                  optimizer='adam', metrics=['accuracy'])\n",
        "    return model\n"
      ],
      "metadata": {
        "id": "9YVSMxQspMhs"
      },
      "execution_count": 4,
      "outputs": []
    },
    {
      "cell_type": "code",
      "source": [
        "def train_and_evaluate(cell_type, x_train, y_train, x_test, y_test, dataset_name):\n",
        "    model = build_model(cell_type, y_train.shape[1] if len(y_train.shape) > 1 else 1)\n",
        "    history = model.fit(x_train, y_train, epochs=3, batch_size=64, validation_split=0.2, verbose=0)\n",
        "    test_loss, test_acc = model.evaluate(x_test, y_test, verbose=0)\n",
        "    print(f\"{cell_type} on {dataset_name} — Accuracy: {test_acc:.4f}\")\n",
        "    return history\n"
      ],
      "metadata": {
        "id": "jMoaS10MpQy-"
      },
      "execution_count": 5,
      "outputs": []
    },
    {
      "cell_type": "code",
      "source": [
        "def plot_history(histories, title):\n",
        "    plt.figure(figsize=(10, 6))\n",
        "    for label, history in histories.items():\n",
        "        plt.plot(history.history['val_accuracy'], label=f'{label}')\n",
        "    plt.title(title)\n",
        "    plt.xlabel('Epoch')\n",
        "    plt.ylabel('Validation Accuracy')\n",
        "    plt.legend()\n",
        "    plt.grid(True)\n",
        "    plt.show()\n"
      ],
      "metadata": {
        "id": "V8blzavipVMm"
      },
      "execution_count": 6,
      "outputs": []
    },
    {
      "cell_type": "code",
      "source": [
        "histories = {}\n",
        "for cell in ['GRU', 'LSTM']:\n",
        "    histories[f'{cell}-IMDB'] = train_and_evaluate(cell, x_train_imdb, y_train_imdb, x_test_imdb, y_test_imdb, 'IMDB')\n",
        "    histories[f'{cell}-Reuters'] = train_and_evaluate(cell, x_train_reuters, y_train_reuters, x_test_reuters, y_test_reuters, 'Reuters')\n",
        "\n",
        "plot_history(histories, \"GRU vs LSTM on IMDB and Reuters\")\n"
      ],
      "metadata": {
        "colab": {
          "base_uri": "https://localhost:8080/",
          "height": 633
        },
        "id": "oip7BBJppZBk",
        "outputId": "4f3d3cc9-d603-4061-8ca2-3eb39cbe4ae1"
      },
      "execution_count": 7,
      "outputs": [
        {
          "output_type": "stream",
          "name": "stdout",
          "text": [
            "GRU on IMDB — Accuracy: 0.8573\n",
            "GRU on Reuters — Accuracy: 0.5485\n",
            "LSTM on IMDB — Accuracy: 0.8658\n",
            "LSTM on Reuters — Accuracy: 0.5445\n"
          ]
        },
        {
          "output_type": "display_data",
          "data": {
            "text/plain": [
              "<Figure size 1000x600 with 1 Axes>"
            ],
            "image/png": "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\n"
          },
          "metadata": {}
        }
      ]
    },
    {
      "cell_type": "code",
      "source": [
        "from tensorflow.keras.datasets import reuters\n",
        "(x_train, y_train), (x_test, y_test) = reuters.load_data(num_words=10000)\n",
        "\n"
      ],
      "metadata": {
        "colab": {
          "base_uri": "https://localhost:8080/"
        },
        "id": "qs3Q_yOTkRUR",
        "outputId": "7a867a9a-b11f-47d5-f4f2-9cc179f27132"
      },
      "execution_count": 1,
      "outputs": [
        {
          "output_type": "stream",
          "name": "stdout",
          "text": [
            "Downloading data from https://storage.googleapis.com/tensorflow/tf-keras-datasets/reuters.npz\n",
            "\u001b[1m2110848/2110848\u001b[0m \u001b[32m━━━━━━━━━━━━━━━━━━━━\u001b[0m\u001b[37m\u001b[0m \u001b[1m0s\u001b[0m 0us/step\n"
          ]
        }
      ]
    },
    {
      "cell_type": "code",
      "source": [
        "from tensorflow.keras.datasets import imdb\n",
        "(x_train, y_train), (x_test, y_test) = imdb.load_data(num_words=10000)\n"
      ],
      "metadata": {
        "colab": {
          "base_uri": "https://localhost:8080/"
        },
        "id": "YbRie_ctka2l",
        "outputId": "7f06fc5c-6527-4220-8eac-17bcba5b46a4"
      },
      "execution_count": 2,
      "outputs": [
        {
          "output_type": "stream",
          "name": "stdout",
          "text": [
            "Downloading data from https://storage.googleapis.com/tensorflow/tf-keras-datasets/imdb.npz\n",
            "\u001b[1m17464789/17464789\u001b[0m \u001b[32m━━━━━━━━━━━━━━━━━━━━\u001b[0m\u001b[37m\u001b[0m \u001b[1m0s\u001b[0m 0us/step\n"
          ]
        }
      ]
    },
    {
      "cell_type": "code",
      "source": [
        "from sklearn.datasets import fetch_20newsgroups\n",
        "data = fetch_20newsgroups(subset='train', remove=('headers', 'footers', 'quotes'))\n",
        "texts, labels = data.data, data.target\n"
      ],
      "metadata": {
        "id": "Pk_y7j03las1"
      },
      "execution_count": 3,
      "outputs": []
    },
    {
      "cell_type": "code",
      "metadata": {
        "colab": {
          "base_uri": "https://localhost:8080/"
        },
        "id": "f40815a8",
        "outputId": "05159546-73f6-4ccc-e3d3-3e53d51ff2cb"
      },
      "source": [
        "%pip install datasets"
      ],
      "execution_count": 5,
      "outputs": [
        {
          "output_type": "stream",
          "name": "stdout",
          "text": [
            "Requirement already satisfied: datasets in /usr/local/lib/python3.12/dist-packages (4.0.0)\n",
            "Requirement already satisfied: filelock in /usr/local/lib/python3.12/dist-packages (from datasets) (3.19.1)\n",
            "Requirement already satisfied: numpy>=1.17 in /usr/local/lib/python3.12/dist-packages (from datasets) (2.0.2)\n",
            "Requirement already satisfied: pyarrow>=15.0.0 in /usr/local/lib/python3.12/dist-packages (from datasets) (18.1.0)\n",
            "Requirement already satisfied: dill<0.3.9,>=0.3.0 in /usr/local/lib/python3.12/dist-packages (from datasets) (0.3.8)\n",
            "Requirement already satisfied: pandas in /usr/local/lib/python3.12/dist-packages (from datasets) (2.2.2)\n",
            "Requirement already satisfied: requests>=2.32.2 in /usr/local/lib/python3.12/dist-packages (from datasets) (2.32.4)\n",
            "Requirement already satisfied: tqdm>=4.66.3 in /usr/local/lib/python3.12/dist-packages (from datasets) (4.67.1)\n",
            "Requirement already satisfied: xxhash in /usr/local/lib/python3.12/dist-packages (from datasets) (3.5.0)\n",
            "Requirement already satisfied: multiprocess<0.70.17 in /usr/local/lib/python3.12/dist-packages (from datasets) (0.70.16)\n",
            "Requirement already satisfied: fsspec<=2025.3.0,>=2023.1.0 in /usr/local/lib/python3.12/dist-packages (from fsspec[http]<=2025.3.0,>=2023.1.0->datasets) (2025.3.0)\n",
            "Requirement already satisfied: huggingface-hub>=0.24.0 in /usr/local/lib/python3.12/dist-packages (from datasets) (0.34.4)\n",
            "Requirement already satisfied: packaging in /usr/local/lib/python3.12/dist-packages (from datasets) (25.0)\n",
            "Requirement already satisfied: pyyaml>=5.1 in /usr/local/lib/python3.12/dist-packages (from datasets) (6.0.2)\n",
            "Requirement already satisfied: aiohttp!=4.0.0a0,!=4.0.0a1 in /usr/local/lib/python3.12/dist-packages (from fsspec[http]<=2025.3.0,>=2023.1.0->datasets) (3.12.15)\n",
            "Requirement already satisfied: typing-extensions>=3.7.4.3 in /usr/local/lib/python3.12/dist-packages (from huggingface-hub>=0.24.0->datasets) (4.15.0)\n",
            "Requirement already satisfied: hf-xet<2.0.0,>=1.1.3 in /usr/local/lib/python3.12/dist-packages (from huggingface-hub>=0.24.0->datasets) (1.1.9)\n",
            "Requirement already satisfied: charset_normalizer<4,>=2 in /usr/local/lib/python3.12/dist-packages (from requests>=2.32.2->datasets) (3.4.3)\n",
            "Requirement already satisfied: idna<4,>=2.5 in /usr/local/lib/python3.12/dist-packages (from requests>=2.32.2->datasets) (3.10)\n",
            "Requirement already satisfied: urllib3<3,>=1.21.1 in /usr/local/lib/python3.12/dist-packages (from requests>=2.32.2->datasets) (2.5.0)\n",
            "Requirement already satisfied: certifi>=2017.4.17 in /usr/local/lib/python3.12/dist-packages (from requests>=2.32.2->datasets) (2025.8.3)\n",
            "Requirement already satisfied: python-dateutil>=2.8.2 in /usr/local/lib/python3.12/dist-packages (from pandas->datasets) (2.9.0.post0)\n",
            "Requirement already satisfied: pytz>=2020.1 in /usr/local/lib/python3.12/dist-packages (from pandas->datasets) (2025.2)\n",
            "Requirement already satisfied: tzdata>=2022.7 in /usr/local/lib/python3.12/dist-packages (from pandas->datasets) (2025.2)\n",
            "Requirement already satisfied: aiohappyeyeballs>=2.5.0 in /usr/local/lib/python3.12/dist-packages (from aiohttp!=4.0.0a0,!=4.0.0a1->fsspec[http]<=2025.3.0,>=2023.1.0->datasets) (2.6.1)\n",
            "Requirement already satisfied: aiosignal>=1.4.0 in /usr/local/lib/python3.12/dist-packages (from aiohttp!=4.0.0a0,!=4.0.0a1->fsspec[http]<=2025.3.0,>=2023.1.0->datasets) (1.4.0)\n",
            "Requirement already satisfied: attrs>=17.3.0 in /usr/local/lib/python3.12/dist-packages (from aiohttp!=4.0.0a0,!=4.0.0a1->fsspec[http]<=2025.3.0,>=2023.1.0->datasets) (25.3.0)\n",
            "Requirement already satisfied: frozenlist>=1.1.1 in /usr/local/lib/python3.12/dist-packages (from aiohttp!=4.0.0a0,!=4.0.0a1->fsspec[http]<=2025.3.0,>=2023.1.0->datasets) (1.7.0)\n",
            "Requirement already satisfied: multidict<7.0,>=4.5 in /usr/local/lib/python3.12/dist-packages (from aiohttp!=4.0.0a0,!=4.0.0a1->fsspec[http]<=2025.3.0,>=2023.1.0->datasets) (6.6.4)\n",
            "Requirement already satisfied: propcache>=0.2.0 in /usr/local/lib/python3.12/dist-packages (from aiohttp!=4.0.0a0,!=4.0.0a1->fsspec[http]<=2025.3.0,>=2023.1.0->datasets) (0.3.2)\n",
            "Requirement already satisfied: yarl<2.0,>=1.17.0 in /usr/local/lib/python3.12/dist-packages (from aiohttp!=4.0.0a0,!=4.0.0a1->fsspec[http]<=2025.3.0,>=2023.1.0->datasets) (1.20.1)\n",
            "Requirement already satisfied: six>=1.5 in /usr/local/lib/python3.12/dist-packages (from python-dateutil>=2.8.2->pandas->datasets) (1.17.0)\n"
          ]
        }
      ]
    },
    {
      "cell_type": "code",
      "metadata": {
        "colab": {
          "base_uri": "https://localhost:8080/",
          "height": 301,
          "referenced_widgets": [
            "89cddc1768524d8883bbe9c374b42c86",
            "7fdf2a094a4743f6ad2c0260899eafa8",
            "030cd1f779bf44d79bf25a8d3c939246",
            "441bceb6c4b34280b8de661bffac0edc",
            "7ad4cd8c90f6494a856caaab41372bd3",
            "9e9ec5cca2424824a878124c2620c81d",
            "c2d2607f5da24ae48962a52387114f73",
            "012994daf06849f3a2d9a861e722a42e",
            "f8bc6edb192641f4b6eaf8c775c4da11",
            "857099b99e9f4be7afb5f8a83440b52a",
            "37fd9c3c99da445cb04376f806c25107",
            "65b1214ca4124203806cc6f95dd87860",
            "b88112e499ea4080af4d8d51f144b948",
            "ecb39c8551ef4e9583ba53d7fd11b603",
            "cdb9e8b819ee428ba239a71285942358",
            "a7ef906edd124d0e827593ad6bedb62f",
            "26663e5f7028432880325011a03f871f",
            "b97303c750134e558ba6e5c618069842",
            "62bcdc3724944614ba68cc5914476f37",
            "bbff4aa0c6bd4acfaac1980a6b792e51",
            "2ae871e5f720495e9653974e06e717bd",
            "d50ac8c295554e729ad12707efe7b639",
            "0c9effa4f2c742baacfaf85113ad6b17",
            "5693cdbad1ab4749b10fbb3c41a2a879",
            "1595893cb1b64dc1b0527e5fdf4bc8ed",
            "3da2313201d249dcbac98dd4c4526666",
            "76bdcd83f1664af081bf11ee76f41a8b",
            "33c84344728e4658b6015e78ec36c5a7",
            "c0ad2c2075cd4d1bb5643fd8eaff3d06",
            "3eaaf2f8924342c6a4e30d049e869c85",
            "959731299eb644bbaa07c21fcec747ae",
            "1ad75c7ab0144c69913bb0a8ffe77ffa",
            "21f1db4b91754ca793275232f325f91c",
            "01b51e934c704450982ff5fb981e8502",
            "38a0fd47679749adbb2ec1dc53767fd9",
            "04d06e1f6a7b4d508b4b48651d2d6be0",
            "b2e04d5ae1cc4ce98ed80b6aaab4d1ad",
            "fd5efca278ac4bc2a5031fe84c3b471a",
            "01bc5674c9784988b817cdd4e4a9cdcb",
            "fcde2af92d3d403d944f28d3e7b19b0f",
            "e3cecadfed1f416c880c9466e5dce4af",
            "c0f898b409ce4506a890a16905d54c04",
            "20ae7e74d83a4ed292f940e025fe6d8b",
            "0f2dd44dcd5e4ea19ea5addf0be3324b",
            "435ae9a501b8446e8e606b57fd063a95",
            "800cc9a2e5ba410095399b6dec49bef8",
            "3ac6189fabe044a9b445383357d9f0fb",
            "42c7e8fe8d1547038acf4fadefe6cde4",
            "3482f6f238c44ddaaf5c29183da68fd1",
            "7bf6449239b14ac1a3cae996a89a3f36",
            "2f8448c910904ee089872f3f80ec8592",
            "3557d1ef552741c0acc4679f72f3318c",
            "8313269f66894a718d087492dc2aae5a",
            "8910018ad86d47d1a95df0d3c1a558e5",
            "acbdcafdbce14616a6b6103fda52dd3b"
          ]
        },
        "id": "ce2a012b",
        "outputId": "a91f5009-74dc-494e-9592-d2e7ab2f07bd"
      },
      "source": [
        "from datasets import load_dataset\n",
        "\n",
        "dataset = load_dataset(\"ag_news\")\n",
        "train_dataset = dataset['train']\n",
        "test_dataset = dataset['test']\n",
        "\n",
        "# Accessing the data\n",
        "texts_train = train_dataset['text']\n",
        "labels_train = train_dataset['label']\n",
        "texts_test = test_dataset['text']\n",
        "labels_test = test_dataset['label']"
      ],
      "execution_count": 6,
      "outputs": [
        {
          "output_type": "stream",
          "name": "stderr",
          "text": [
            "/usr/local/lib/python3.12/dist-packages/huggingface_hub/utils/_auth.py:94: UserWarning: \n",
            "The secret `HF_TOKEN` does not exist in your Colab secrets.\n",
            "To authenticate with the Hugging Face Hub, create a token in your settings tab (https://huggingface.co/settings/tokens), set it as secret in your Google Colab and restart your session.\n",
            "You will be able to reuse this secret in all of your notebooks.\n",
            "Please note that authentication is recommended but still optional to access public models or datasets.\n",
            "  warnings.warn(\n"
          ]
        },
        {
          "output_type": "display_data",
          "data": {
            "text/plain": [
              "README.md: 0.00B [00:00, ?B/s]"
            ],
            "application/vnd.jupyter.widget-view+json": {
              "version_major": 2,
              "version_minor": 0,
              "model_id": "89cddc1768524d8883bbe9c374b42c86"
            }
          },
          "metadata": {}
        },
        {
          "output_type": "display_data",
          "data": {
            "text/plain": [
              "train-00000-of-00001.parquet:   0%|          | 0.00/18.6M [00:00<?, ?B/s]"
            ],
            "application/vnd.jupyter.widget-view+json": {
              "version_major": 2,
              "version_minor": 0,
              "model_id": "65b1214ca4124203806cc6f95dd87860"
            }
          },
          "metadata": {}
        },
        {
          "output_type": "display_data",
          "data": {
            "text/plain": [
              "test-00000-of-00001.parquet:   0%|          | 0.00/1.23M [00:00<?, ?B/s]"
            ],
            "application/vnd.jupyter.widget-view+json": {
              "version_major": 2,
              "version_minor": 0,
              "model_id": "0c9effa4f2c742baacfaf85113ad6b17"
            }
          },
          "metadata": {}
        },
        {
          "output_type": "display_data",
          "data": {
            "text/plain": [
              "Generating train split:   0%|          | 0/120000 [00:00<?, ? examples/s]"
            ],
            "application/vnd.jupyter.widget-view+json": {
              "version_major": 2,
              "version_minor": 0,
              "model_id": "01b51e934c704450982ff5fb981e8502"
            }
          },
          "metadata": {}
        },
        {
          "output_type": "display_data",
          "data": {
            "text/plain": [
              "Generating test split:   0%|          | 0/7600 [00:00<?, ? examples/s]"
            ],
            "application/vnd.jupyter.widget-view+json": {
              "version_major": 2,
              "version_minor": 0,
              "model_id": "435ae9a501b8446e8e606b57fd063a95"
            }
          },
          "metadata": {}
        }
      ]
    },
    {
      "cell_type": "code",
      "source": [
        "import numpy as np\n",
        "import matplotlib.pyplot as plt\n",
        "from tensorflow.keras.preprocessing.sequence import pad_sequences\n",
        "from tensorflow.keras.models import Sequential\n",
        "from tensorflow.keras.layers import Embedding, GRU, LSTM, Dense\n",
        "from tensorflow.keras.utils import to_categorical\n",
        "from datasets import load_dataset\n"
      ],
      "metadata": {
        "id": "98l4Vo4imFiE"
      },
      "execution_count": 7,
      "outputs": []
    },
    {
      "cell_type": "code",
      "source": [
        "def load_keras_dataset(name, max_features=10000, maxlen=200):\n",
        "    if name == \"imdb\":\n",
        "        from tensorflow.keras.datasets import imdb\n",
        "        (x_train, y_train), (x_test, y_test) = imdb.load_data(num_words=max_features)\n",
        "        num_classes = 1\n",
        "    elif name == \"reuters\":\n",
        "        from tensorflow.keras.datasets import reuters\n",
        "        (x_train, y_train), (x_test, y_test) = reuters.load_data(num_words=max_features)\n",
        "        num_classes = np.max(y_train) + 1\n",
        "        y_train = to_categorical(y_train, num_classes)\n",
        "        y_test = to_categorical(y_test, num_classes)\n",
        "    x_train = pad_sequences(x_train, maxlen=maxlen)\n",
        "    x_test = pad_sequences(x_test, maxlen=maxlen)\n",
        "    return x_train, y_train, x_test, y_test, num_classes\n"
      ],
      "metadata": {
        "id": "A9oawI3xmHvO"
      },
      "execution_count": 8,
      "outputs": []
    },
    {
      "cell_type": "code",
      "source": [
        "def load_ag_news(max_features=10000, maxlen=200):\n",
        "    dataset = load_dataset(\"ag_news\")\n",
        "    from tensorflow.keras.preprocessing.text import Tokenizer\n",
        "    tokenizer = Tokenizer(num_words=max_features)\n",
        "    tokenizer.fit_on_texts(dataset['train']['text'])\n",
        "\n",
        "    x_train = tokenizer.texts_to_sequences(dataset['train']['text'])\n",
        "    x_test = tokenizer.texts_to_sequences(dataset['test']['text'])\n",
        "    x_train = pad_sequences(x_train, maxlen=maxlen)\n",
        "    x_test = pad_sequences(x_test, maxlen=maxlen)\n",
        "\n",
        "    y_train = to_categorical(dataset['train']['label'], num_classes=4)\n",
        "    y_test = to_categorical(dataset['test']['label'], num_classes=4)\n",
        "    return x_train, y_train, x_test, y_test, 4\n"
      ],
      "metadata": {
        "id": "C_VyZdksmKKv"
      },
      "execution_count": 9,
      "outputs": []
    },
    {
      "cell_type": "code",
      "source": [
        "def build_model(cell_type='LSTM', num_classes=1, max_features=10000):\n",
        "    model = Sequential()\n",
        "    model.add(Embedding(max_features, 128))\n",
        "    if cell_type == 'GRU':\n",
        "        model.add(GRU(64))\n",
        "    else:\n",
        "        model.add(LSTM(64))\n",
        "    model.add(Dense(num_classes, activation='sigmoid' if num_classes == 1 else 'softmax'))\n",
        "    model.compile(loss='binary_crossentropy' if num_classes == 1 else 'categorical_crossentropy',\n",
        "                  optimizer='adam', metrics=['accuracy'])\n",
        "    return model\n"
      ],
      "metadata": {
        "id": "C2DLlmPlmNTn"
      },
      "execution_count": 10,
      "outputs": []
    },
    {
      "cell_type": "code",
      "source": [
        "def train_and_evaluate(cell_type, x_train, y_train, x_test, y_test, dataset_name):\n",
        "    model = build_model(cell_type, y_train.shape[1] if len(y_train.shape) > 1 else 1)\n",
        "    history = model.fit(x_train, y_train, epochs=3, batch_size=64, validation_split=0.2, verbose=0)\n",
        "    test_loss, test_acc = model.evaluate(x_test, y_test, verbose=0)\n",
        "    print(f\"{cell_type} on {dataset_name} — Accuracy: {test_acc:.4f}\")\n",
        "    return history\n"
      ],
      "metadata": {
        "id": "bOdi5YRqmNRG"
      },
      "execution_count": 11,
      "outputs": []
    },
    {
      "cell_type": "code",
      "source": [
        "def plot_history(histories, title):\n",
        "    plt.figure(figsize=(10, 6))\n",
        "    for label, history in histories.items():\n",
        "        plt.plot(history.history['val_accuracy'], label=label)\n",
        "    plt.title(title)\n",
        "    plt.xlabel('Epoch')\n",
        "    plt.ylabel('Validation Accuracy')\n",
        "    plt.legend()\n",
        "    plt.grid(True)\n",
        "    plt.show()\n"
      ],
      "metadata": {
        "id": "ilF0v3snmNOS"
      },
      "execution_count": 12,
      "outputs": []
    },
    {
      "cell_type": "code",
      "source": [
        "histories = {}\n",
        "\n",
        "# IMDB\n",
        "x_train, y_train, x_test, y_test, num_classes = load_keras_dataset(\"imdb\")\n",
        "for cell in ['GRU', 'LSTM']:\n",
        "    histories[f'{cell}-IMDB'] = train_and_evaluate(cell, x_train, y_train, x_test, y_test, 'IMDB')\n",
        "\n",
        "# Reuters\n",
        "x_train, y_train, x_test, y_test, num_classes = load_keras_dataset(\"reuters\")\n",
        "for cell in ['GRU', 'LSTM']:\n",
        "    histories[f'{cell}-Reuters'] = train_and_evaluate(cell, x_train, y_train, x_test, y_test, 'Reuters')\n",
        "\n",
        "# AG News\n",
        "x_train, y_train, x_test, y_test, num_classes = load_ag_news()\n",
        "for cell in ['GRU', 'LSTM']:\n",
        "    histories[f'{cell}-AGNews'] = train_and_evaluate(cell, x_train, y_train, x_test, y_test, 'AG News')\n",
        "\n",
        "plot_history(histories, \"GRU vs LSTM Across IMDB, Reuters, AG News\")\n"
      ],
      "metadata": {
        "colab": {
          "base_uri": "https://localhost:8080/",
          "height": 668
        },
        "id": "L5r4nXUBmWhR",
        "outputId": "9753c959-c72f-45f7-c266-f736afcf77de"
      },
      "execution_count": 13,
      "outputs": [
        {
          "output_type": "stream",
          "name": "stdout",
          "text": [
            "GRU on IMDB — Accuracy: 0.8597\n",
            "LSTM on IMDB — Accuracy: 0.8706\n",
            "GRU on Reuters — Accuracy: 0.5908\n",
            "LSTM on Reuters — Accuracy: 0.5392\n",
            "GRU on AG News — Accuracy: 0.9033\n",
            "LSTM on AG News — Accuracy: 0.9070\n"
          ]
        },
        {
          "output_type": "display_data",
          "data": {
            "text/plain": [
              "<Figure size 1000x600 with 1 Axes>"
            ],
            "image/png": "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\n"
          },
          "metadata": {}
        }
      ]
    },
    {
      "cell_type": "markdown",
      "source": [
        "RNN: Basically runs any RNN cell for example, SimpleRNNCell, GRUCell and LSTMCell cross time steps. This control over the cell behavior, state handling and stacking."
      ],
      "metadata": {
        "id": "fSbd_lgZndgT"
      }
    },
    {
      "cell_type": "markdown",
      "source": [
        "SimpleRNNCell: This is for light weight models mostly can me used in educational demos or short term memory limitations.\n"
      ],
      "metadata": {
        "id": "AXPK03C1ojyJ"
      }
    },
    {
      "cell_type": "markdown",
      "source": [
        "GRUCell: This is more efficient that LSTM but with fewer parameters than LSTM.Basically they A gated unit with update and reset gates."
      ],
      "metadata": {
        "id": "d9PW2fUQpPCB"
      }
    },
    {
      "cell_type": "markdown",
      "source": [
        "LSTMCell: The core unit of LSTM with input, forget, and output gates for building interpretable LSTM layers from scratch or stacking multiple cells."
      ],
      "metadata": {
        "id": "YP_AN2PdqMM-"
      }
    },
    {
      "cell_type": "markdown",
      "source": [
        "StackedRNNCells: A wrapper that stacks multiple RNN cells into one composite cell. Create deep RNNs with multiple layers of recurrence inside a single RNN wrapper."
      ],
      "metadata": {
        "id": "DauGTgMPqtuz"
      }
    }
  ]
}
