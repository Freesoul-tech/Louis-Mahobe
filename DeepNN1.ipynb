{
  "nbformat": 4,
  "nbformat_minor": 0,
  "metadata": {
    "colab": {
      "provenance": [],
      "authorship_tag": "ABX9TyP0UhB8DWCKPdWBnq7rpqee",
      "include_colab_link": true
    },
    "kernelspec": {
      "name": "python3",
      "display_name": "Python 3"
    },
    "language_info": {
      "name": "python"
    }
  },
  "cells": [
    {
      "cell_type": "markdown",
      "metadata": {
        "id": "view-in-github",
        "colab_type": "text"
      },
      "source": [
        "<a href=\"https://colab.research.google.com/github/Freesoul-tech/Louis-Mahobe/blob/main/DeepNN1.ipynb\" target=\"_parent\"><img src=\"https://colab.research.google.com/assets/colab-badge.svg\" alt=\"Open In Colab\"/></a>"
      ]
    },
    {
      "cell_type": "code",
      "execution_count": 27,
      "metadata": {
        "id": "X93DhZouX4nX"
      },
      "outputs": [],
      "source": [
        "class FC:\n",
        "    def __init__(self, n_nodes1, n_nodes2, initializer, optimizer):\n",
        "        self.W = initializer.W(n_nodes1, n_nodes2)\n",
        "        self.B = initializer.B(n_nodes2)\n",
        "        self.optimizer = optimizer\n",
        "\n",
        "    def forward(self, X):\n",
        "        self.X = X\n",
        "        A = np.dot(X, self.W) + self.B\n",
        "        return A\n",
        "\n",
        "    def backward(self, dA):\n",
        "        dW = np.dot(self.X.T, dA)\n",
        "        dB = np.sum(dA, axis=0)\n",
        "        dZ = np.dot(dA, self.W.T)\n",
        "\n",
        "        self.dW = dW\n",
        "        self.dB = dB\n",
        "        self = self.optimizer.update(self)\n",
        "        return dZ\n"
      ]
    },
    {
      "cell_type": "code",
      "source": [
        "class SimpleInitializer:\n",
        "    def __init__(self, sigma):\n",
        "        self.sigma = sigma\n",
        "\n",
        "    def W(self, n_nodes1, n_nodes2):\n",
        "        return np.random.randn(n_nodes1, n_nodes2) * self.sigma\n",
        "\n",
        "    def B(self, n_nodes2):\n",
        "        return np.zeros(n_nodes2)\n"
      ],
      "metadata": {
        "id": "5amLjMxkX-JV"
      },
      "execution_count": 28,
      "outputs": []
    },
    {
      "cell_type": "code",
      "source": [
        "class XavierInitializer:\n",
        "    def W(self, n_nodes1, n_nodes2):\n",
        "        sigma = np.sqrt(1.0 / n_nodes1)\n",
        "        return np.random.randn(n_nodes1, n_nodes2) * sigma\n",
        "\n",
        "    def B(self, n_nodes2):\n",
        "        return np.zeros(n_nodes2)\n"
      ],
      "metadata": {
        "id": "II8CTT19YGP5"
      },
      "execution_count": 29,
      "outputs": []
    },
    {
      "cell_type": "code",
      "source": [
        "class HeInitializer:\n",
        "    def W(self, n_nodes1, n_nodes2):\n",
        "        sigma = np.sqrt(2.0 / n_nodes1)\n",
        "        return np.random.randn(n_nodes1, n_nodes2) * sigma\n",
        "\n",
        "    def B(self, n_nodes2):\n",
        "        return np.zeros(n_nodes2)\n"
      ],
      "metadata": {
        "id": "uyCNTylCYJsq"
      },
      "execution_count": 30,
      "outputs": []
    },
    {
      "cell_type": "code",
      "source": [
        "class SGD:\n",
        "    def __init__(self, lr):\n",
        "        self.lr = lr\n",
        "\n",
        "    def update(self, layer):\n",
        "        layer.W -= self.lr * layer.dW\n",
        "        layer.B -= self.lr * layer.dB\n",
        "        return layer\n"
      ],
      "metadata": {
        "id": "yRvzaaVuYO3V"
      },
      "execution_count": 31,
      "outputs": []
    },
    {
      "cell_type": "code",
      "source": [
        "class AdaGrad:\n",
        "    def __init__(self, lr):\n",
        "        self.lr = lr\n",
        "        self.h_W = {}\n",
        "        self.h_B = {}\n",
        "        self.epsilon = 1e-7\n",
        "\n",
        "    def update(self, layer):\n",
        "        if layer not in self.h_W:\n",
        "            self.h_W[layer] = np.zeros_like(layer.W)\n",
        "            self.h_B[layer] = np.zeros_like(layer.B)\n",
        "\n",
        "        self.h_W[layer] += layer.dW ** 2\n",
        "        self.h_B[layer] += layer.dB ** 2\n",
        "\n",
        "        layer.W -= self.lr * layer.dW / (np.sqrt(self.h_W[layer]) + self.epsilon)\n",
        "        layer.B -= self.lr * layer.dB / (np.sqrt(self.h_B[layer]) + self.epsilon)\n",
        "        return layer\n"
      ],
      "metadata": {
        "id": "oQhJNRs4Zann"
      },
      "execution_count": 32,
      "outputs": []
    },
    {
      "cell_type": "code",
      "source": [
        "class ReLU:\n",
        "    def forward(self, X):\n",
        "        self.X = X\n",
        "        return np.maximum(0, X)\n",
        "\n",
        "    def backward(self, dA):\n",
        "        dZ = dA.copy()\n",
        "        dZ[self.X <= 0] = 0\n",
        "        return dZ\n",
        "\n"
      ],
      "metadata": {
        "id": "feaKDTjTYW1K"
      },
      "execution_count": 33,
      "outputs": []
    },
    {
      "cell_type": "code",
      "source": [
        "class Softmax:\n",
        "    def forward(self, X):\n",
        "        self.out = np.exp(X - np.max(X, axis=1, keepdims=True))\n",
        "        self.out /= np.sum(self.out, axis=1, keepdims=True)\n",
        "        return self.out\n",
        "\n",
        "    def backward(self, Y):\n",
        "        batch_size = Y.shape[0]\n",
        "        return (self.out - Y) / batch_size\n"
      ],
      "metadata": {
        "id": "OEssJ8jiYaBm"
      },
      "execution_count": 34,
      "outputs": []
    },
    {
      "cell_type": "code",
      "source": [
        "class ScratchDeepNeuralNetrowkClassifier:\n",
        "    def __init__(self, n_features, n_nodes1, n_nodes2, n_output, lr, initializer, optimizer):\n",
        "        self.n_features = n_features\n",
        "        self.n_nodes1 = n_nodes1\n",
        "        self.n_nodes2 = n_nodes2\n",
        "        self.n_output = n_output\n",
        "        self.lr = lr\n",
        "\n",
        "        self.optimizer_instance = optimizer(self.lr)\n",
        "\n",
        "        self.FC1 = FC(n_features, n_nodes1, initializer, self.optimizer_instance)\n",
        "        self.activation1 = ReLU() # Create a separate instance for the first layer\n",
        "        self.FC2 = FC(n_nodes1, n_nodes2, initializer, self.optimizer_instance)\n",
        "        self.activation2 = ReLU() # Create a separate instance for the second layer\n",
        "        self.FC3 = FC(n_nodes2, n_output, initializer, self.optimizer_instance)\n",
        "        self.activation3 = Softmax()\n",
        "\n",
        "    def fit(self, X, Y, epochs, X_val=None, Y_val=None):\n",
        "        self.train_loss = []\n",
        "        self.val_accuracy = []\n",
        "\n",
        "        for _ in range(epochs):\n",
        "            # Forward\n",
        "            A1 = self.FC1.forward(X)\n",
        "            Z1 = self.activation1.forward(A1)\n",
        "            A2 = self.FC2.forward(Z1)\n",
        "            Z2 = self.activation2.forward(A2)\n",
        "            A3 = self.FC3.forward(Z2)\n",
        "            Z3 = self.activation3.forward(A3)\n",
        "\n",
        "            # Loss\n",
        "            loss = -np.sum(Y * np.log(Z3 + 1e-7)) / len(Y)\n",
        "            self.train_loss.append(loss)\n",
        "\n",
        "            # Backward\n",
        "            dA3 = self.activation3.backward(Y)\n",
        "            dZ2 = self.FC3.backward(dA3)\n",
        "            dA2 = self.activation2.backward(dZ2)\n",
        "            dZ1 = self.FC2.backward(dA2)\n",
        "            dA1 = self.activation1.backward(dZ1)\n",
        "            _ = self.FC1.backward(dA1)\n",
        "\n",
        "            # Validation accuracy\n",
        "            if X_val is not None and Y_val is not None:\n",
        "                preds = self.predict(X_val)\n",
        "                acc = np.mean(np.argmax(Y_val, axis=1) == preds)\n",
        "                self.val_accuracy.append(acc)\n",
        "\n",
        "\n",
        "    def predict(self, X):\n",
        "        A1 = self.FC1.forward(X)\n",
        "        Z1 = self.activation1.forward(A1)\n",
        "        A2 = self.FC2.forward(Z1)\n",
        "        Z2 = self.activation2.forward(A2)\n",
        "        A3 = self.FC3.forward(Z2)\n",
        "        Z3 = self.activation3.forward(A3)\n",
        "        return np.argmax(Z3, axis=1)"
      ],
      "metadata": {
        "id": "sJUGWscjYfbM"
      },
      "execution_count": 35,
      "outputs": []
    },
    {
      "cell_type": "code",
      "source": [
        "from sklearn.datasets import fetch_openml\n",
        "from sklearn.model_selection import train_test_split\n",
        "from sklearn.preprocessing import OneHotEncoder\n",
        "import numpy as np\n",
        "\n",
        "# Load MNIST\n",
        "mnist = fetch_openml('mnist_784')\n",
        "X = mnist.data / 255.0\n",
        "Y = OneHotEncoder(sparse_output=False).fit_transform(mnist.target.values.reshape(-1, 1))\n",
        "\n",
        "X_train, X_test, Y_train, Y_test = train_test_split(X, Y, test_size=0.2)\n",
        "\n",
        "# Train\n",
        "model = ScratchDeepNeuralNetrowkClassifier(\n",
        "    n_features=784,\n",
        "    n_nodes1=128,\n",
        "    n_nodes2=64,\n",
        "    n_output=10,\n",
        "    lr=0.01,\n",
        "    initializer=HeInitializer(),\n",
        "    optimizer=AdaGrad\n",
        ")\n",
        "model.fit(X_train, Y_train, epochs=10)\n",
        "\n",
        "# Evaluate\n",
        "preds = model.predict(X_test)\n",
        "accuracy = np.mean(np.argmax(Y_test, axis=1) == preds)\n",
        "print(f\"Accuracy: {accuracy:.4f}\")"
      ],
      "metadata": {
        "colab": {
          "base_uri": "https://localhost:8080/"
        },
        "id": "eOr-HKZ0YkjN",
        "outputId": "2a476e6d-c984-4b12-c9ad-018b5244b040"
      },
      "execution_count": 36,
      "outputs": [
        {
          "output_type": "stream",
          "name": "stdout",
          "text": [
            "Accuracy: 0.7729\n"
          ]
        }
      ]
    },
    {
      "cell_type": "code",
      "source": [
        "def fit(self, X, Y, epochs, X_val=None, Y_val=None):\n",
        "    self.train_loss = []\n",
        "    self.val_accuracy = []\n",
        "\n",
        "    for _ in range(epochs):\n",
        "        # Forward\n",
        "        A1 = self.FC1.forward(X)\n",
        "        Z1 = self.activation1.forward(A1)\n",
        "        A2 = self.FC2.forward(Z1)\n",
        "        Z2 = self.activation2.forward(A2)\n",
        "        A3 = self.FC3.forward(Z2)\n",
        "        Z3 = self.activation3.forward(A3)\n",
        "\n",
        "        # Loss\n",
        "        loss = -np.sum(Y * np.log(Z3 + 1e-7)) / len(Y)\n",
        "        self.train_loss.append(loss)\n",
        "\n",
        "        # Backward\n",
        "        dA3 = self.activation3.backward(Y)\n",
        "        dZ2 = self.FC3.backward(dA3)\n",
        "        dA2 = self.activation2.backward(dZ2)\n",
        "        dZ1 = self.FC2.backward(dA2)\n",
        "        dA1 = self.activation1.backward(dZ1)\n",
        "        _ = self.FC1.backward(dA1)\n",
        "\n",
        "        # Validation accuracy\n",
        "        if X_val is not None and Y_val is not None:\n",
        "            preds = self.predict(X_val)\n",
        "            acc = np.mean(np.argmax(Y_val, axis=1) == preds)\n",
        "            self.val_accuracy.append(acc)\n"
      ],
      "metadata": {
        "id": "2p47Texpag5y"
      },
      "execution_count": 37,
      "outputs": []
    },
    {
      "cell_type": "code",
      "metadata": {
        "id": "19323568"
      },
      "source": [
        "class Sigmoid:\n",
        "    def forward(self, X):\n",
        "        self.out = 1 / (1 + np.exp(-X))\n",
        "        return self.out\n",
        "\n",
        "    def backward(self, dA):\n",
        "        return dA * (1.0 - self.out) * self.out"
      ],
      "execution_count": 38,
      "outputs": []
    },
    {
      "cell_type": "code",
      "source": [
        "configs = [\n",
        "    {\"name\": \"SGD + ReLU\", \"optimizer\": SGD, \"initializer\": HeInitializer(), \"activation\": ReLU},\n",
        "    {\"name\": \"AdaGrad + ReLU\", \"optimizer\": AdaGrad, \"initializer\": HeInitializer(), \"activation\": ReLU},\n",
        "    {\"name\": \"SGD + Sigmoid\", \"optimizer\": SGD, \"initializer\": XavierInitializer(), \"activation\": Sigmoid},\n",
        "]\n",
        "\n",
        "results = []\n",
        "\n",
        "for config in configs:\n",
        "    # Create a new optimizer instance for each configuration\n",
        "    optimizer_instance = config[\"optimizer\"](0.01) # Use the learning rate defined in the original code\n",
        "\n",
        "    model = ScratchDeepNeuralNetrowkClassifier(\n",
        "        n_features=784,\n",
        "        n_nodes1=128,\n",
        "        n_nodes2=64,\n",
        "        n_output=10,\n",
        "        lr=0.01,\n",
        "        initializer=config[\"initializer\"],\n",
        "        optimizer=config[\"optimizer\"] # Pass the optimizer class to the model\n",
        "    )\n",
        "    # Activation functions are now set during model initialization\n",
        "    model.fit(X_train, Y_train, epochs=10, X_val=X_test, Y_val=Y_test)\n",
        "    results.append((config[\"name\"], model.train_loss, model.val_accuracy))"
      ],
      "metadata": {
        "id": "rBO4jDnual1Y"
      },
      "execution_count": 39,
      "outputs": []
    },
    {
      "cell_type": "code",
      "source": [
        "import matplotlib.pyplot as plt\n",
        "\n",
        "plt.figure(figsize=(12, 5))\n",
        "\n",
        "# Loss\n",
        "plt.subplot(1, 2, 1)\n",
        "for name, loss, _ in results:\n",
        "    plt.plot(loss, label=name)\n",
        "plt.title(\"Training Loss\")\n",
        "plt.xlabel(\"Epoch\")\n",
        "plt.ylabel(\"Loss\")\n",
        "plt.legend()\n",
        "\n",
        "# Accuracy\n",
        "plt.subplot(1, 2, 2)\n",
        "for name, _, acc in results:\n",
        "    plt.plot(acc, label=name)\n",
        "plt.title(\"Validation Accuracy\")\n",
        "plt.xlabel(\"Epoch\")\n",
        "plt.ylabel(\"Accuracy\")\n",
        "plt.legend()\n",
        "\n",
        "plt.tight_layout()\n",
        "plt.show()\n"
      ],
      "metadata": {
        "colab": {
          "base_uri": "https://localhost:8080/",
          "height": 388
        },
        "id": "qgKP9BEzavIB",
        "outputId": "35967648-e5d9-48cd-fcde-ec5b9cf20260"
      },
      "execution_count": 40,
      "outputs": [
        {
          "output_type": "display_data",
          "data": {
            "text/plain": [
              "<Figure size 1200x500 with 2 Axes>"
            ],
            "image/png": "[encoded data removed]"
          },
          "metadata": {}
        }
      ]
    },
    {
      "cell_type": "code",
      "source": [
        "import matplotlib.pyplot as plt\n",
        "plt.imshow(X_train.iloc[0].values.reshape(28, 28), cmap='gray')\n",
        "plt.title(f\"Label: {np.argmax(Y_train[0])}\")\n",
        "plt.show()\n",
        "\n"
      ],
      "metadata": {
        "colab": {
          "base_uri": "https://localhost:8080/",
          "height": 452
        },
        "id": "tH9nqTyzzJpz",
        "outputId": "fb627251-5f40-4d63-93c0-65a34856e1a7"
      },
      "execution_count": 41,
      "outputs": [
        {
          "output_type": "display_data",
          "data": {
            "text/plain": [
              "<Figure size 640x480 with 1 Axes>"
            ],
            "image/png": "[encoded data removed]"
          },
          "metadata": {}
        }
      ]
    },
    {
      "cell_type": "code",
      "source": [
        "type(X_train)\n"
      ],
      "metadata": {
        "colab": {
          "base_uri": "https://localhost:8080/",
          "height": 204
        },
        "id": "IHCinZC20BMs",
        "outputId": "df666477-0db2-4c13-fa33-0b3a637fbc7e"
      },
      "execution_count": 42,
      "outputs": [
        {
          "output_type": "execute_result",
          "data": {
            "text/plain": [
              "pandas.core.frame.DataFrame"
            ],
            "text/html": [
              "<div style=\"max-width:800px; border: 1px solid var(--colab-border-color);\"><style>\n",
              "      pre.function-repr-contents {\n",
              "        overflow-x: auto;\n",
              "        padding: 8px 12px;\n",
              "        max-height: 500px;\n",
              "      }\n",
              "\n",
              "      pre.function-repr-contents.function-repr-contents-collapsed {\n",
              "        cursor: pointer;\n",
              "        max-height: 100px;\n",
              "      }\n",
              "    </style>\n",
              "    <pre style=\"white-space: initial; background:\n",
              "         var(--colab-secondary-surface-color); padding: 8px 12px;\n",
              "         border-bottom: 1px solid var(--colab-border-color);\"><b>pandas.core.frame.DataFrame</b><br/>def __init__(data=None, index: Axes | None=None, columns: Axes | None=None, dtype: Dtype | None=None, copy: bool | None=None) -&gt; None</pre><pre class=\"function-repr-contents function-repr-contents-collapsed\" style=\"\"><a class=\"filepath\" style=\"display:none\" href=\"#\">/usr/local/lib/python3.11/dist-packages/pandas/core/frame.py</a>Two-dimensional, size-mutable, potentially heterogeneous tabular data.\n",
              "\n",
              "Data structure also contains labeled axes (rows and columns).\n",
              "Arithmetic operations align on both row and column labels. Can be\n",
              "thought of as a dict-like container for Series objects. The primary\n",
              "pandas data structure.\n",
              "\n",
              "Parameters\n",
              "----------\n",
              "data : ndarray (structured or homogeneous), Iterable, dict, or DataFrame\n",
              "    Dict can contain Series, arrays, constants, dataclass or list-like objects. If\n",
              "    data is a dict, column order follows insertion-order. If a dict contains Series\n",
              "    which have an index defined, it is aligned by its index. This alignment also\n",
              "    occurs if data is a Series or a DataFrame itself. Alignment is done on\n",
              "    Series/DataFrame inputs.\n",
              "\n",
              "    If data is a list of dicts, column order follows insertion-order.\n",
              "\n",
              "index : Index or array-like\n",
              "    Index to use for resulting frame. Will default to RangeIndex if\n",
              "    no indexing information part of input data and no index provided.\n",
              "columns : Index or array-like\n",
              "    Column labels to use for resulting frame when data does not have them,\n",
              "    defaulting to RangeIndex(0, 1, 2, ..., n). If data contains column labels,\n",
              "    will perform column selection instead.\n",
              "dtype : dtype, default None\n",
              "    Data type to force. Only a single dtype is allowed. If None, infer.\n",
              "copy : bool or None, default None\n",
              "    Copy data from inputs.\n",
              "    For dict data, the default of None behaves like ``copy=True``.  For DataFrame\n",
              "    or 2d ndarray input, the default of None behaves like ``copy=False``.\n",
              "    If data is a dict containing one or more Series (possibly of different dtypes),\n",
              "    ``copy=False`` will ensure that these inputs are not copied.\n",
              "\n",
              "    .. versionchanged:: 1.3.0\n",
              "\n",
              "See Also\n",
              "--------\n",
              "DataFrame.from_records : Constructor from tuples, also record arrays.\n",
              "DataFrame.from_dict : From dicts of Series, arrays, or dicts.\n",
              "read_csv : Read a comma-separated values (csv) file into DataFrame.\n",
              "read_table : Read general delimited file into DataFrame.\n",
              "read_clipboard : Read text from clipboard into DataFrame.\n",
              "\n",
              "Notes\n",
              "-----\n",
              "Please reference the :ref:`User Guide &lt;basics.dataframe&gt;` for more information.\n",
              "\n",
              "Examples\n",
              "--------\n",
              "Constructing DataFrame from a dictionary.\n",
              "\n",
              "&gt;&gt;&gt; d = {&#x27;col1&#x27;: [1, 2], &#x27;col2&#x27;: [3, 4]}\n",
              "&gt;&gt;&gt; df = pd.DataFrame(data=d)\n",
              "&gt;&gt;&gt; df\n",
              "   col1  col2\n",
              "0     1     3\n",
              "1     2     4\n",
              "\n",
              "Notice that the inferred dtype is int64.\n",
              "\n",
              "&gt;&gt;&gt; df.dtypes\n",
              "col1    int64\n",
              "col2    int64\n",
              "dtype: object\n",
              "\n",
              "To enforce a single dtype:\n",
              "\n",
              "&gt;&gt;&gt; df = pd.DataFrame(data=d, dtype=np.int8)\n",
              "&gt;&gt;&gt; df.dtypes\n",
              "col1    int8\n",
              "col2    int8\n",
              "dtype: object\n",
              "\n",
              "Constructing DataFrame from a dictionary including Series:\n",
              "\n",
              "&gt;&gt;&gt; d = {&#x27;col1&#x27;: [0, 1, 2, 3], &#x27;col2&#x27;: pd.Series([2, 3], index=[2, 3])}\n",
              "&gt;&gt;&gt; pd.DataFrame(data=d, index=[0, 1, 2, 3])\n",
              "   col1  col2\n",
              "0     0   NaN\n",
              "1     1   NaN\n",
              "2     2   2.0\n",
              "3     3   3.0\n",
              "\n",
              "Constructing DataFrame from numpy ndarray:\n",
              "\n",
              "&gt;&gt;&gt; df2 = pd.DataFrame(np.array([[1, 2, 3], [4, 5, 6], [7, 8, 9]]),\n",
              "...                    columns=[&#x27;a&#x27;, &#x27;b&#x27;, &#x27;c&#x27;])\n",
              "&gt;&gt;&gt; df2\n",
              "   a  b  c\n",
              "0  1  2  3\n",
              "1  4  5  6\n",
              "2  7  8  9\n",
              "\n",
              "Constructing DataFrame from a numpy ndarray that has labeled columns:\n",
              "\n",
              "&gt;&gt;&gt; data = np.array([(1, 2, 3), (4, 5, 6), (7, 8, 9)],\n",
              "...                 dtype=[(&quot;a&quot;, &quot;i4&quot;), (&quot;b&quot;, &quot;i4&quot;), (&quot;c&quot;, &quot;i4&quot;)])\n",
              "&gt;&gt;&gt; df3 = pd.DataFrame(data, columns=[&#x27;c&#x27;, &#x27;a&#x27;])\n",
              "...\n",
              "&gt;&gt;&gt; df3\n",
              "   c  a\n",
              "0  3  1\n",
              "1  6  4\n",
              "2  9  7\n",
              "\n",
              "Constructing DataFrame from dataclass:\n",
              "\n",
              "&gt;&gt;&gt; from dataclasses import make_dataclass\n",
              "&gt;&gt;&gt; Point = make_dataclass(&quot;Point&quot;, [(&quot;x&quot;, int), (&quot;y&quot;, int)])\n",
              "&gt;&gt;&gt; pd.DataFrame([Point(0, 0), Point(0, 3), Point(2, 3)])\n",
              "   x  y\n",
              "0  0  0\n",
              "1  0  3\n",
              "2  2  3\n",
              "\n",
              "Constructing DataFrame from Series/DataFrame:\n",
              "\n",
              "&gt;&gt;&gt; ser = pd.Series([1, 2, 3], index=[&quot;a&quot;, &quot;b&quot;, &quot;c&quot;])\n",
              "&gt;&gt;&gt; df = pd.DataFrame(data=ser, index=[&quot;a&quot;, &quot;c&quot;])\n",
              "&gt;&gt;&gt; df\n",
              "   0\n",
              "a  1\n",
              "c  3\n",
              "\n",
              "&gt;&gt;&gt; df1 = pd.DataFrame([1, 2, 3], index=[&quot;a&quot;, &quot;b&quot;, &quot;c&quot;], columns=[&quot;x&quot;])\n",
              "&gt;&gt;&gt; df2 = pd.DataFrame(data=df1, index=[&quot;a&quot;, &quot;c&quot;])\n",
              "&gt;&gt;&gt; df2\n",
              "   x\n",
              "a  1\n",
              "c  3</pre>\n",
              "      <script>\n",
              "      if (google.colab.kernel.accessAllowed && google.colab.files && google.colab.files.view) {\n",
              "        for (const element of document.querySelectorAll('.filepath')) {\n",
              "          element.style.display = 'block'\n",
              "          element.onclick = (event) => {\n",
              "            event.preventDefault();\n",
              "            event.stopPropagation();\n",
              "            google.colab.files.view(element.textContent, 509);\n",
              "          };\n",
              "        }\n",
              "      }\n",
              "      for (const element of document.querySelectorAll('.function-repr-contents')) {\n",
              "        element.onclick = (event) => {\n",
              "          event.preventDefault();\n",
              "          event.stopPropagation();\n",
              "          element.classList.toggle('function-repr-contents-collapsed');\n",
              "        };\n",
              "      }\n",
              "      </script>\n",
              "      </div>"
            ]
          },
          "metadata": {},
          "execution_count": 42
        }
      ]
    },
    {
      "cell_type": "code",
      "metadata": {
        "id": "51ef58c3"
      },
      "source": [
        "class ScratchDeepNeuralNetrowkClassifier:\n",
        "    def __init__(self, n_features, n_nodes1, n_nodes2, n_output, lr, initializer, optimizer):\n",
        "        self.n_features = n_features\n",
        "        self.n_nodes1 = n_nodes1\n",
        "        self.n_nodes2 = n_nodes2\n",
        "        self.n_output = n_output\n",
        "        self.lr = lr\n",
        "\n",
        "        self.optimizer_instance = optimizer(self.lr)\n",
        "\n",
        "        self.FC1 = FC(n_features, n_nodes1, initializer, self.optimizer_instance)\n",
        "        self.activation1 = ReLU()\n",
        "        self.FC2 = FC(n_nodes1, n_nodes2, initializer, self.optimizer_instance)\n",
        "        self.activation2 = ReLU()\n",
        "        self.FC3 = FC(n_nodes2, n_output, initializer, self.optimizer_instance)\n",
        "        self.activation3 = Softmax()\n",
        "\n",
        "    def fit(self, X, Y, epochs, X_val=None, Y_val=None):\n",
        "        self.train_loss = []\n",
        "        self.val_accuracy = []\n",
        "\n",
        "        for _ in range(epochs):\n",
        "            # Forward\n",
        "            A1 = self.FC1.forward(X)\n",
        "            Z1 = self.activation1.forward(A1)\n",
        "            A2 = self.FC2.forward(Z1)\n",
        "            Z2 = self.activation2.forward(A2)\n",
        "            A3 = self.FC3.forward(Z2)\n",
        "            Z3 = self.activation3.forward(A3)\n",
        "\n",
        "            # Loss\n",
        "            loss = -np.sum(Y * np.log(Z3 + 1e-7)) / len(Y)\n",
        "            self.train_loss.append(loss)\n",
        "\n",
        "            # Backward\n",
        "            dA3 = self.activation3.backward(Y)\n",
        "            dZ2 = self.FC3.backward(dA3)\n",
        "            dA2 = self.activation2.backward(dZ2)\n",
        "            dZ1 = self.FC2.backward(dA2)\n",
        "            dA1 = self.activation1.backward(dZ1)\n",
        "            _ = self.FC1.backward(dA1)\n",
        "\n",
        "            # Validation accuracy\n",
        "            if X_val is not None and Y_val is not None:\n",
        "                preds = self.predict(X_val)\n",
        "                acc = np.mean(np.argmax(Y_val, axis=1) == preds)\n",
        "                self.val_accuracy.append(acc)\n",
        "\n",
        "\n",
        "    def predict(self, X):\n",
        "        A1 = self.FC1.forward(X)\n",
        "        Z1 = self.activation1.forward(A1)\n",
        "        A2 = self.FC2.forward(Z1)\n",
        "        Z2 = self.activation2.forward(A2)\n",
        "        A3 = self.FC3.forward(Z2)\n",
        "        Z3 = self.activation3.forward(A3)\n",
        "        return np.argmax(Z3, axis=1)"
      ],
      "execution_count": 43,
      "outputs": []
    },
    {
      "cell_type": "code",
      "source": [
        "class SGD:\n",
        "    def __init__(self, lr):\n",
        "        self.lr = lr\n",
        "\n",
        "    def update(self, layer):\n",
        "        layer.W -= self.lr * layer.dW\n",
        "        layer.B -= self.lr * layer.dB\n",
        "        return layer\n"
      ],
      "metadata": {
        "id": "yQVFEAEt1Wzk"
      },
      "execution_count": 44,
      "outputs": []
    },
    {
      "cell_type": "code",
      "source": [
        "class HeInitializer:\n",
        "    def W(self, n_nodes1, n_nodes2):\n",
        "        sigma = np.sqrt(2.0 / n_nodes1)\n",
        "        return np.random.randn(n_nodes1, n_nodes2) * sigma\n",
        "\n",
        "    def B(self, n_nodes2):\n",
        "        return np.zeros(n_nodes2)\n"
      ],
      "metadata": {
        "id": "72R5CQMy1zj_"
      },
      "execution_count": 45,
      "outputs": []
    },
    {
      "cell_type": "code",
      "source": [
        "from sklearn.datasets import fetch_openml\n",
        "from sklearn.model_selection import train_test_split\n",
        "from sklearn.preprocessing import OneHotEncoder\n",
        "import numpy as np\n",
        "import matplotlib.pyplot as plt\n",
        "\n",
        "# Load and preprocess MNIST\n",
        "mnist = fetch_openml('mnist_784')\n",
        "X = mnist.data / 255.0\n",
        "Y = OneHotEncoder(sparse_output=False).fit_transform(mnist.target.values.reshape(-1, 1))\n",
        "X_train, X_test, Y_train, Y_test = train_test_split(X, Y, test_size=0.2)\n"
      ],
      "metadata": {
        "id": "EoYOkOlO2QWV"
      },
      "execution_count": 46,
      "outputs": []
    },
    {
      "cell_type": "code",
      "source": [
        "plt.imshow(X_train.iloc[0].values.reshape(28, 28), cmap='gray')\n",
        "plt.title(f\"Label: {np.argmax(Y_train[0])}\")\n",
        "plt.show()\n"
      ],
      "metadata": {
        "colab": {
          "base_uri": "https://localhost:8080/",
          "height": 452
        },
        "id": "QullQtr52U24",
        "outputId": "369d2323-9054-4ef3-8f3c-cbaea0ecb647"
      },
      "execution_count": 47,
      "outputs": [
        {
          "output_type": "display_data",
          "data": {
            "text/plain": [
              "<Figure size 640x480 with 1 Axes>"
            ],
            "image/png": "[encoded data removed]"
          },
          "metadata": {}
        }
      ]
    },
    {
      "cell_type": "code",
      "source": [
        "class FC:\n",
        "    def __init__(self, n_nodes1, n_nodes2, initializer, optimizer):\n",
        "        self.W = initializer.W(n_nodes1, n_nodes2)\n",
        "        self.B = initializer.B(n_nodes2)\n",
        "        self.optimizer = optimizer\n",
        "\n",
        "    def forward(self, X):\n",
        "        self.X = X\n",
        "        A = np.dot(X, self.W) + self.B\n",
        "        return A\n",
        "\n",
        "    def backward(self, dA):\n",
        "        dW = np.dot(self.X.T, dA)\n",
        "        dB = np.sum(dA, axis=0)\n",
        "        dZ = np.dot(dA, self.W.T)\n",
        "        self.dW = dW\n",
        "        self.dB = dB\n",
        "        self = self.optimizer.update(self)\n",
        "        return dZ\n"
      ],
      "metadata": {
        "id": "XnErMTLb2yUm"
      },
      "execution_count": 48,
      "outputs": []
    },
    {
      "cell_type": "code",
      "source": [
        "class ReLU:\n",
        "    def forward(self, X):\n",
        "        self.X = X\n",
        "        return np.maximum(0, X)\n",
        "\n",
        "    def backward(self, dA):\n",
        "        dZ = dA.copy()\n",
        "        dZ[self.X <= 0] = 0\n",
        "        return dZ\n"
      ],
      "metadata": {
        "id": "U7wFeINH3ksQ"
      },
      "execution_count": 49,
      "outputs": []
    },
    {
      "cell_type": "code",
      "source": [
        "model = ScratchDeepNeuralNetrowkClassifier(\n",
        "    n_features=784,\n",
        "    n_nodes1=128,\n",
        "    n_nodes2=64,\n",
        "    n_output=10,\n",
        "    lr=0.01,\n",
        "    initializer=HeInitializer(),\n",
        "    optimizer=SGD\n",
        ")\n",
        "model.fit(X_train, Y_train, epochs=10, X_val=X_test, Y_val=Y_test)\n"
      ],
      "metadata": {
        "id": "fmbEJ0bu3TJM"
      },
      "execution_count": 50,
      "outputs": []
    },
    {
      "cell_type": "code",
      "source": [
        "plt.figure(figsize=(12, 5))\n",
        "\n",
        "# Loss\n",
        "plt.subplot(1, 2, 1)\n",
        "plt.plot(model.train_loss, label='SGD + He')\n",
        "plt.title(\"Training Loss\")\n",
        "plt.xlabel(\"Epoch\")\n",
        "plt.ylabel(\"Loss\")\n",
        "plt.legend()\n",
        "\n",
        "# Accuracy\n",
        "plt.subplot(1, 2, 2)\n",
        "plt.plot(model.val_accuracy, label='SGD + He')\n",
        "plt.title(\"Validation Accuracy\")\n",
        "plt.xlabel(\"Epoch\")\n",
        "plt.ylabel(\"Accuracy\")\n",
        "plt.legend()\n",
        "\n",
        "plt.tight_layout()\n",
        "plt.show()\n"
      ],
      "metadata": {
        "colab": {
          "base_uri": "https://localhost:8080/",
          "height": 388
        },
        "id": "VPwyUUUe2lI_",
        "outputId": "0f2bc334-049a-4657-f0de-f6dea9fc4c7b"
      },
      "execution_count": 51,
      "outputs": [
        {
          "output_type": "display_data",
          "data": {
            "text/plain": [
              "<Figure size 1200x500 with 2 Axes>"
            ],
            "image/png": "[encoded data removed]"
          },
          "metadata": {}
        }
      ]
    }
  ]
}