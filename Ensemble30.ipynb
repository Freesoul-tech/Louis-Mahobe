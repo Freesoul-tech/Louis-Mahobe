{
  "nbformat": 4,
  "nbformat_minor": 0,
  "metadata": {
    "colab": {
      "provenance": [],
      "authorship_tag": "ABX9TyOEFYrQFMCS0xeJMt/NTVrg",
      "include_colab_link": true
    },
    "kernelspec": {
      "name": "python3",
      "display_name": "Python 3"
    },
    "language_info": {
      "name": "python"
    }
  },
  "cells": [
    {
      "cell_type": "markdown",
      "metadata": {
        "id": "view-in-github",
        "colab_type": "text"
      },
      "source": [
        "<a href=\"https://colab.research.google.com/github/Freesoul-tech/Louis-Mahobe/blob/main/Ensemble30.ipynb\" target=\"_parent\"><img src=\"https://colab.research.google.com/assets/colab-badge.svg\" alt=\"Open In Colab\"/></a>"
      ]
    },
    {
      "cell_type": "code",
      "execution_count": 2,
      "metadata": {
        "id": "_N5pJEqqgFd3"
      },
      "outputs": [],
      "source": [
        "import pandas as pd\n",
        "from sklearn.model_selection import train_test_split\n",
        "from sklearn.preprocessing import StandardScaler\n",
        "from sklearn.linear_model import LinearRegression\n",
        "from sklearn.svm import SVR\n",
        "from sklearn.tree import DecisionTreeRegressor\n",
        "\n",
        "# Load dataset\n",
        "df = pd.read_csv(\"/content/sample_data/california_housing_train.csv\")\n",
        "# Select features and target variable using available columns\n",
        "X = df[[\"total_rooms\", \"median_income\", \"housing_median_age\"]] # Example features, you can change these\n",
        "y = df[\"median_house_value\"]\n",
        "\n",
        "# Train-test split\n",
        "X_train, X_val, y_train, y_val = train_test_split(X, y, test_size=0.2, random_state=42)\n",
        "\n",
        "# Scale features\n",
        "scaler = StandardScaler()\n",
        "X_train_scaled = scaler.fit_transform(X_train)\n",
        "X_val_scaled = scaler.transform(X_val)"
      ]
    },
    {
      "cell_type": "code",
      "source": [
        "# Train models\n",
        "model1 = LinearRegression().fit(X_train_scaled, y_train)\n",
        "model2 = SVR().fit(X_train_scaled, y_train)\n",
        "model3 = DecisionTreeRegressor().fit(X_train_scaled, y_train)\n",
        "\n",
        "# Predict\n",
        "pred1 = model1.predict(X_val_scaled)\n",
        "pred2 = model2.predict(X_val_scaled)\n",
        "pred3 = model3.predict(X_val_scaled)\n",
        "\n",
        "# Blend predictions\n",
        "blended_pred = (0.4 * pred1 + 0.3 * pred2 + 0.3 * pred3)\n"
      ],
      "metadata": {
        "id": "KL-s3mU4ghid"
      },
      "execution_count": 3,
      "outputs": []
    },
    {
      "cell_type": "code",
      "source": [
        "from sklearn.ensemble import BaggingRegressor\n",
        "\n",
        "bagging_model = BaggingRegressor(estimator=DecisionTreeRegressor(), n_estimators=10, random_state=42)\n",
        "bagging_model.fit(X_train_scaled, y_train)\n",
        "bagging_pred = bagging_model.predict(X_val_scaled)"
      ],
      "metadata": {
        "id": "tZGzBCbYgpnj"
      },
      "execution_count": 5,
      "outputs": []
    },
    {
      "cell_type": "code",
      "source": [
        "from sklearn.ensemble import StackingRegressor\n",
        "\n",
        "base_models = [\n",
        "    ('lr', LinearRegression()),\n",
        "    ('svr', SVR()),\n",
        "    ('dt', DecisionTreeRegressor())\n",
        "]\n",
        "\n",
        "meta_model = LinearRegression()\n",
        "\n",
        "stacking_model = StackingRegressor(estimators=base_models, final_estimator=meta_model)\n",
        "stacking_model.fit(X_train_scaled, y_train)\n",
        "stacking_pred = stacking_model.predict(X_val_scaled)\n"
      ],
      "metadata": {
        "id": "m0Fwwl5cg1sj"
      },
      "execution_count": 6,
      "outputs": []
    },
    {
      "cell_type": "code",
      "source": [
        "from sklearn.metrics import mean_squared_error\n",
        "\n",
        "print(\"Blending MSE:\", mean_squared_error(y_val, blended_pred))\n",
        "print(\"Bagging MSE:\", mean_squared_error(y_val, bagging_pred))\n",
        "print(\"Stacking MSE:\", mean_squared_error(y_val, stacking_pred))\n"
      ],
      "metadata": {
        "colab": {
          "base_uri": "https://localhost:8080/"
        },
        "id": "nMvIkDPVhGWk",
        "outputId": "6defc060-b42c-454e-811a-bd895fa955c0"
      },
      "execution_count": 7,
      "outputs": [
        {
          "output_type": "stream",
          "name": "stdout",
          "text": [
            "Blending MSE: 7409835011.402679\n",
            "Bagging MSE: 7025376402.86053\n",
            "Stacking MSE: 6232239908.286917\n"
          ]
        }
      ]
    }
  ]
}