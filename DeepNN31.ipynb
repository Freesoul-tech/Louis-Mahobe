{
  "nbformat": 4,
  "nbformat_minor": 0,
  "metadata": {
    "colab": {
      "provenance": [],
      "authorship_tag": "ABX9TyNQG0+KgV49eMfyFf8Ix8NQ",
      "include_colab_link": true
    },
    "kernelspec": {
      "name": "python3",
      "display_name": "Python 3"
    },
    "language_info": {
      "name": "python"
    }
  },
  "cells": [
    {
      "cell_type": "markdown",
      "metadata": {
        "id": "view-in-github",
        "colab_type": "text"
      },
      "source": [
        "<a href=\"https://colab.research.google.com/github/Freesoul-tech/Louis-Mahobe/blob/main/DeepNN31.ipynb\" target=\"_parent\"><img src=\"https://colab.research.google.com/assets/colab-badge.svg\" alt=\"Open In Colab\"/></a>"
      ]
    },
    {
      "cell_type": "code",
      "execution_count": 27,
      "metadata": {
        "id": "X93DhZouX4nX"
      },
      "outputs": [],
      "source": [
        "class FC:\n",
        "    def __init__(self, n_nodes1, n_nodes2, initializer, optimizer):\n",
        "        self.W = initializer.W(n_nodes1, n_nodes2)\n",
        "        self.B = initializer.B(n_nodes2)\n",
        "        self.optimizer = optimizer\n",
        "\n",
        "    def forward(self, X):\n",
        "        self.X = X\n",
        "        A = np.dot(X, self.W) + self.B\n",
        "        return A\n",
        "\n",
        "    def backward(self, dA):\n",
        "        dW = np.dot(self.X.T, dA)\n",
        "        dB = np.sum(dA, axis=0)\n",
        "        dZ = np.dot(dA, self.W.T)\n",
        "\n",
        "        self.dW = dW\n",
        "        self.dB = dB\n",
        "        self = self.optimizer.update(self)\n",
        "        return dZ\n"
      ]
    },
    {
      "cell_type": "code",
      "source": [
        "class SimpleInitializer:\n",
        "    def __init__(self, sigma):\n",
        "        self.sigma = sigma\n",
        "\n",
        "    def W(self, n_nodes1, n_nodes2):\n",
        "        return np.random.randn(n_nodes1, n_nodes2) * self.sigma\n",
        "\n",
        "    def B(self, n_nodes2):\n",
        "        return np.zeros(n_nodes2)\n"
      ],
      "metadata": {
        "id": "5amLjMxkX-JV"
      },
      "execution_count": 28,
      "outputs": []
    },
    {
      "cell_type": "code",
      "source": [
        "class XavierInitializer:\n",
        "    def W(self, n_nodes1, n_nodes2):\n",
        "        sigma = np.sqrt(1.0 / n_nodes1)\n",
        "        return np.random.randn(n_nodes1, n_nodes2) * sigma\n",
        "\n",
        "    def B(self, n_nodes2):\n",
        "        return np.zeros(n_nodes2)\n"
      ],
      "metadata": {
        "id": "II8CTT19YGP5"
      },
      "execution_count": 29,
      "outputs": []
    },
    {
      "cell_type": "code",
      "source": [
        "class HeInitializer:\n",
        "    def W(self, n_nodes1, n_nodes2):\n",
        "        sigma = np.sqrt(2.0 / n_nodes1)\n",
        "        return np.random.randn(n_nodes1, n_nodes2) * sigma\n",
        "\n",
        "    def B(self, n_nodes2):\n",
        "        return np.zeros(n_nodes2)\n"
      ],
      "metadata": {
        "id": "uyCNTylCYJsq"
      },
      "execution_count": 30,
      "outputs": []
    },
    {
      "cell_type": "code",
      "source": [
        "class SGD:\n",
        "    def __init__(self, lr):\n",
        "        self.lr = lr\n",
        "\n",
        "    def update(self, layer):\n",
        "        layer.W -= self.lr * layer.dW\n",
        "        layer.B -= self.lr * layer.dB\n",
        "        return layer\n"
      ],
      "metadata": {
        "id": "yRvzaaVuYO3V"
      },
      "execution_count": 31,
      "outputs": []
    },
    {
      "cell_type": "code",
      "source": [
        "class AdaGrad:\n",
        "    def __init__(self, lr):\n",
        "        self.lr = lr\n",
        "        self.h_W = {}\n",
        "        self.h_B = {}\n",
        "        self.epsilon = 1e-7\n",
        "\n",
        "    def update(self, layer):\n",
        "        if layer not in self.h_W:\n",
        "            self.h_W[layer] = np.zeros_like(layer.W)\n",
        "            self.h_B[layer] = np.zeros_like(layer.B)\n",
        "\n",
        "        self.h_W[layer] += layer.dW ** 2\n",
        "        self.h_B[layer] += layer.dB ** 2\n",
        "\n",
        "        layer.W -= self.lr * layer.dW / (np.sqrt(self.h_W[layer]) + self.epsilon)\n",
        "        layer.B -= self.lr * layer.dB / (np.sqrt(self.h_B[layer]) + self.epsilon)\n",
        "        return layer\n"
      ],
      "metadata": {
        "id": "oQhJNRs4Zann"
      },
      "execution_count": 32,
      "outputs": []
    },
    {
      "cell_type": "code",
      "source": [
        "class ReLU:\n",
        "    def forward(self, X):\n",
        "        self.X = X\n",
        "        return np.maximum(0, X)\n",
        "\n",
        "    def backward(self, dA):\n",
        "        dZ = dA.copy()\n",
        "        dZ[self.X <= 0] = 0\n",
        "        return dZ\n",
        "\n"
      ],
      "metadata": {
        "id": "feaKDTjTYW1K"
      },
      "execution_count": 46,
      "outputs": []
    },
    {
      "cell_type": "code",
      "source": [
        "class Softmax:\n",
        "    def forward(self, X):\n",
        "        self.out = np.exp(X - np.max(X, axis=1, keepdims=True))\n",
        "        self.out /= np.sum(self.out, axis=1, keepdims=True)\n",
        "        return self.out\n",
        "\n",
        "    def backward(self, Y):\n",
        "        batch_size = Y.shape[0]\n",
        "        return (self.out - Y) / batch_size\n"
      ],
      "metadata": {
        "id": "OEssJ8jiYaBm"
      },
      "execution_count": 47,
      "outputs": []
    },
    {
      "cell_type": "code",
      "source": [
        "class ScratchDeepNeuralNetrowkClassifier:\n",
        "    def __init__(self, n_features, n_nodes1, n_nodes2, n_output, lr, initializer, optimizer):\n",
        "        self.n_features = n_features\n",
        "        self.n_nodes1 = n_nodes1\n",
        "        self.n_nodes2 = n_nodes2\n",
        "        self.n_output = n_output\n",
        "        self.lr = lr\n",
        "\n",
        "        self.optimizer_instance = optimizer(self.lr)\n",
        "\n",
        "        self.FC1 = FC(n_features, n_nodes1, initializer, self.optimizer_instance)\n",
        "        self.activation1 = ReLU() # Create a separate instance for the first layer\n",
        "        self.FC2 = FC(n_nodes1, n_nodes2, initializer, self.optimizer_instance)\n",
        "        self.activation2 = ReLU() # Create a separate instance for the second layer\n",
        "        self.FC3 = FC(n_nodes2, n_output, initializer, self.optimizer_instance)\n",
        "        self.activation3 = Softmax()\n",
        "\n",
        "    def fit(self, X, Y, epochs, X_val=None, Y_val=None):\n",
        "        self.train_loss = []\n",
        "        self.val_accuracy = []\n",
        "\n",
        "        for _ in range(epochs):\n",
        "            # Forward\n",
        "            A1 = self.FC1.forward(X)\n",
        "            Z1 = self.activation1.forward(A1)\n",
        "            A2 = self.FC2.forward(Z1)\n",
        "            Z2 = self.activation2.forward(A2)\n",
        "            A3 = self.FC3.forward(Z2)\n",
        "            Z3 = self.activation3.forward(A3)\n",
        "\n",
        "            # Loss\n",
        "            loss = -np.sum(Y * np.log(Z3 + 1e-7)) / len(Y)\n",
        "            self.train_loss.append(loss)\n",
        "\n",
        "            # Backward\n",
        "            dA3 = self.activation3.backward(Y)\n",
        "            dZ2 = self.FC3.backward(dA3)\n",
        "            dA2 = self.activation2.backward(dZ2)\n",
        "            dZ1 = self.FC2.backward(dA2)\n",
        "            dA1 = self.activation1.backward(dZ1)\n",
        "            _ = self.FC1.backward(dA1)\n",
        "\n",
        "            # Validation accuracy\n",
        "            if X_val is not None and Y_val is not None:\n",
        "                preds = self.predict(X_val)\n",
        "                acc = np.mean(np.argmax(Y_val, axis=1) == preds)\n",
        "                self.val_accuracy.append(acc)\n",
        "\n",
        "\n",
        "    def predict(self, X):\n",
        "        A1 = self.FC1.forward(X)\n",
        "        Z1 = self.activation1.forward(A1)\n",
        "        A2 = self.FC2.forward(Z1)\n",
        "        Z2 = self.activation2.forward(A2)\n",
        "        A3 = self.FC3.forward(Z2)\n",
        "        Z3 = self.activation3.forward(A3)\n",
        "        return np.argmax(Z3, axis=1)"
      ],
      "metadata": {
        "id": "sJUGWscjYfbM"
      },
      "execution_count": 48,
      "outputs": []
    },
    {
      "cell_type": "code",
      "source": [
        "from sklearn.datasets import fetch_openml\n",
        "from sklearn.model_selection import train_test_split\n",
        "from sklearn.preprocessing import OneHotEncoder\n",
        "import numpy as np\n",
        "\n",
        "# Load MNIST\n",
        "mnist = fetch_openml('mnist_784')\n",
        "X = mnist.data / 255.0\n",
        "Y = OneHotEncoder(sparse_output=False).fit_transform(mnist.target.values.reshape(-1, 1))\n",
        "\n",
        "X_train, X_test, Y_train, Y_test = train_test_split(X, Y, test_size=0.2)\n",
        "\n",
        "# Train\n",
        "model = ScratchDeepNeuralNetrowkClassifier(\n",
        "    n_features=784,\n",
        "    n_nodes1=128,\n",
        "    n_nodes2=64,\n",
        "    n_output=10,\n",
        "    lr=0.01,\n",
        "    initializer=HeInitializer(),\n",
        "    optimizer=AdaGrad\n",
        ")\n",
        "model.fit(X_train, Y_train, epochs=10)\n",
        "\n",
        "# Evaluate\n",
        "preds = model.predict(X_test)\n",
        "accuracy = np.mean(np.argmax(Y_test, axis=1) == preds)\n",
        "print(f\"Accuracy: {accuracy:.4f}\")"
      ],
      "metadata": {
        "colab": {
          "base_uri": "https://localhost:8080/"
        },
        "id": "eOr-HKZ0YkjN",
        "outputId": "e215a0e8-7d98-481f-d765-adbb6ea0ba6f"
      },
      "execution_count": 49,
      "outputs": [
        {
          "output_type": "stream",
          "name": "stdout",
          "text": [
            "Accuracy: 0.8085\n"
          ]
        }
      ]
    },
    {
      "cell_type": "code",
      "source": [
        "def fit(self, X, Y, epochs, X_val=None, Y_val=None):\n",
        "    self.train_loss = []\n",
        "    self.val_accuracy = []\n",
        "\n",
        "    for _ in range(epochs):\n",
        "        # Forward\n",
        "        A1 = self.FC1.forward(X)\n",
        "        Z1 = self.activation1.forward(A1)\n",
        "        A2 = self.FC2.forward(Z1)\n",
        "        Z2 = self.activation2.forward(A2)\n",
        "        A3 = self.FC3.forward(Z2)\n",
        "        Z3 = self.activation3.forward(A3)\n",
        "\n",
        "        # Loss\n",
        "        loss = -np.sum(Y * np.log(Z3 + 1e-7)) / len(Y)\n",
        "        self.train_loss.append(loss)\n",
        "\n",
        "        # Backward\n",
        "        dA3 = self.activation3.backward(Y)\n",
        "        dZ2 = self.FC3.backward(dA3)\n",
        "        dA2 = self.activation2.backward(dZ2)\n",
        "        dZ1 = self.FC2.backward(dA2)\n",
        "        dA1 = self.activation1.backward(dZ1)\n",
        "        _ = self.FC1.backward(dA1)\n",
        "\n",
        "        # Validation accuracy\n",
        "        if X_val is not None and Y_val is not None:\n",
        "            preds = self.predict(X_val)\n",
        "            acc = np.mean(np.argmax(Y_val, axis=1) == preds)\n",
        "            self.val_accuracy.append(acc)\n"
      ],
      "metadata": {
        "id": "2p47Texpag5y"
      },
      "execution_count": 50,
      "outputs": []
    },
    {
      "cell_type": "code",
      "metadata": {
        "id": "19323568"
      },
      "source": [
        "class Sigmoid:\n",
        "    def forward(self, X):\n",
        "        self.out = 1 / (1 + np.exp(-X))\n",
        "        return self.out\n",
        "\n",
        "    def backward(self, dA):\n",
        "        return dA * (1.0 - self.out) * self.out"
      ],
      "execution_count": 51,
      "outputs": []
    },
    {
      "cell_type": "code",
      "source": [
        "configs = [\n",
        "    {\"name\": \"SGD + ReLU\", \"optimizer\": SGD, \"initializer\": HeInitializer(), \"activation\": ReLU},\n",
        "    {\"name\": \"AdaGrad + ReLU\", \"optimizer\": AdaGrad, \"initializer\": HeInitializer(), \"activation\": ReLU},\n",
        "    {\"name\": \"SGD + Sigmoid\", \"optimizer\": SGD, \"initializer\": XavierInitializer(), \"activation\": Sigmoid},\n",
        "]\n",
        "\n",
        "results = []\n",
        "\n",
        "for config in configs:\n",
        "    # Create a new optimizer instance for each configuration\n",
        "    optimizer_instance = config[\"optimizer\"](0.01) # Use the learning rate defined in the original code\n",
        "\n",
        "    model = ScratchDeepNeuralNetrowkClassifier(\n",
        "        n_features=784,\n",
        "        n_nodes1=128,\n",
        "        n_nodes2=64,\n",
        "        n_output=10,\n",
        "        lr=0.01,\n",
        "        initializer=config[\"initializer\"],\n",
        "        optimizer=config[\"optimizer\"] # Pass the optimizer class to the model\n",
        "    )\n",
        "    # Activation functions are now set during model initialization\n",
        "    model.fit(X_train, Y_train, epochs=10, X_val=X_test, Y_val=Y_test)\n",
        "    results.append((config[\"name\"], model.train_loss, model.val_accuracy))"
      ],
      "metadata": {
        "id": "rBO4jDnual1Y"
      },
      "execution_count": 56,
      "outputs": []
    },
    {
      "cell_type": "code",
      "source": [
        "import matplotlib.pyplot as plt\n",
        "\n",
        "plt.figure(figsize=(12, 5))\n",
        "\n",
        "# Loss\n",
        "plt.subplot(1, 2, 1)\n",
        "for name, loss, _ in results:\n",
        "    plt.plot(loss, label=name)\n",
        "plt.title(\"Training Loss\")\n",
        "plt.xlabel(\"Epoch\")\n",
        "plt.ylabel(\"Loss\")\n",
        "plt.legend()\n",
        "\n",
        "# Accuracy\n",
        "plt.subplot(1, 2, 2)\n",
        "for name, _, acc in results:\n",
        "    plt.plot(acc, label=name)\n",
        "plt.title(\"Validation Accuracy\")\n",
        "plt.xlabel(\"Epoch\")\n",
        "plt.ylabel(\"Accuracy\")\n",
        "plt.legend()\n",
        "\n",
        "plt.tight_layout()\n",
        "plt.show()\n"
      ],
      "metadata": {
        "colab": {
          "base_uri": "https://localhost:8080/",
          "height": 388
        },
        "id": "qgKP9BEzavIB",
        "outputId": "ad0a4555-a131-4a6f-cabc-d782b15220ad"
      },
      "execution_count": 57,
      "outputs": [
        {
          "output_type": "display_data",
          "data": {
            "text/plain": [
              "<Figure size 1200x500 with 2 Axes>"
            ],
            "image/png": "[encoded data removed]"
          },
          "metadata": {}
        }
      ]
    }
  ]
}