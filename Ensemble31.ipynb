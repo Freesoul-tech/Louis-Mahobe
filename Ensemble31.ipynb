{
  "nbformat": 4,
  "nbformat_minor": 0,
  "metadata": {
    "colab": {
      "provenance": [],
      "authorship_tag": "ABX9TyPrVtxP7Qaa6+5q4CAwia7h",
      "include_colab_link": true
    },
    "kernelspec": {
      "name": "python3",
      "display_name": "Python 3"
    },
    "language_info": {
      "name": "python"
    }
  },
  "cells": [
    {
      "cell_type": "markdown",
      "metadata": {
        "id": "view-in-github",
        "colab_type": "text"
      },
      "source": [
        "<a href=\"https://colab.research.google.com/github/Freesoul-tech/Louis-Mahobe/blob/main/Ensemble31.ipynb\" target=\"_parent\"><img src=\"https://colab.research.google.com/assets/colab-badge.svg\" alt=\"Open In Colab\"/></a>"
      ]
    },
    {
      "cell_type": "code",
      "execution_count": 12,
      "metadata": {
        "id": "_N5pJEqqgFd3"
      },
      "outputs": [],
      "source": [
        "import pandas as pd\n",
        "from sklearn.model_selection import train_test_split\n",
        "from sklearn.preprocessing import StandardScaler\n",
        "from sklearn.linear_model import LinearRegression\n",
        "from sklearn.svm import SVR\n",
        "from sklearn.tree import DecisionTreeRegressor\n",
        "\n",
        "# Load dataset\n",
        "df = pd.read_csv(\"/content/sample_data/california_housing_train.csv\")\n",
        "# Select features and target variable using available columns\n",
        "X = df[[\"total_rooms\", \"median_income\", \"housing_median_age\"]] # Example features, you can change these\n",
        "y = df[\"median_house_value\"]\n",
        "\n",
        "# Train-test split\n",
        "X_train, X_val, y_train, y_val = train_test_split(X, y, test_size=0.2, random_state=42)\n",
        "\n",
        "# Scale features\n",
        "scaler = StandardScaler()\n",
        "X_train_scaled = scaler.fit_transform(X_train)\n",
        "X_val_scaled = scaler.transform(X_val)"
      ]
    },
    {
      "cell_type": "code",
      "source": [
        "# Train models\n",
        "model1 = LinearRegression().fit(X_train_scaled, y_train)\n",
        "model2 = SVR().fit(X_train_scaled, y_train)\n",
        "model3 = DecisionTreeRegressor().fit(X_train_scaled, y_train)\n",
        "\n",
        "# Predict\n",
        "pred1 = model1.predict(X_val_scaled)\n",
        "pred2 = model2.predict(X_val_scaled)\n",
        "pred3 = model3.predict(X_val_scaled)\n",
        "\n",
        "# Blend predictions\n",
        "blended_pred = (0.4 * pred1 + 0.3 * pred2 + 0.3 * pred3)\n"
      ],
      "metadata": {
        "id": "KL-s3mU4ghid"
      },
      "execution_count": 13,
      "outputs": []
    },
    {
      "cell_type": "code",
      "source": [
        "from sklearn.ensemble import BaggingRegressor\n",
        "\n",
        "bagging_model = BaggingRegressor(estimator=DecisionTreeRegressor(), n_estimators=10, random_state=42)\n",
        "bagging_model.fit(X_train_scaled, y_train)\n",
        "bagging_pred = bagging_model.predict(X_val_scaled)"
      ],
      "metadata": {
        "id": "tZGzBCbYgpnj"
      },
      "execution_count": 14,
      "outputs": []
    },
    {
      "cell_type": "code",
      "source": [
        "from sklearn.ensemble import StackingRegressor\n",
        "\n",
        "base_models = [\n",
        "    ('lr', LinearRegression()),\n",
        "    ('svr', SVR()),\n",
        "    ('dt', DecisionTreeRegressor())\n",
        "]\n",
        "\n",
        "meta_model = LinearRegression()\n",
        "\n",
        "stacking_model = StackingRegressor(estimators=base_models, final_estimator=meta_model)\n",
        "stacking_model.fit(X_train_scaled, y_train)\n",
        "stacking_pred = stacking_model.predict(X_val_scaled)\n"
      ],
      "metadata": {
        "id": "m0Fwwl5cg1sj"
      },
      "execution_count": 15,
      "outputs": []
    },
    {
      "cell_type": "code",
      "source": [
        "from sklearn.metrics import mean_squared_error\n",
        "\n",
        "print(\"Blending MSE:\", mean_squared_error(y_val, blended_pred))\n",
        "print(\"Bagging MSE:\", mean_squared_error(y_val, bagging_pred))\n",
        "print(\"Stacking MSE:\", mean_squared_error(y_val, stacking_pred))\n"
      ],
      "metadata": {
        "colab": {
          "base_uri": "https://localhost:8080/"
        },
        "id": "nMvIkDPVhGWk",
        "outputId": "b5cbc5a9-1535-445c-87a4-7bd70b466ffc"
      },
      "execution_count": 16,
      "outputs": [
        {
          "output_type": "stream",
          "name": "stdout",
          "text": [
            "Blending MSE: 7407915627.448985\n",
            "Bagging MSE: 7025376402.86053\n",
            "Stacking MSE: 6199720484.784053\n"
          ]
        }
      ]
    },
    {
      "cell_type": "code",
      "source": [
        "import pandas as pd\n",
        "df = pd.read_csv(\"/content/sample_data/california_housing_train.csv\")\n"
      ],
      "metadata": {
        "id": "n1nv0_GPNkgx"
      },
      "execution_count": 7,
      "outputs": []
    },
    {
      "cell_type": "code",
      "source": [
        "feature_sets = [\n",
        "    [\"total_rooms\", \"median_income\", \"housing_median_age\"],\n",
        "    [\"total_rooms\", \"total_bedrooms\", \"median_income\"],\n",
        "    [\"median_income\", \"population\", \"households\"]\n",
        "]\n",
        "\n",
        "for i, features in enumerate(feature_sets):\n",
        "    X = df[features]\n",
        "    y = df[\"median_house_value\"]\n",
        "\n",
        "    # Train-test split and scaling\n",
        "    X_train, X_val, y_train, y_val = train_test_split(X, y, test_size=0.2, random_state=42+i)\n",
        "    scaler = StandardScaler()\n",
        "    X_train_scaled = scaler.fit_transform(X_train)\n",
        "    X_val_scaled = scaler.transform(X_val)\n",
        "\n",
        "    # Train models\n",
        "    model1 = LinearRegression().fit(X_train_scaled, y_train)\n",
        "    model2 = SVR().fit(X_train_scaled, y_train)\n",
        "    model3 = DecisionTreeRegressor().fit(X_train_scaled, y_train)\n",
        "\n",
        "    # Predict\n",
        "    pred1 = model1.predict(X_val_scaled)\n",
        "    pred2 = model2.predict(X_val_scaled)\n",
        "    pred3 = model3.predict(X_val_scaled)\n",
        "    blended_pred = 0.4 * pred1 + 0.3 * pred2 + 0.3 * pred3\n",
        "\n",
        "    # MSEs\n",
        "    mse_blend = mean_squared_error(y_val, blended_pred)\n",
        "    mse_lr = mean_squared_error(y_val, pred1)\n",
        "    mse_svr = mean_squared_error(y_val, pred2)\n",
        "    mse_dt = mean_squared_error(y_val, pred3)\n",
        "\n",
        "    print(f\"\\nExample {i+1}\")\n",
        "    print(\"Blending MSE:\", mse_blend)\n",
        "    print(\"Linear Regression MSE:\", mse_lr)\n",
        "    print(\"SVR MSE:\", mse_svr)\n",
        "    print(\"Decision Tree MSE:\", mse_dt)\n"
      ],
      "metadata": {
        "colab": {
          "base_uri": "https://localhost:8080/"
        },
        "id": "mvUp56wRNIpe",
        "outputId": "86ac3b88-02cf-43d5-e0cf-ad8e9cdf3a31"
      },
      "execution_count": 17,
      "outputs": [
        {
          "output_type": "stream",
          "name": "stdout",
          "text": [
            "\n",
            "Example 1\n",
            "Blending MSE: 7450680909.801436\n",
            "Linear Regression MSE: 6307253554.289143\n",
            "SVR MSE: 14578254146.057575\n",
            "Decision Tree MSE: 12192486068.120295\n",
            "\n",
            "Example 2\n",
            "Blending MSE: 7326791530.565487\n",
            "Linear Regression MSE: 6559992579.842346\n",
            "SVR MSE: 14153031130.428663\n",
            "Decision Tree MSE: 11724107234.82294\n",
            "\n",
            "Example 3\n",
            "Blending MSE: 6770603682.375311\n",
            "Linear Regression MSE: 6769091537.586275\n",
            "SVR MSE: 13382877997.782719\n",
            "Decision Tree MSE: 10332982748.874706\n"
          ]
        }
      ]
    },
    {
      "cell_type": "code",
      "source": [
        "import numpy as np\n",
        "from sklearn.tree import DecisionTreeRegressor\n",
        "\n",
        "def manual_bagging(X_train, y_train, X_val, n_estimators=10):\n",
        "    preds = []\n",
        "    for _ in range(n_estimators):\n",
        "        idx = np.random.choice(len(X_train), len(X_train), replace=True)\n",
        "        X_sample, y_sample = X_train[idx], y_train[idx]\n",
        "        model = DecisionTreeRegressor()\n",
        "        model.fit(X_sample, y_sample)\n",
        "        preds.append(model.predict(X_val))\n",
        "    return np.mean(preds, axis=0)\n",
        "\n",
        "\n",
        "bagging_pred_scratch = manual_bagging(X_train_scaled, y_train.values, X_val_scaled)\n",
        "mse_bagging_scratch = mean_squared_error(y_val, bagging_pred_scratch)\n",
        "mse_dt = mean_squared_error(y_val, pred3)\n",
        "\n",
        "print(\"Manual Bagging MSE:\", mse_bagging_scratch)\n",
        "print(\"Single Decision Tree MSE:\", mse_dt)\n"
      ],
      "metadata": {
        "colab": {
          "base_uri": "https://localhost:8080/"
        },
        "id": "ZtWAafyIOhPw",
        "outputId": "cbd25303-9afa-4d76-e798-35ed97c4933d"
      },
      "execution_count": 18,
      "outputs": [
        {
          "output_type": "stream",
          "name": "stdout",
          "text": [
            "Manual Bagging MSE: 6217990121.941231\n",
            "Single Decision Tree MSE: 10332982748.874706\n"
          ]
        }
      ]
    },
    {
      "cell_type": "code",
      "source": [
        "# Train base models\n",
        "base_preds_train = []\n",
        "base_preds_val = []\n",
        "\n",
        "for model in [LinearRegression(), SVR(), DecisionTreeRegressor()]:\n",
        "    model.fit(X_train_scaled, y_train)\n",
        "    base_preds_train.append(model.predict(X_train_scaled))\n",
        "    base_preds_val.append(model.predict(X_val_scaled))\n",
        "\n",
        "# Stack predictions\n",
        "X_meta_train = np.column_stack(base_preds_train)\n",
        "X_meta_val = np.column_stack(base_preds_val)\n",
        "\n",
        "# Train meta-model\n",
        "meta_model = LinearRegression()\n",
        "meta_model.fit(X_meta_train, y_train)\n",
        "stacking_pred_scratch = meta_model.predict(X_meta_val)\n",
        "\n",
        "# Compare\n",
        "mse_stacking_scratch = mean_squared_error(y_val, stacking_pred_scratch)\n",
        "mse_lr = mean_squared_error(y_val, pred1)\n",
        "\n",
        "print(\"Manual Stacking MSE:\", mse_stacking_scratch)\n",
        "print(\"Single Linear Regression MSE:\", mse_lr)\n"
      ],
      "metadata": {
        "colab": {
          "base_uri": "https://localhost:8080/"
        },
        "id": "9T7PkaxEOo4Y",
        "outputId": "96fe98da-4a75-4af0-a52f-c801d208bed8"
      },
      "execution_count": 19,
      "outputs": [
        {
          "output_type": "stream",
          "name": "stdout",
          "text": [
            "Manual Stacking MSE: 10441436913.876177\n",
            "Single Linear Regression MSE: 6769091537.586275\n"
          ]
        }
      ]
    }
  ]
}