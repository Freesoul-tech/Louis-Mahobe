{
  "cells": [
    {
      "cell_type": "markdown",
      "metadata": {
        "id": "view-in-github",
        "colab_type": "text"
      },
      "source": [
        "<a href=\"https://colab.research.google.com/github/Freesoul-tech/Louis-Mahobe/blob/main/simple_c_1d.ipynb\" target=\"_parent\"><img src=\"https://colab.research.google.com/assets/colab-badge.svg\" alt=\"Open In Colab\"/></a>"
      ]
    },
    {
      "cell_type": "code",
      "execution_count": 1,
      "metadata": {
        "id": "Qo3wy12kXYM-"
      },
      "outputs": [],
      "source": [
        "import numpy as np\n",
        "\n",
        "class SimpleConv1d:\n",
        "    def __init__(self, filter_size, learning_rate=0.01):\n",
        "        self.F = filter_size\n",
        "        self.lr = learning_rate\n",
        "        # Xavier initialization\n",
        "        self.b = np.random.uniform(-limit, limit, out_channels)  # shape: (out_channels,)\n",
        "\n",
        "        limit = np.sqrt(1.0 / filter_size)\n",
        "        self.w = np.random.uniform(-limit, limit, filter_size)\n",
        "        self.b = np.random.uniform(-limit, limit, 1)\n",
        "        # For AdaGrad\n",
        "        self.dw_accum = np.zeros_like(self.w)\n",
        "        self.db_accum = np.zeros_like(self.b)\n",
        "\n",
        "    def forward(self, x):\n",
        "        self.a[b, oc, i] += self.b[oc]\n",
        "\n",
        "        self.x = x\n",
        "        self.N_out = len(x) - self.F + 1\n",
        "        self.a = np.empty(self.N_out)\n",
        "        for i in range(self.N_out):\n",
        "            self.a[i] = np.dot(x[i:i+self.F], self.w) + self.b\n",
        "        return self.a\n",
        "\n",
        "    def backward(self, delta_a):\n",
        "        # Gradients\n",
        "        self.dw = np.zeros_like(self.w)\n",
        "        self.db = np.sum(delta_a)\n",
        "        self.dx = np.zeros_like(self.x)\n",
        "\n",
        "        for s in range(self.F):\n",
        "            for i in range(self.N_out):\n",
        "                self.dw[s] += delta_a[i] * self.x[i + s]\n",
        "\n",
        "        for j in range(len(self.x)):\n",
        "            for s in range(self.F):\n",
        "                if 0 <= j - s < self.N_out:\n",
        "                    self.dx[j] += delta_a[j - s] * self.w[s]\n",
        "\n",
        "        return self.dx\n",
        "\n",
        "    def update(self):\n",
        "        # AdaGrad update\n",
        "        self.dw_accum += self.dw ** 2\n",
        "        self.db_accum += self.db ** 2\n",
        "        self.w -= self.lr * self.dw / (np.sqrt(self.dw_accum) + 1e-7)\n",
        "        self.b -= self.lr * self.db / (np.sqrt(self.db_accum) + 1e-7)\n"
      ]
    },
    {
      "cell_type": "code",
      "execution_count": 2,
      "metadata": {
        "id": "BET7NSQoXwIV"
      },
      "outputs": [],
      "source": [
        "def calc_output_size(N_in, P, F, S):\n",
        "    return (N_in + 2 * P - F) // S + 1\n"
      ]
    },
    {
      "cell_type": "code",
      "execution_count": 3,
      "metadata": {
        "colab": {
          "base_uri": "https://localhost:8080/"
        },
        "id": "YAReILmJXzOO",
        "outputId": "842e8bd9-c131-47ed-860e-31e2785f7638"
      },
      "outputs": [
        {
          "output_type": "stream",
          "name": "stdout",
          "text": [
            "Forward output: [35 50]\n",
            "delta_b: 30\n",
            "delta_w: [ 50  80 110]\n",
            "delta_x: [ 30 110 170 140]\n"
          ]
        }
      ],
      "source": [
        "x = np.array([1, 2, 3, 4])\n",
        "w = np.array([3, 5, 7])\n",
        "b = np.array([1])\n",
        "\n",
        "# Manual forward\n",
        "a = np.array([\n",
        "    np.dot(x[0:3], w) + b,\n",
        "    np.dot(x[1:4], w) + b\n",
        "]).flatten()\n",
        "print(\"Forward output:\", a)  # [35, 50]\n",
        "\n",
        "# Backward\n",
        "delta_a = np.array([10, 20])\n",
        "delta_b = np.sum(delta_a)\n",
        "delta_w = np.array([\n",
        "    delta_a[0]*x[0] + delta_a[1]*x[1],\n",
        "    delta_a[0]*x[1] + delta_a[1]*x[2],\n",
        "    delta_a[0]*x[2] + delta_a[1]*x[3]\n",
        "])\n",
        "delta_x = np.array([\n",
        "    delta_a[0]*w[0],\n",
        "    delta_a[0]*w[1] + delta_a[1]*w[0],\n",
        "    delta_a[0]*w[2] + delta_a[1]*w[1],\n",
        "    delta_a[1]*w[2]\n",
        "])\n",
        "print(\"delta_b:\", delta_b)      # 30\n",
        "print(\"delta_w:\", delta_w)      # [50, 80, 110]\n",
        "print(\"delta_x:\", delta_x)      # [30, 110, 170, 140]\n"
      ]
    },
    {
      "cell_type": "code",
      "execution_count": 4,
      "metadata": {
        "id": "mXGVogQMX_kI"
      },
      "outputs": [],
      "source": [
        "import numpy as np\n",
        "\n",
        "class Conv1d:\n",
        "    def __init__(self, in_channels, out_channels, filter_size, learning_rate=0.01):\n",
        "        self.in_channels = in_channels\n",
        "        self.out_channels = out_channels\n",
        "        self.F = filter_size\n",
        "        self.lr = learning_rate\n",
        "\n",
        "        # Xavier initialization\n",
        "        limit = np.sqrt(1.0 / (in_channels * filter_size))\n",
        "        self.w = np.random.uniform(-limit, limit, (out_channels, in_channels, filter_size))\n",
        "        self.b = np.random.uniform(-limit, limit, out_channels)\n",
        "\n",
        "        # AdaGrad accumulators\n",
        "        self.dw_accum = np.zeros_like(self.w)\n",
        "        self.db_accum = np.zeros_like(self.b)\n",
        "\n",
        "    def forward(self, x, pad=0):\n",
        "        # x shape: (batch_size, in_channels, N_in)\n",
        "        self.pad = pad\n",
        "        self.x = np.pad(x, ((0, 0), (0, 0), (pad, pad)), mode='constant')\n",
        "        self.batch_size, _, N_in = self.x.shape\n",
        "        self.N_out = N_in - self.F + 1\n",
        "        self.a = np.zeros((self.batch_size, self.out_channels, self.N_out))\n",
        "\n",
        "        for b in range(self.batch_size):\n",
        "            for oc in range(self.out_channels):\n",
        "                for i in range(self.N_out):\n",
        "                    for ic in range(self.in_channels):\n",
        "                        self.a[b, oc, i] += np.dot(self.x[b, ic, i:i+self.F], self.w[oc, ic])\n",
        "                    self.a[b, oc, i] += self.b[oc]\n",
        "        return self.a\n",
        "\n",
        "    def backward(self, delta_a):\n",
        "        # delta_a shape: (batch_size, out_channels, N_out)\n",
        "        self.dw = np.zeros_like(self.w)\n",
        "        self.db = np.zeros_like(self.b)\n",
        "        self.dx = np.zeros_like(self.x) # Initialize dx for padded input\n",
        "\n",
        "        for b in range(self.batch_size):\n",
        "            for oc in range(self.out_channels):\n",
        "                self.db[oc] += np.sum(delta_a[b, oc])\n",
        "                for ic in range(self.in_channels):\n",
        "                    for s in range(self.F):\n",
        "                        for i in range(self.N_out):\n",
        "                            self.dw[oc, ic, s] += delta_a[b, oc, i] * self.x[b, ic, i + s]\n",
        "\n",
        "        # Alternative calculation for self.dx\n",
        "        for b in range(self.batch_size):\n",
        "            for oc in range(self.out_channels):\n",
        "                for ic in range(self.in_channels):\n",
        "                    for i in range(self.N_out): # Iterate over output indices\n",
        "                        for s in range(self.F): # Iterate over filter indices\n",
        "                            j = i + s # Corresponding padded input index\n",
        "                            # Check if the padded input index is valid\n",
        "                            if 0 <= j < self.x.shape[2]:\n",
        "                                self.dx[b, ic, j] += delta_a[b, oc, i] * self.w[oc, ic, s]\n",
        "\n",
        "\n",
        "        # Remove padding from dx before returning\n",
        "        return self.dx[:, :, self.pad:self.pad + self.N_out]\n",
        "\n",
        "    def update(self):\n",
        "        self.dw_accum += self.dw ** 2\n",
        "        self.db_accum += self.db ** 2\n",
        "        self.w -= self.lr * self.dw / (np.sqrt(self.dw_accum) + 1e-7)\n",
        "        self.b -= self.lr * self.db / (np.sqrt(self.db_accum) + 1e-7)"
      ]
    },
    {
      "cell_type": "code",
      "execution_count": 5,
      "metadata": {
        "colab": {
          "base_uri": "https://localhost:8080/"
        },
        "id": "lxACR__eYIou",
        "outputId": "449c04d9-bf2e-4a98-921f-c9f11703badd"
      },
      "outputs": [
        {
          "output_type": "stream",
          "name": "stdout",
          "text": [
            "Expected output:\n",
            " [[16. 22.]\n",
            " [17. 23.]\n",
            " [18. 24.]]\n"
          ]
        }
      ],
      "source": [
        "x = np.array([[1, 2, 3, 4], [2, 3, 4, 5]])  # shape (2, 4)\n",
        "w = np.ones((3, 2, 3))                     # shape (3, 2, 3)\n",
        "b = np.array([1, 2, 3])                    # shape (3,)\n",
        "\n",
        "# Manual forward\n",
        "a = np.empty((3, 2))\n",
        "for oc in range(3):\n",
        "    for i in range(2):\n",
        "        a[oc, i] = np.sum(x[:, i:i+3]) + b[oc]\n",
        "print(\"Expected output:\\n\", a)  # [[16, 22], [17, 23], [18, 24]]\n"
      ]
    },
    {
      "cell_type": "code",
      "execution_count": 6,
      "metadata": {
        "id": "w3CndygFYQRF"
      },
      "outputs": [],
      "source": [
        "def forward(self, x, pad=0):\n",
        "    self.pad = pad\n",
        "    self.x = np.pad(x, ((0, 0), (pad, pad)), mode='constant')\n",
        "    N_in = self.x.shape[1]\n",
        "    self.N_out = N_in - self.F + 1\n",
        "    self.a = np.zeros((self.out_channels, self.N_out))\n",
        "\n",
        "    for oc in range(self.out_channels):\n",
        "        for i in range(self.N_out):\n",
        "            for ic in range(self.in_channels):\n",
        "                self.a[oc, i] += np.dot(self.x[ic, i:i+self.F], self.w[oc, ic])\n",
        "            self.a[oc, i] += self.b[oc]\n",
        "    return self.a\n"
      ]
    },
    {
      "cell_type": "code",
      "execution_count": 7,
      "metadata": {
        "colab": {
          "base_uri": "https://localhost:8080/"
        },
        "id": "shfmZRAaYT2V",
        "outputId": "ab3d196e-e255-4314-f296-fba5a02ca6a6"
      },
      "outputs": [
        {
          "output_type": "stream",
          "name": "stdout",
          "text": [
            "Padded output shape: (2, 3, 4)\n"
          ]
        }
      ],
      "source": [
        "x = np.array([[1, 2, 3, 4], [2, 3, 4, 5]])  # shape (2, 4)\n",
        "# Reshape x to (batch_size)\n",
        "x_reshaped = x.reshape(2, 1, 4)\n",
        "\n",
        "conv = Conv1d(in_channels=1, out_channels=3, filter_size=3)\n",
        "a = conv.forward(x_reshaped, pad=1)\n",
        "print(\"Padded output shape:\", a.shape)"
      ]
    },
    {
      "cell_type": "code",
      "execution_count": 8,
      "metadata": {
        "id": "5ZcoxAMmYu6V"
      },
      "outputs": [],
      "source": [
        "def forward(self, x, pad=0):\n",
        "    # x shape:\n",
        "    self.pad = pad\n",
        "    self.x = np.pad(x, ((0, 0), (0, 0), (pad, pad)), mode='constant')\n",
        "    self.batch_size, _, N_in = self.x.shape\n",
        "    self.N_out = N_in - self.F + 1\n",
        "    self.a = np.zeros((self.batch_size, self.out_channels, self.N_out))\n",
        "\n",
        "    for b in range(self.batch_size):\n",
        "        for oc in range(self.out_channels):\n",
        "            for i in range(self.N_out):\n",
        "                for ic in range(self.in_channels):\n",
        "                    self.a[b, oc, i] += np.dot(self.x[b, ic, i:i+self.F], self.w[oc, ic])\n",
        "                self.a[b, oc, i] += self.b[oc]\n",
        "    return self.a\n"
      ]
    },
    {
      "cell_type": "code",
      "execution_count": 9,
      "metadata": {
        "id": "s8bKuRtvYyG7"
      },
      "outputs": [],
      "source": [
        "def backward(self, delta_a):\n",
        "    # delta_a shape\n",
        "    self.dw = np.zeros_like(self.w)\n",
        "    self.db = np.zeros_like(self.b)\n",
        "    self.dx = np.zeros_like(self.x)\n",
        "\n",
        "    for b in range(self.batch_size):\n",
        "        for oc in range(self.out_channels):\n",
        "            self.db[oc] += np.sum(delta_a[b, oc])\n",
        "            for ic in range(self.in_channels):\n",
        "                for s in range(self.F):\n",
        "                    for i in range(self.N_out):\n",
        "                        self.dw[oc, ic, s] += delta_a[b, oc, i] * self.x[b, ic, i + s]\n",
        "\n",
        "    for b in range(self.batch_size):\n",
        "        for ic in range(self.in_channels):\n",
        "            for j in range(self.x.shape[2]):\n",
        "                for oc in range(self.out_channels):\n",
        "                    for s in range(self.F):\n",
        "                        if 0 <= j - s < self.N_out:\n",
        "                            self.dx[b, ic, j] += delta_a[b, oc, j - s] * self.w[oc, ic, s]\n",
        "\n",
        "    # Remove padding from dx before returning\n",
        "    return self.dx[:, :, self.pad:self.pad + self.N_out]\n"
      ]
    },
    {
      "cell_type": "code",
      "execution_count": 10,
      "metadata": {
        "id": "1Nqc8hs3Zheg"
      },
      "outputs": [],
      "source": [
        "# Load MNIST\n",
        "from sklearn.datasets import fetch_openml\n",
        "from sklearn.model_selection import train_test_split\n",
        "from sklearn.preprocessing import OneHotEncoder\n",
        "\n",
        "mnist = fetch_openml('mnist_784', version=1)\n",
        "X = mnist.data.values.astype(np.float32) / 255.0\n",
        "y = mnist.target.astype(np.int32)\n",
        "\n",
        "# One-hot encode labels\n",
        "encoder = OneHotEncoder(sparse_output=False)\n",
        "y_onehot = encoder.fit_transform(y.values.reshape(-1, 1))\n",
        "\n",
        "# Train/test split\n",
        "X_train, X_test, y_train, y_test = train_test_split(X, y_onehot, test_size=0.2, random_state=42)\n",
        "\n",
        "# Reshape for Conv1d: (batch_size, in_channels, N_in)\n",
        "X_train = X_train.reshape(-1, 1, 784)\n",
        "X_test = X_test.reshape(-1, 1, 784)"
      ]
    },
    {
      "cell_type": "code",
      "execution_count": 11,
      "metadata": {
        "id": "da6d74eb"
      },
      "outputs": [],
      "source": [
        "class FC:\n",
        "    def __init__(self, input_size, output_size, learning_rate=0.01):\n",
        "        self.input_size = input_size\n",
        "        self.output_size = output_size\n",
        "        self.lr = learning_rate\n",
        "\n",
        "        # initialization\n",
        "        limit = np.sqrt(1.0 / input_size)\n",
        "        self.w = np.random.uniform(-limit, limit, (input_size, output_size))\n",
        "        self.b = np.random.uniform(-limit, limit, output_size)  # shape:\n",
        "\n",
        "\n",
        "        # AdaGrad accumulators\n",
        "        self.dw_accum = np.zeros_like(self.w)\n",
        "        self.db_accum = np.zeros_like(self.b)\n",
        "\n",
        "    def forward(self, x):\n",
        "        self.x = x\n",
        "        self.a = np.dot(x, self.w) + self.b\n",
        "        return self.a\n",
        "\n",
        "    def backward(self, delta_a):\n",
        "        # delta_a shape:\n",
        "        self.dw = np.dot(self.x.T, delta_a)\n",
        "        self.db = np.sum(delta_a, axis=0)\n",
        "        self.dx = np.dot(delta_a, self.w.T)\n",
        "        return self.dx\n",
        "\n",
        "    def update(self):\n",
        "        self.dw_accum += self.dw ** 2\n",
        "        self.db_accum += self.db ** 2\n",
        "        self.w -= self.lr * self.dw / (np.sqrt(self.dw_accum) + 1e-7)\n",
        "        self.b -= self.lr * self.db / (np.sqrt(self.db_accum) + 1e-7)"
      ]
    },
    {
      "cell_type": "code",
      "execution_count": 12,
      "metadata": {
        "id": "vBUEfZlvaFIf"
      },
      "outputs": [],
      "source": [
        "conv = Conv1d(in_channels=1, out_channels=8, filter_size=5, learning_rate=0.01)\n",
        "fc = FC(input_size=8 * 784, output_size=10)\n"
      ]
    },
    {
      "cell_type": "code",
      "execution_count": 16,
      "metadata": {
        "id": "RFZNFOijwDHb"
      },
      "outputs": [],
      "source": [
        "train_losses = []\n",
        "test_accuracies = []\n"
      ]
    },
    {
      "cell_type": "code",
      "execution_count": 18,
      "metadata": {
        "colab": {
          "base_uri": "https://localhost:8080/"
        },
        "id": "9mnw_D52aIqM",
        "outputId": "1b5487db-6d43-4f3a-b725-1e8c96a1a698"
      },
      "outputs": [
        {
          "output_type": "stream",
          "name": "stdout",
          "text": [
            "Epoch 1, Accuracy: 0.9184\n"
          ]
        }
      ],
      "source": [
        "def softmax(x):\n",
        "    e_x = np.exp(x - np.max(x, axis=1, keepdims=True))\n",
        "    return e_x / np.sum(e_x, axis=1, keepdims=True)\n",
        "\n",
        "def cross_entropy(pred, target):\n",
        "    return -np.sum(target * np.log(pred + 1e-7)) / pred.shape[0]\n",
        "\n",
        "def accuracy(pred, target):\n",
        "    return np.mean(np.argmax(pred, axis=1) == np.argmax(target, axis=1))\n",
        "\n",
        "for epoch in range(1):\n",
        "    for i in range(0, len(X_train), 32):  # mini-batch size = 32\n",
        "        x_batch = X_train[i:i+32]\n",
        "        y_batch = y_train[i:i+32]\n",
        "\n",
        "        # Forward\n",
        "        out_conv = conv.forward(x_batch, pad=2)\n",
        "        out_flat = out_conv.reshape(out_conv.shape[0], -1)\n",
        "        out_fc = fc.forward(out_flat)\n",
        "        pred = softmax(out_fc)\n",
        "\n",
        "        # Loss\n",
        "        loss = cross_entropy(pred, y_batch)\n",
        "\n",
        "        # Backward\n",
        "        delta = (pred - y_batch) / pred.shape[0]\n",
        "        delta_fc = fc.backward(delta)\n",
        "        delta_conv = conv.backward(delta_fc.reshape(out_conv.shape))\n",
        "\n",
        "        # Update\n",
        "        fc.update()\n",
        "        conv.update()\n",
        "\n",
        "    # Evaluate\n",
        "    out_conv_test = conv.forward(X_test, pad=2)\n",
        "    out_flat_test = out_conv_test.reshape(out_conv_test.shape[0], -1)\n",
        "    out_fc_test = fc.forward(out_flat_test)\n",
        "    pred_test = softmax(out_fc_test)\n",
        "    acc = accuracy(pred_test, y_test)\n",
        "    print(f\"Epoch {epoch+1}, Accuracy: {acc:.4f}\")\n",
        "\n",
        "    # Record loss and accuracy after each epoch\n",
        "    train_losses.append(loss)  # Last batch loss of the epoch\n",
        "    test_accuracies.append(acc)"
      ]
    },
    {
      "cell_type": "code",
      "execution_count": null,
      "metadata": {
        "id": "pBiQj6TcwG-f"
      },
      "outputs": [],
      "source": [
        "train_losses.append(loss)  # Last batch loss\n",
        "test_accuracies.append(acc)\n"
      ]
    },
    {
      "cell_type": "code",
      "execution_count": 19,
      "metadata": {
        "id": "8KOi65eBwJ-b",
        "colab": {
          "base_uri": "https://localhost:8080/",
          "height": 507
        },
        "outputId": "9f509bb9-68ae-4067-85ec-1b1f7021ee97"
      },
      "outputs": [
        {
          "output_type": "display_data",
          "data": {
            "text/plain": [
              "<Figure size 1200x500 with 2 Axes>"
            ],
            "image/png": "[encoded data removed]"
          },
          "metadata": {}
        }
      ],
      "source": [
        "import matplotlib.pyplot as plt\n",
        "\n",
        "epochs = range(1, len(train_losses) + 1)\n",
        "\n",
        "plt.figure(figsize=(12, 5))\n",
        "\n",
        "# Loss plot\n",
        "plt.subplot(1, 2, 1)\n",
        "plt.plot(epochs, train_losses, marker='o', label='Train Loss')\n",
        "plt.title('Training Loss over Epochs')\n",
        "plt.xlabel('Epoch')\n",
        "plt.ylabel('Loss')\n",
        "plt.grid(True)\n",
        "plt.legend()\n",
        "\n",
        "# Accuracy plot\n",
        "plt.subplot(1, 2, 2)\n",
        "plt.plot(epochs, test_accuracies, marker='s', color='green', label='Test Accuracy')\n",
        "plt.title('Test Accuracy over Epochs')\n",
        "plt.xlabel('Epoch')\n",
        "plt.ylabel('Accuracy')\n",
        "plt.grid(True)\n",
        "plt.legend()\n",
        "\n",
        "plt.tight_layout()\n",
        "plt.show()\n"
      ]
    }
  ],
  "metadata": {
    "colab": {
      "provenance": [],
      "authorship_tag": "ABX9TyPQ2VBF27JdxOgPYnRzdNd5",
      "include_colab_link": true
    },
    "kernelspec": {
      "display_name": "Python 3",
      "name": "python3"
    },
    "language_info": {
      "name": "python"
    }
  },
  "nbformat": 4,
  "nbformat_minor": 0
}