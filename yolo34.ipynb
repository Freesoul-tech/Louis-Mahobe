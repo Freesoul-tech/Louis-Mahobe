{
 "cells": [
  {
   "cell_type": "code",
   "execution_count": 1,
   "id": "6d02fcf8",
   "metadata": {},
   "outputs": [],
   "source": [
    "\n",
    "import numpy as np\n",
    "import matplotlib.pyplot as plt\n",
    "import cv2\n",
    "from PIL import Image\n",
    "from tensorflow.keras.layers import Input, Conv2D, MaxPooling2D, Flatten, Dense\n",
    "from tensorflow.keras.layers import Conv2D\n",
    "\n"
   ]
  },
  {
   "cell_type": "code",
   "execution_count": 4,
   "id": "45d4bddc",
   "metadata": {},
   "outputs": [],
   "source": [
    "import matplotlib.pyplot as plt\n",
    "import cv2\n",
    "\n",
    "def visualize_rpn_proposals(image_path, boxes):\n",
    "    img = cv2.imread(image_path)\n",
    "    for box in boxes[:100]:  # Visualize top 100 proposals\n",
    "        x1, y1, x2, y2 = box.astype(int)\n",
    "        cv2.rectangle(img, (x1, y1), (x2, y2), (0, 255, 0), 1)\n",
    "    plt.imshow(cv2.cvtColor(img, cv2.COLOR_BGR2RGB))\n",
    "    plt.title(\"Top RPN Proposals\")\n",
    "    plt.axis('off')\n",
    "    plt.show()\n"
   ]
  },
  {
   "cell_type": "code",
   "execution_count": 6,
   "id": "c7e0c3df",
   "metadata": {},
   "outputs": [
    {
     "name": "stdout",
     "output_type": "stream",
     "text": [
      "c:\\Users\\LOUIS J MAHOBE\\keras-frcnn\\ObjectDetection\n"
     ]
    },
    {
     "name": "stderr",
     "output_type": "stream",
     "text": [
      "Cloning into 'ObjectDetection'...\n"
     ]
    }
   ],
   "source": [
    "# Clone the duckrabbits/ObjectDetection repo\n",
    "!git clone https://github.com/duckrabbits/ObjectDetection.git\n",
    "%cd ObjectDetection\n",
    "\n"
   ]
  },
  {
   "cell_type": "code",
   "execution_count": 7,
   "id": "76e223fe",
   "metadata": {},
   "outputs": [
    {
     "name": "stderr",
     "output_type": "stream",
     "text": [
      "python: can't open file 'test_frcnn.py': [Errno 2] No such file or directory\n"
     ]
    }
   ],
   "source": [
    "# Run inference on sample images\n",
    "!python test_frcnn.py --path /content/sample_images\n"
   ]
  },
  {
   "cell_type": "code",
   "execution_count": 8,
   "id": "506f7517",
   "metadata": {},
   "outputs": [],
   "source": [
    "import cv2\n",
    "import matplotlib.pyplot as plt\n",
    "\n",
    "def visualize_rpn_proposals(image_path, boxes):\n",
    "    img = cv2.imread(image_path)\n",
    "    for box in boxes[:100]:  # Top 100 proposals\n",
    "        x1, y1, x2, y2 = box.astype(int)\n",
    "        cv2.rectangle(img, (x1, y1), (x2, y2), (0, 255, 0), 1)\n",
    "    plt.imshow(cv2.cvtColor(img, cv2.COLOR_BGR2RGB))\n",
    "    plt.title(\"Top RPN Proposals\")\n",
    "    plt.axis('off')\n",
    "    plt.show()\n"
   ]
  },
  {
   "cell_type": "code",
   "execution_count": 9,
   "id": "dca8ae1f",
   "metadata": {},
   "outputs": [],
   "source": [
    "import csv\n",
    "import os\n"
   ]
  },
  {
   "cell_type": "code",
   "execution_count": 16,
   "id": "cc0d23fd",
   "metadata": {},
   "outputs": [],
   "source": [
    "csv_output_path = 'detection_results.csv'\n",
    "\n",
    "csv_file = open(csv_output_path, mode='w', newline='')\n",
    "csv_writer = csv.writer(csv_file)\n",
    "csv_writer.writerow(['filename', 'class', 'x1', 'y1', 'x2', 'y2', 'confidence'])\n",
    "results_dir = '/content/ObjectDetection/results/'"
   ]
  },
  {
   "cell_type": "code",
   "execution_count": 18,
   "id": "a00a2f8e",
   "metadata": {},
   "outputs": [],
   "source": [
    "csv_file = open(csv_output_path, mode='w', newline='')\n"
   ]
  },
  {
   "cell_type": "code",
   "execution_count": 19,
   "id": "dc516df3",
   "metadata": {},
   "outputs": [
    {
     "name": "stdout",
     "output_type": "stream",
     "text": [
      "c:\\Users\\LOUIS J MAHOBE\\keras-frcnn\\ObjectDetection\n"
     ]
    }
   ],
   "source": [
    "import os\n",
    "print(os.getcwd())\n"
   ]
  },
  {
   "cell_type": "code",
   "execution_count": 25,
   "id": "1488c0bf",
   "metadata": {},
   "outputs": [
    {
     "name": "stdout",
     "output_type": "stream",
     "text": [
      "['.DS_Store', '.git', '.gitignore', 'annotation.txt', 'detection_results.csv', 'model', 'predict.py', 'README.md', 'train.py']\n"
     ]
    }
   ],
   "source": [
    "import os\n",
    "print(os.listdir(r'C:\\Users\\LOUIS J MAHOBE\\keras-frcnn\\ObjectDetection'))\n"
   ]
  },
  {
   "cell_type": "code",
   "execution_count": 28,
   "id": "58edf1c3",
   "metadata": {},
   "outputs": [
    {
     "name": "stdout",
     "output_type": "stream",
     "text": [
      "Detection results saved to detection_results.csv\n"
     ]
    }
   ],
   "source": [
    "import os\n",
    "import cv2\n",
    "import csv\n",
    "\n",
    "# Define output CSV path\n",
    "csv_output_path = 'detection_results.csv'\n",
    "csv_file = open(csv_output_path, mode='w', newline='')\n",
    "csv_writer = csv.writer(csv_file)\n",
    "csv_writer.writerow(['filename', 'class', 'x1', 'y1', 'x2', 'y2', 'confidence'])\n",
    "\n",
    "# Define image directory\n",
    "image_dir = r\"C:\\Users\\LOUIS J MAHOBE\\Desktop\\simps\\kaggle_simpson_testset\"\n",
    "\n",
    "\n",
    "\n",
    "# Loop through images\n",
    "for img_file in os.listdir(image_dir):\n",
    "    img_path = os.path.join(image_dir, img_file)\n",
    "\n",
    "    if os.path.isfile(img_path) and img_file.lower().endswith(('.jpg', '.jpeg', '.png')):\n",
    "        img = cv2.imread(img_path)\n",
    "        if img is not None:\n",
    "            print(f\"Processing image: {img_file}\")\n",
    "\n",
    "            # Dummy detection result (replace with actual model output)\n",
    "            detected_class = 'dummy_class'\n",
    "            x1, y1, x2, y2 = 10, 10, 50, 50\n",
    "            prob = 0.95\n",
    "\n",
    "            # Write to CSV\n",
    "            csv_writer.writerow([img_file, detected_class, x1, y1, x2, y2, round(prob, 3)])\n",
    "\n",
    "# Close CSV file\n",
    "csv_file.close()\n",
    "print(f\"Detection results saved to {csv_output_path}\")\n"
   ]
  },
  {
   "cell_type": "code",
   "execution_count": 30,
   "id": "bc671325",
   "metadata": {},
   "outputs": [],
   "source": [
    "# Dummy detection values\n",
    "detected_class = 'Homer'\n",
    "x1, y1, x2, y2 = 30, 40, 180, 220\n",
    "prob = 0.92\n"
   ]
  },
  {
   "cell_type": "code",
   "execution_count": 31,
   "id": "6d56affc",
   "metadata": {},
   "outputs": [
    {
     "name": "stdout",
     "output_type": "stream",
     "text": [
      "Detection results saved to detection_results.csv\n"
     ]
    }
   ],
   "source": [
    "csv_file.close()\n",
    "print(f\"Detection results saved to {csv_output_path}\")\n"
   ]
  },
  {
   "cell_type": "code",
   "execution_count": 34,
   "id": "22d145c8",
   "metadata": {},
   "outputs": [],
   "source": [
    "df = pd.read_csv('detection_results.csv')\n"
   ]
  },
  {
   "cell_type": "code",
   "execution_count": 35,
   "id": "ab6992ac",
   "metadata": {},
   "outputs": [
    {
     "name": "stdout",
     "output_type": "stream",
     "text": [
      "File not found: C:\\Users\\LOUIS J MAHOBE\\Desktop\\simps\\detection_results.csv\n"
     ]
    }
   ],
   "source": [
    "import os\n",
    "\n",
    "csv_path = r'C:\\Users\\LOUIS J MAHOBE\\Desktop\\simps\\detection_results.csv'\n",
    "if os.path.exists(csv_path):\n",
    "    df = pd.read_csv(csv_path)\n",
    "    print(df.head())\n",
    "else:\n",
    "    print(f\"File not found: {csv_path}\")\n"
   ]
  },
  {
   "cell_type": "code",
   "execution_count": 36,
   "id": "0ca5bc63",
   "metadata": {},
   "outputs": [],
   "source": [
    "import csv\n",
    "\n",
    "csv_output_path = r'C:\\Users\\LOUIS J MAHOBE\\Desktop\\simps\\detection_results.csv'\n",
    "with open(csv_output_path, mode='w', newline='') as csv_file:\n",
    "    csv_writer = csv.writer(csv_file)\n",
    "    csv_writer.writerow(['filename', 'class', 'x1', 'y1', 'x2', 'y2', 'confidence'])\n",
    "    csv_writer.writerow(['test1.jpg', 'Homer', 30, 40, 180, 220, 0.92])\n"
   ]
  },
  {
   "cell_type": "code",
   "execution_count": 37,
   "id": "195822ab",
   "metadata": {},
   "outputs": [
    {
     "name": "stdout",
     "output_type": "stream",
     "text": [
      "True\n"
     ]
    }
   ],
   "source": [
    "import os\n",
    "print(os.path.exists(r'C:\\Users\\LOUIS J MAHOBE\\Desktop\\simps'))\n"
   ]
  },
  {
   "cell_type": "code",
   "execution_count": 38,
   "id": "22bf7021",
   "metadata": {},
   "outputs": [],
   "source": [
    "df = pd.read_csv(r'C:\\Users\\LOUIS J MAHOBE\\Desktop\\simps\\detection_results.csv')\n"
   ]
  },
  {
   "cell_type": "code",
   "execution_count": 39,
   "id": "56a377a3",
   "metadata": {},
   "outputs": [
    {
     "data": {
      "text/html": [
       "<div>\n",
       "<style scoped>\n",
       "    .dataframe tbody tr th:only-of-type {\n",
       "        vertical-align: middle;\n",
       "    }\n",
       "\n",
       "    .dataframe tbody tr th {\n",
       "        vertical-align: top;\n",
       "    }\n",
       "\n",
       "    .dataframe thead th {\n",
       "        text-align: right;\n",
       "    }\n",
       "</style>\n",
       "<table border=\"1\" class=\"dataframe\">\n",
       "  <thead>\n",
       "    <tr style=\"text-align: right;\">\n",
       "      <th></th>\n",
       "      <th>filename</th>\n",
       "      <th>class</th>\n",
       "      <th>x1</th>\n",
       "      <th>y1</th>\n",
       "      <th>x2</th>\n",
       "      <th>y2</th>\n",
       "      <th>confidence</th>\n",
       "    </tr>\n",
       "  </thead>\n",
       "  <tbody>\n",
       "    <tr>\n",
       "      <th>0</th>\n",
       "      <td>test1.jpg</td>\n",
       "      <td>Homer</td>\n",
       "      <td>30</td>\n",
       "      <td>40</td>\n",
       "      <td>180</td>\n",
       "      <td>220</td>\n",
       "      <td>0.92</td>\n",
       "    </tr>\n",
       "  </tbody>\n",
       "</table>\n",
       "</div>"
      ],
      "text/plain": [
       "    filename  class  x1  y1   x2   y2  confidence\n",
       "0  test1.jpg  Homer  30  40  180  220        0.92"
      ]
     },
     "execution_count": 39,
     "metadata": {},
     "output_type": "execute_result"
    }
   ],
   "source": [
    "import pandas as pd\n",
    "df = pd.read_csv(r'C:\\Users\\LOUIS J MAHOBE\\Desktop\\simps\\detection_results.csv')\n",
    "df.head()\n"
   ]
  },
  {
   "cell_type": "code",
   "execution_count": 42,
   "id": "6ca14c7d",
   "metadata": {},
   "outputs": [],
   "source": [
    "import cv2\n",
    "import matplotlib.pyplot as plt\n",
    "\n",
    "def visualize_rpn_proposals(image_path, boxes):\n",
    "    img = cv2.imread(image_path)\n",
    "    for box in boxes[:100]:  # Top 100 proposals\n",
    "        x1, y1, x2, y2 = box.astype(int)\n",
    "        cv2.rectangle(img, (x1, y1), (x2, y2), (0, 255, 0), 1)\n",
    "    plt.imshow(cv2.cvtColor(img, cv2.COLOR_BGR2RGB))\n",
    "    plt.title(\"Top RPN Proposals\")\n",
    "    plt.axis('off')\n",
    "    plt.show()\n"
   ]
  },
  {
   "cell_type": "code",
   "execution_count": 45,
   "id": "e9defec0",
   "metadata": {},
   "outputs": [
    {
     "name": "stdout",
     "output_type": "stream",
     "text": [
      "False\n"
     ]
    }
   ],
   "source": [
    "import os\n",
    "print(os.path.exists(image_dir))  # Should return True\n"
   ]
  },
  {
   "cell_type": "code",
   "execution_count": 46,
   "id": "1137aec5",
   "metadata": {},
   "outputs": [],
   "source": [
    "os.makedirs(image_dir, exist_ok=True)\n"
   ]
  },
  {
   "cell_type": "code",
   "execution_count": 47,
   "id": "38b157d8",
   "metadata": {},
   "outputs": [],
   "source": [
    "from PIL import Image\n",
    "Image.new('RGB', (224, 224), color='gray').save(os.path.join(image_dir, 'test1.jpg'))\n"
   ]
  },
  {
   "cell_type": "code",
   "execution_count": 48,
   "id": "764f040c",
   "metadata": {},
   "outputs": [
    {
     "name": "stdout",
     "output_type": "stream",
     "text": [
      "Processing image: test1.jpg\n"
     ]
    }
   ],
   "source": [
    "for img_file in os.listdir(image_dir):\n",
    "    img_path = os.path.join(image_dir, img_file)\n",
    "    if os.path.isfile(img_path) and img_file.lower().endswith(('.jpg', '.jpeg', '.png')):\n",
    "        print(f\"Processing image: {img_file}\")\n"
   ]
  },
  {
   "cell_type": "code",
   "execution_count": 49,
   "id": "885ab06b",
   "metadata": {},
   "outputs": [],
   "source": [
    "from tensorflow.keras.layers import Conv2D\n"
   ]
  },
  {
   "cell_type": "code",
   "execution_count": 52,
   "id": "2a312de5",
   "metadata": {},
   "outputs": [
    {
     "name": "stdout",
     "output_type": "stream",
     "text": [
      "2.11.0\n"
     ]
    }
   ],
   "source": [
    "import tensorflow as tf\n",
    "print(tf.__version__)\n"
   ]
  },
  {
   "cell_type": "code",
   "execution_count": 53,
   "id": "6e3bf6db",
   "metadata": {},
   "outputs": [
    {
     "name": "stdout",
     "output_type": "stream",
     "text": [
      "Downloading data from https://storage.googleapis.com/tensorflow/keras-applications/vgg16/vgg16_weights_tf_dim_ordering_tf_kernels_notop.h5\n",
      "58889256/58889256 [==============================] - 18s 0us/step\n"
     ]
    }
   ],
   "source": [
    "from tensorflow.keras.applications import VGG16\n",
    "from tensorflow.keras.layers import Input\n",
    "from tensorflow.keras.models import Model\n",
    "\n",
    "# Define input shape (adjust as needed)\n",
    "input_tensor = Input(shape=(224, 224, 3))\n",
    "\n",
    "# Load VGG16 without top layers, using pretrained ImageNet weights\n",
    "base_model = VGG16(weights='imagenet', include_top=False, input_tensor=input_tensor)\n",
    "\n",
    "# Extract convolutional feature map\n",
    "base_layers = base_model.output\n"
   ]
  },
  {
   "cell_type": "code",
   "execution_count": 4,
   "id": "713e4416",
   "metadata": {},
   "outputs": [],
   "source": [
    "def build_backbone(input_shape):\n",
    "    input_tensor = Input(shape=input_shape)\n",
    "    # define layers...\n",
    "    return input_tensor, base_layers\n"
   ]
  },
  {
   "cell_type": "code",
   "execution_count": 8,
   "id": "60e6aeb7",
   "metadata": {},
   "outputs": [],
   "source": [
    "from tensorflow.keras.layers import Input\n"
   ]
  },
  {
   "cell_type": "code",
   "execution_count": 10,
   "id": "1555fff2",
   "metadata": {},
   "outputs": [],
   "source": [
    "from tensorflow.keras.applications import VGG16\n",
    "\n",
    "input_tensor = Input(shape=(None, None, 3))\n",
    "base_model = VGG16(include_top=False, weights='imagenet', input_tensor=input_tensor)\n",
    "base_layers = base_model.output\n"
   ]
  },
  {
   "cell_type": "code",
   "execution_count": 13,
   "id": "ea69fd38",
   "metadata": {},
   "outputs": [],
   "source": [
    "from tensorflow.keras.models import Model\n"
   ]
  },
  {
   "cell_type": "code",
   "execution_count": 14,
   "id": "5fa2f6da",
   "metadata": {},
   "outputs": [],
   "source": [
    "from tensorflow.keras.applications import VGG16\n",
    "from tensorflow.keras.layers import Input, Conv2D\n",
    "from tensorflow.keras.models import Model\n",
    "\n",
    "input_tensor = Input(shape=(None, None, 3))\n",
    "base_model = VGG16(include_top=False, weights='imagenet', input_tensor=input_tensor)\n",
    "base_layers = base_model.output\n",
    "\n",
    "num_anchors = 9  # Example: 3 scales × 3 aspect ratios\n",
    "x = Conv2D(512, (3, 3), padding='same', activation='relu')(base_layers)\n",
    "x_class = Conv2D(num_anchors * 2, (1, 1))(x)\n",
    "x_regr = Conv2D(num_anchors * 4, (1, 1))(x)\n",
    "\n",
    "rpn_model = Model(inputs=input_tensor, outputs=[x_class, x_regr])\n"
   ]
  },
  {
   "cell_type": "code",
   "execution_count": 15,
   "id": "f3514d21",
   "metadata": {},
   "outputs": [],
   "source": [
    "rpn_model = Model(inputs=input_tensor, outputs=[x_class, x_regr])\n"
   ]
  },
  {
   "cell_type": "code",
   "execution_count": 16,
   "id": "55ba5574",
   "metadata": {},
   "outputs": [
    {
     "name": "stdout",
     "output_type": "stream",
     "text": [
      "Model: \"model_1\"\n",
      "__________________________________________________________________________________________________\n",
      " Layer (type)                   Output Shape         Param #     Connected to                     \n",
      "==================================================================================================\n",
      " input_3 (InputLayer)           [(None, None, None,  0           []                               \n",
      "                                 3)]                                                              \n",
      "                                                                                                  \n",
      " block1_conv1 (Conv2D)          (None, None, None,   1792        ['input_3[0][0]']                \n",
      "                                64)                                                               \n",
      "                                                                                                  \n",
      " block1_conv2 (Conv2D)          (None, None, None,   36928       ['block1_conv1[0][0]']           \n",
      "                                64)                                                               \n",
      "                                                                                                  \n",
      " block1_pool (MaxPooling2D)     (None, None, None,   0           ['block1_conv2[0][0]']           \n",
      "                                64)                                                               \n",
      "                                                                                                  \n",
      " block2_conv1 (Conv2D)          (None, None, None,   73856       ['block1_pool[0][0]']            \n",
      "                                128)                                                              \n",
      "                                                                                                  \n",
      " block2_conv2 (Conv2D)          (None, None, None,   147584      ['block2_conv1[0][0]']           \n",
      "                                128)                                                              \n",
      "                                                                                                  \n",
      " block2_pool (MaxPooling2D)     (None, None, None,   0           ['block2_conv2[0][0]']           \n",
      "                                128)                                                              \n",
      "                                                                                                  \n",
      " block3_conv1 (Conv2D)          (None, None, None,   295168      ['block2_pool[0][0]']            \n",
      "                                256)                                                              \n",
      "                                                                                                  \n",
      " block3_conv2 (Conv2D)          (None, None, None,   590080      ['block3_conv1[0][0]']           \n",
      "                                256)                                                              \n",
      "                                                                                                  \n",
      " block3_conv3 (Conv2D)          (None, None, None,   590080      ['block3_conv2[0][0]']           \n",
      "                                256)                                                              \n",
      "                                                                                                  \n",
      " block3_pool (MaxPooling2D)     (None, None, None,   0           ['block3_conv3[0][0]']           \n",
      "                                256)                                                              \n",
      "                                                                                                  \n",
      " block4_conv1 (Conv2D)          (None, None, None,   1180160     ['block3_pool[0][0]']            \n",
      "                                512)                                                              \n",
      "                                                                                                  \n",
      " block4_conv2 (Conv2D)          (None, None, None,   2359808     ['block4_conv1[0][0]']           \n",
      "                                512)                                                              \n",
      "                                                                                                  \n",
      " block4_conv3 (Conv2D)          (None, None, None,   2359808     ['block4_conv2[0][0]']           \n",
      "                                512)                                                              \n",
      "                                                                                                  \n",
      " block4_pool (MaxPooling2D)     (None, None, None,   0           ['block4_conv3[0][0]']           \n",
      "                                512)                                                              \n",
      "                                                                                                  \n",
      " block5_conv1 (Conv2D)          (None, None, None,   2359808     ['block4_pool[0][0]']            \n",
      "                                512)                                                              \n",
      "                                                                                                  \n",
      " block5_conv2 (Conv2D)          (None, None, None,   2359808     ['block5_conv1[0][0]']           \n",
      "                                512)                                                              \n",
      "                                                                                                  \n",
      " block5_conv3 (Conv2D)          (None, None, None,   2359808     ['block5_conv2[0][0]']           \n",
      "                                512)                                                              \n",
      "                                                                                                  \n",
      " block5_pool (MaxPooling2D)     (None, None, None,   0           ['block5_conv3[0][0]']           \n",
      "                                512)                                                              \n",
      "                                                                                                  \n",
      " conv2d_5 (Conv2D)              (None, None, None,   2359808     ['block5_pool[0][0]']            \n",
      "                                512)                                                              \n",
      "                                                                                                  \n",
      " conv2d_6 (Conv2D)              (None, None, None,   9234        ['conv2d_5[0][0]']               \n",
      "                                18)                                                               \n",
      "                                                                                                  \n",
      " conv2d_7 (Conv2D)              (None, None, None,   18468       ['conv2d_5[0][0]']               \n",
      "                                36)                                                               \n",
      "                                                                                                  \n",
      "==================================================================================================\n",
      "Total params: 17,102,198\n",
      "Trainable params: 17,102,198\n",
      "Non-trainable params: 0\n",
      "__________________________________________________________________________________________________\n"
     ]
    }
   ],
   "source": [
    "rpn_model.summary()\n"
   ]
  }
 ],
 "metadata": {
  "kernelspec": {
   "display_name": "3.7.4",
   "language": "python",
   "name": "python3"
  },
  "language_info": {
   "codemirror_mode": {
    "name": "ipython",
    "version": 3
   },
   "file_extension": ".py",
   "mimetype": "text/x-python",
   "name": "python",
   "nbconvert_exporter": "python",
   "pygments_lexer": "ipython3",
   "version": "3.7.4"
  }
 },
 "nbformat": 4,
 "nbformat_minor": 5
}
