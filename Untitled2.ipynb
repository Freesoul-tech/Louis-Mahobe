{
  "nbformat": 4,
  "nbformat_minor": 0,
  "metadata": {
    "colab": {
      "provenance": [],
      "authorship_tag": "ABX9TyM1C+sa/YG1RfXjd3NHjLh1",
      "include_colab_link": true
    },
    "kernelspec": {
      "name": "python3",
      "display_name": "Python 3"
    },
    "language_info": {
      "name": "python"
    }
  },
  "cells": [
    {
      "cell_type": "markdown",
      "metadata": {
        "id": "view-in-github",
        "colab_type": "text"
      },
      "source": [
        "<a href=\"https://colab.research.google.com/github/Freesoul-tech/Louis-Mahobe/blob/main/Untitled2.ipynb\" target=\"_parent\"><img src=\"https://colab.research.google.com/assets/colab-badge.svg\" alt=\"Open In Colab\"/></a>"
      ]
    },
    {
      "cell_type": "code",
      "execution_count": 5,
      "metadata": {
        "colab": {
          "base_uri": "https://localhost:8080/"
        },
        "id": "eXJek5p55cvQ",
        "outputId": "fe53da45-78d3-4bd0-f8dd-49b3d88b4d5d"
      },
      "outputs": [
        {
          "output_type": "stream",
          "name": "stdout",
          "text": [
            "Length of paper required to fold it 50 times is 5.309922417327612e+25 meters.\n",
            "The thicknes of the paper after 50 folds is 5.309922417327612e+22 kilometres.\n",
            "Number of folds to reach the Moon: 42.12767356964737\n",
            "Number of folds to reach Mt. Fuji: 25.49228352379865\n",
            "Number of folds to reach Proxima Centauri: 68.76461884280165\n"
          ]
        }
      ],
      "source": [
        "import math\n",
        "\n",
        "def calculate_paper_length(folds, initial_thickness):\n",
        "\n",
        "    length = (math.pi * initial_thickness / 6) * (2 ** folds + 4) * (2 ** folds - 1)\n",
        "    return length\n",
        "\n",
        "\n",
        "folds = 50\n",
        "initial_thickness = 0.00008\n",
        "length = calculate_paper_length(folds, initial_thickness)\n",
        "print(f\"Length of paper required to fold it {folds} times is {length} meters.\")\n",
        "print(f\"The thicknes of the paper after {folds} folds is {length/1000} kilometres.\")\n",
        "\n",
        "distance_to_moon = 384400 * 1000\n",
        "\n",
        "height_of_mt_fuji = 3776\n",
        "\n",
        "distance_to_proxima_centauri = 4.24 * 9.461e12 * 1000\n",
        "\n",
        "folds_to_moon = math.log2(distance_to_moon / initial_thickness)\n",
        "folds_to_mt_fuji = math.log2(height_of_mt_fuji / initial_thickness)\n",
        "folds_to_proxima_centauri = math.log2(distance_to_proxima_centauri / initial_thickness)\n",
        "\n",
        "print(f\"Number of folds to reach the Moon: {folds_to_moon}\")\n",
        "print(f\"Number of folds to reach Mt. Fuji: {folds_to_mt_fuji}\")\n",
        "print(f\"Number of folds to reach Proxima Centauri: {folds_to_proxima_centauri}\")"
      ]
    }
  ]
}