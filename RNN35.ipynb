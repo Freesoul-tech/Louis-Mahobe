{
  "nbformat": 4,
  "nbformat_minor": 0,
  "metadata": {
    "colab": {
      "provenance": [],
      "authorship_tag": "ABX9TyOpRyqqST6UBMkML4ZpjFAh",
      "include_colab_link": true
    },
    "kernelspec": {
      "name": "python3",
      "display_name": "Python 3"
    },
    "language_info": {
      "name": "python"
    }
  },
  "cells": [
    {
      "cell_type": "markdown",
      "metadata": {
        "id": "view-in-github",
        "colab_type": "text"
      },
      "source": [
        "<a href=\"https://colab.research.google.com/github/Freesoul-tech/Louis-Mahobe/blob/main/RNN35.ipynb\" target=\"_parent\"><img src=\"https://colab.research.google.com/assets/colab-badge.svg\" alt=\"Open In Colab\"/></a>"
      ]
    },
    {
      "cell_type": "code",
      "execution_count": 1,
      "metadata": {
        "id": "pzAXl6Z6YC_Y"
      },
      "outputs": [],
      "source": [
        "import numpy as np\n",
        "\n",
        "class SimpleRNN:\n",
        "    def __init__(self, n_features, n_nodes):\n",
        "        self.n_features = n_features\n",
        "        self.n_nodes = n_nodes\n",
        "\n",
        "        self.w_x = np.random.randn(n_features, n_nodes) * 0.01\n",
        "        self.w_h = np.random.randn(n_nodes, n_nodes) * 0.01\n",
        "        self.b = np.ones(n_nodes)\n",
        "\n",
        "    def forward(self, x):\n",
        "        batch_size, n_sequences, _ = x.shape\n",
        "        h = np.zeros((batch_size, self.n_nodes))\n",
        "\n",
        "        self.h_list = []\n",
        "\n",
        "        for t in range(n_sequences):\n",
        "            x_t = x[:, t, :]\n",
        "            a_t = np.dot(x_t, self.w_x) + np.dot(h, self.w_h) + self.b\n",
        "            h = np.tanh(a_t)\n",
        "            self.h_list.append(h)\n",
        "\n",
        "        return h\n"
      ]
    },
    {
      "cell_type": "code",
      "source": [
        "x = np.array([[[1, 2], [2, 3], [3, 4]]]) / 100\n",
        "w_x = np.array([[1, 3, 5, 7], [3, 5, 7, 8]]) / 100\n",
        "w_h = np.array([[1, 3, 5, 7],\n",
        "                [2, 4, 6, 8],\n",
        "                [3, 5, 7, 8],\n",
        "                [4, 6, 8, 10]]) / 100\n",
        "b = np.array([1, 1, 1, 1])\n",
        "\n",
        "# Manual override for testing\n",
        "rnn = SimpleRNN(n_features=2, n_nodes=4)\n",
        "rnn.w_x = w_x\n",
        "rnn.w_h = w_h\n",
        "rnn.b = b\n",
        "\n",
        "output = rnn.forward(x)\n",
        "print(\"Final hidden state:\", output)\n"
      ],
      "metadata": {
        "colab": {
          "base_uri": "https://localhost:8080/"
        },
        "id": "l8ytATJKZIUB",
        "outputId": "1ce37122-0597-456c-9634-7c1fc9c880ff"
      },
      "execution_count": 2,
      "outputs": [
        {
          "output_type": "stream",
          "name": "stdout",
          "text": [
            "Final hidden state: [[0.79494228 0.81839002 0.83939649 0.85584174]]\n"
          ]
        }
      ]
    },
    {
      "cell_type": "code",
      "source": [
        "class SimpleRNN:\n",
        "    def __init__(self, n_features, n_nodes, learning_rate=0.01):\n",
        "        self.n_features = n_features\n",
        "        self.n_nodes = n_nodes\n",
        "        self.learning_rate = learning_rate\n",
        "\n",
        "        self.w_x = np.random.randn(n_features, n_nodes) * 0.01\n",
        "        self.w_h = np.random.randn(n_nodes, n_nodes) * 0.01\n",
        "        self.b = np.ones(n_nodes)\n",
        "\n",
        "    def forward(self, x):\n",
        "        batch_size, n_sequences, _ = x.shape\n",
        "        h = np.zeros((batch_size, self.n_nodes))\n",
        "        self.h_list = []\n",
        "        self.a_list = []\n",
        "        self.x_list = []\n",
        "\n",
        "        for t in range(n_sequences):\n",
        "            x_t = x[:, t, :]\n",
        "            a_t = np.dot(x_t, self.w_x) + np.dot(h, self.w_h) + self.b\n",
        "            h = np.tanh(a_t)\n",
        "\n",
        "            self.h_list.append(h.copy())\n",
        "            self.a_list.append(a_t.copy())\n",
        "            self.x_list.append(x_t.copy())\n",
        "\n",
        "        return h\n",
        "\n",
        "    def backward(self, dL_dh_last):\n",
        "        # Initialize gradients\n",
        "        dW_x = np.zeros_like(self.w_x)\n",
        "        dW_h = np.zeros_like(self.w_h)\n",
        "        db = np.zeros_like(self.b)\n",
        "\n",
        "        dL_dh_next = dL_dh_last\n",
        "\n",
        "        for t in reversed(range(len(self.h_list))):\n",
        "            h_t = self.h_list[t]\n",
        "            a_t = self.a_list[t]\n",
        "            x_t = self.x_list[t]\n",
        "            h_prev = self.h_list[t - 1] if t > 0 else np.zeros_like(h_t)\n",
        "\n",
        "            dL_da_t = dL_dh_next * (1 - np.tanh(a_t) ** 2)\n",
        "\n",
        "\n",
        "            db += np.sum(dL_da_t, axis=0)\n",
        "            dW_x += np.dot(x_t.T, dL_da_t)\n",
        "            dW_h += np.dot(h_prev.T, dL_da_t)\n",
        "\n",
        "            dL_dh_next = np.dot(dL_da_t, self.w_h.T)\n",
        "\n",
        "        self.w_x -= self.learning_rate * dW_x\n",
        "        self.w_h -= self.learning_rate * dW_h\n",
        "        self.b -= self.learning_rate * db\n"
      ],
      "metadata": {
        "id": "jcybyQHEZouf"
      },
      "execution_count": 3,
      "outputs": []
    },
    {
      "cell_type": "code",
      "source": [
        "import numpy as np\n",
        "\n",
        "class ScratchSimpleRNNClassifier:\n",
        "    def __init__(self, n_features, n_nodes, n_output, learning_rate=0.01):\n",
        "        self.rnn = SimpleRNN(n_features, n_nodes, learning_rate)\n",
        "        self.w_out = np.random.randn(n_nodes, n_output) * 0.01\n",
        "        self.b_out = np.zeros(n_output)\n",
        "        self.learning_rate = learning_rate\n",
        "\n",
        "    def softmax(self, x):\n",
        "        exp_x = np.exp(x - np.max(x, axis=1, keepdims=True))\n",
        "        return exp_x / np.sum(exp_x, axis=1, keepdims=True)\n",
        "\n",
        "    def cross_entropy(self, y_pred, y_true):\n",
        "        batch_size = y_pred.shape[0]\n",
        "        return -np.sum(y_true * np.log(y_pred + 1e-7)) / batch_size\n",
        "\n",
        "    def forward(self, x):\n",
        "        h_last = self.rnn.forward(x)\n",
        "        self.h_last = h_last\n",
        "        self.z = np.dot(h_last, self.w_out) + self.b_out\n",
        "        self.y_pred = self.softmax(self.z)\n",
        "        return self.y_pred\n",
        "\n",
        "    def backward(self, x, y_true):\n",
        "        batch_size = y_true.shape[0]\n",
        "        dL_dz = (self.y_pred - y_true) / batch_size\n",
        "\n",
        "        dL_dw_out = np.dot(self.h_last.T, dL_dz)\n",
        "        dL_db_out = np.sum(dL_dz, axis=0)\n",
        "\n",
        "\n",
        "        dL_dh_last = np.dot(dL_dz, self.w_out.T)\n",
        "\n",
        "        self.rnn.backward(dL_dh_last)\n",
        "\n",
        "\n",
        "        self.w_out -= self.learning_rate * dL_dw_out\n",
        "        self.b_out -= self.learning_rate * dL_db_out\n",
        "\n",
        "    def train(self, x, y_true, epochs=10):\n",
        "        for epoch in range(epochs):\n",
        "            y_pred = self.forward(x)\n",
        "            loss = self.cross_entropy(y_pred, y_true)\n",
        "            self.backward(x, y_true)\n",
        "            print(f\"Epoch {epoch+1}, Loss: {loss:.4f}\")\n"
      ],
      "metadata": {
        "id": "QnKrm5xfa3du"
      },
      "execution_count": 4,
      "outputs": []
    },
    {
      "cell_type": "code",
      "source": [
        "\n",
        "x = np.array([\n",
        "    [[1, 2], [2, 3], [3, 4]],\n",
        "    [[2, 1], [3, 2], [4, 3]]\n",
        "]) / 100\n",
        "\n",
        "y_true = np.array([\n",
        "    [1, 0],\n",
        "    [0, 1]\n",
        "])\n",
        "\n",
        "model = ScratchSimpleRNNClassifier(n_features=2, n_nodes=4, n_output=2, learning_rate=0.1)\n",
        "model.train(x, y_true, epochs=20)\n"
      ],
      "metadata": {
        "colab": {
          "base_uri": "https://localhost:8080/"
        },
        "id": "KZ5K6AEsbNXx",
        "outputId": "cc60fde0-320d-43f2-d44a-f148f7ec76af"
      },
      "execution_count": 5,
      "outputs": [
        {
          "output_type": "stream",
          "name": "stdout",
          "text": [
            "Epoch 1, Loss: 0.6932\n",
            "Epoch 2, Loss: 0.6932\n",
            "Epoch 3, Loss: 0.6932\n",
            "Epoch 4, Loss: 0.6932\n",
            "Epoch 5, Loss: 0.6932\n",
            "Epoch 6, Loss: 0.6932\n",
            "Epoch 7, Loss: 0.6932\n",
            "Epoch 8, Loss: 0.6931\n",
            "Epoch 9, Loss: 0.6931\n",
            "Epoch 10, Loss: 0.6931\n",
            "Epoch 11, Loss: 0.6931\n",
            "Epoch 12, Loss: 0.6931\n",
            "Epoch 13, Loss: 0.6931\n",
            "Epoch 14, Loss: 0.6931\n",
            "Epoch 15, Loss: 0.6931\n",
            "Epoch 16, Loss: 0.6931\n",
            "Epoch 17, Loss: 0.6931\n",
            "Epoch 18, Loss: 0.6931\n",
            "Epoch 19, Loss: 0.6931\n",
            "Epoch 20, Loss: 0.6931\n"
          ]
        }
      ]
    }
  ]
}