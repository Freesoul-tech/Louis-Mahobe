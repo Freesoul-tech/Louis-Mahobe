{
  "nbformat": 4,
  "nbformat_minor": 0,
  "metadata": {
    "colab": {
      "provenance": [],
      "authorship_tag": "ABX9TyMbdA1M3c9W2pFRek70ufr3",
      "include_colab_link": true
    },
    "kernelspec": {
      "name": "python3",
      "display_name": "Python 3"
    },
    "language_info": {
      "name": "python"
    }
  },
  "cells": [
    {
      "cell_type": "markdown",
      "metadata": {
        "id": "view-in-github",
        "colab_type": "text"
      },
      "source": [
        "<a href=\"https://colab.research.google.com/github/Freesoul-tech/Louis-Mahobe/blob/main/comv_2d_rev.ipynb\" target=\"_parent\"><img src=\"https://colab.research.google.com/assets/colab-badge.svg\" alt=\"Open In Colab\"/></a>"
      ]
    },
    {
      "cell_type": "code",
      "source": [
        "class Conv2d:\n",
        "    def __init__(self, in_channels, out_channels, kernel_size):\n",
        "        self.in_channels = in_channels\n",
        "        self.out_channels = out_channels\n",
        "        self.kernel_size = kernel_size\n",
        "        self.weights = np.random.randn(out_channels, in_channels, kernel_size, kernel_size) * 0.01\n",
        "        self.bias = np.zeros(out_channels)\n",
        "\n",
        "    def forward(self, x):\n",
        "        self.x = x  # Save input for backward\n",
        "        batch_size, _, H, W = x.shape\n",
        "        k = self.kernel_size\n",
        "        H_out = H - k + 1\n",
        "        W_out = W - k + 1\n",
        "        out = np.zeros((batch_size, self.out_channels, H_out, W_out))\n",
        "\n",
        "        for b in range(batch_size):\n",
        "            for oc in range(self.out_channels):\n",
        "                for i in range(H_out):\n",
        "                    for j in range(W_out):\n",
        "                        patch = x[b, :, i:i+k, j:j+k]\n",
        "                        out[b, oc, i, j] = np.sum(patch * self.weights[oc]) + self.bias[oc]\n",
        "        return out\n",
        "\n",
        "    def backward(self, delta):\n",
        "        x = self.x\n",
        "        batch_size, _, H, W = x.shape\n",
        "        k = self.kernel_size\n",
        "        H_out = H - k + 1\n",
        "        W_out = W - k + 1\n",
        "\n",
        "        dw = np.zeros_like(self.weights)\n",
        "        db = np.zeros_like(self.bias)\n",
        "        dx = np.zeros_like(x)\n",
        "\n",
        "        for b in range(batch_size):\n",
        "            for oc in range(self.out_channels):\n",
        "                db[oc] += np.sum(delta[b, oc])\n",
        "                for ic in range(self.in_channels):\n",
        "                    for i in range(H_out):\n",
        "                        for j in range(W_out):\n",
        "                            patch = x[b, ic, i:i+k, j:j+k]\n",
        "                            dw[oc, ic] += delta[b, oc, i, j] * patch\n",
        "                            dx[b, ic, i:i+k, j:j+k] += delta[b, oc, i, j] * self.weights[oc, ic]\n",
        "        return dx, dw, db\n"
      ],
      "metadata": {
        "id": "PfSCF-3TeNWm"
      },
      "execution_count": 43,
      "outputs": []
    },
    {
      "cell_type": "code",
      "source": [
        "x = np.array([[[[ 1,  2,  3,  4],\n",
        "                [ 5,  6,  7,  8],\n",
        "                [ 9, 10, 11, 12],\n",
        "                [13, 14, 15, 16]]]])\n",
        "\n",
        "w = np.array([[[[ 0.,  0.,  0.],\n",
        "                [ 0.,  1.,  0.],\n",
        "                [ 0., -1.,  0.]]],\n",
        "\n",
        "              [[[ 0.,  0.,  0.],\n",
        "                [ 0., -1.,  1.],\n",
        "                [ 0.,  0.,  0.]]]])\n",
        "\n",
        "conv = Conv2d(in_channels=1, out_channels=2, kernel_size=3)\n",
        "conv.weights = w\n",
        "conv.bias = np.zeros(2)\n",
        "\n",
        "out = conv.forward(x)\n",
        "print(out)\n"
      ],
      "metadata": {
        "colab": {
          "base_uri": "https://localhost:8080/"
        },
        "id": "6o_7m7BBYfTt",
        "outputId": "3dc13a0a-1b45-4d68-8650-4f80c54900d1"
      },
      "execution_count": 44,
      "outputs": [
        {
          "output_type": "stream",
          "name": "stdout",
          "text": [
            "[[[[-4. -4.]\n",
            "   [-4. -4.]]\n",
            "\n",
            "  [[ 1.  1.]\n",
            "   [ 1.  1.]]]]\n"
          ]
        }
      ]
    },
    {
      "cell_type": "code",
      "source": [
        "def conv2d_output_size(H_in, W_in, F_h, F_w, P_h, P_w, S_h, S_w):\n",
        "    H_out = (H_in + 2 * P_h - F_h) // S_h + 1\n",
        "    W_out = (W_in + 2 * P_w - F_w) // S_w + 1\n",
        "    return H_out, W_out\n"
      ],
      "metadata": {
        "id": "qAMT1_-ZbmGf"
      },
      "execution_count": 45,
      "outputs": []
    },
    {
      "cell_type": "code",
      "source": [
        "# Input: 28x28, Filter: 3x3, Padding: 1, Stride: 1\n",
        "H_out, W_out = conv2d_output_size(28, 28, 3, 3, 1, 1, 1, 1)\n",
        "print(f\"Output size: {H_out} x {W_out}\")\n"
      ],
      "metadata": {
        "colab": {
          "base_uri": "https://localhost:8080/"
        },
        "id": "8rfQpphSbpHo",
        "outputId": "96fe2d77-2899-4aa6-f102-29c23e66f116"
      },
      "execution_count": 46,
      "outputs": [
        {
          "output_type": "stream",
          "name": "stdout",
          "text": [
            "Output size: 28 x 28\n"
          ]
        }
      ]
    },
    {
      "cell_type": "code",
      "source": [
        "import numpy as np\n",
        "\n",
        "class MaxPool2D:\n",
        "    def __init__(self, kernel_size=2, stride=2):\n",
        "        self.kernel_size = kernel_size\n",
        "        self.stride = stride\n",
        "\n",
        "    def forward(self, x):\n",
        "        self.x = x  # Save input for backward\n",
        "        batch_size, channels, H, W = x.shape\n",
        "        k = self.kernel_size\n",
        "        s = self.stride\n",
        "        H_out = (H - k) // s + 1\n",
        "        W_out = (W - k) // s + 1\n",
        "        out = np.zeros((batch_size, channels, H_out, W_out))\n",
        "        # Store the indices of the maximum values for backward pass\n",
        "        self.max_indices = np.zeros_like(x, dtype=bool)\n",
        "\n",
        "        for b in range(batch_size):\n",
        "            for c in range(channels):\n",
        "                for i in range(H_out):\n",
        "                    for j in range(W_out):\n",
        "                        h_start = i * s\n",
        "                        w_start = j * s\n",
        "                        patch = x[b, c, h_start:h_start+k, w_start:w_start+k]\n",
        "                        max_val = np.max(patch)\n",
        "                        out[b, c, i, j] = max_val\n",
        "                        # Create a mask for the max values in the patch\n",
        "                        max_mask = (patch == max_val)\n",
        "                        # Store the mask in the corresponding location in max_indices\n",
        "                        self.max_indices[b, c, h_start:h_start+k, w_start:w_start+k] = max_mask\n",
        "        return out\n",
        "\n",
        "    def backward(self, delta):\n",
        "        # Initialize dx with zeros\n",
        "        dx = np.zeros_like(self.x)\n",
        "        k = self.kernel_size\n",
        "        s = self.stride\n",
        "        batch_size, channels, H_out, W_out = delta.shape\n",
        "\n",
        "        # Distribute the gradient delta to the max locations\n",
        "        for b in range(batch_size):\n",
        "            for c in range(channels):\n",
        "                for i in range(H_out):\n",
        "                    for j in range(W_out):\n",
        "                        h_start = i * s\n",
        "                        w_start = j * s\n",
        "                        # Get the mask for the max locations in the original patch area\n",
        "                        mask = self.max_indices[b, c, h_start:h_start+k, w_start:w_start+k]\n",
        "                        # Add the incoming gradient delta[b, c, i, j] to the max locations in dx\n",
        "                        dx[b, c, h_start:h_start+k, w_start:w_start+k] += delta[b, c, i, j] * mask\n",
        "        return dx"
      ],
      "metadata": {
        "id": "r5CHQC3vb4a9"
      },
      "execution_count": 55,
      "outputs": []
    },
    {
      "cell_type": "code",
      "source": [
        "x = np.array([[[[1, 2, 3, 4],\n",
        "                [5, 6, 7, 8],\n",
        "                [9,10,11,12],\n",
        "                [13,14,15,16]]]])\n",
        "\n",
        "pool = MaxPool2D(kernel_size=2, stride=2)\n",
        "out = pool.forward(x)\n",
        "print(\"Forward output:\\n\", out)\n",
        "\n",
        "delta = np.array([[[[1, 2],\n",
        "                    [3, 4]]]])\n",
        "dx = pool.backward(delta)\n",
        "print(\"Backward output (∂L/∂x):\\n\", dx)\n"
      ],
      "metadata": {
        "colab": {
          "base_uri": "https://localhost:8080/"
        },
        "id": "tsN2tK6nb89Q",
        "outputId": "5dc41baf-4d51-4dc6-9f9f-3628e844c120"
      },
      "execution_count": 48,
      "outputs": [
        {
          "output_type": "stream",
          "name": "stdout",
          "text": [
            "Forward output:\n",
            " [[[[ 6.  8.]\n",
            "   [14. 16.]]]]\n",
            "Backward output (∂L/∂x):\n",
            " [[[[0 0 0 0]\n",
            "   [0 1 0 2]\n",
            "   [0 0 0 0]\n",
            "   [0 3 0 4]]]]\n"
          ]
        }
      ]
    },
    {
      "cell_type": "code",
      "source": [
        "import numpy as np\n",
        "\n",
        "class AveragePool2D:\n",
        "    def __init__(self, kernel_size=2, stride=2):\n",
        "        self.kernel_size = kernel_size\n",
        "        self.stride = stride\n",
        "\n",
        "    def forward(self, x):\n",
        "        self.x = x\n",
        "        batch_size, channels, H, W = x.shape\n",
        "        k = self.kernel_size\n",
        "        s = self.stride\n",
        "        H_out = (H - k) // s + 1\n",
        "        W_out = (W - k) // s + 1\n",
        "        out = np.zeros((batch_size, channels, H_out, W_out))\n",
        "\n",
        "        for b in range(batch_size):\n",
        "            for c in range(channels):\n",
        "                for i in range(H_out):\n",
        "                    for j in range(W_out):\n",
        "                        h_start = i * s\n",
        "                        w_start = j * s\n",
        "                        patch = x[b, c, h_start:h_start+k, w_start:w_start+k]\n",
        "                        out[b, c, i, j] = np.mean(patch)\n",
        "        return out\n",
        "\n",
        "    def backward(self, delta):\n",
        "        # Initialize dx with a float type to avoid UFuncTypeError\n",
        "        dx = np.zeros_like(self.x, dtype=np.float64)\n",
        "        k = self.kernel_size\n",
        "        s = self.stride\n",
        "        batch_size, channels, H_out, W_out = delta.shape\n",
        "        scale = 1.0 / (k * k)\n",
        "\n",
        "        for b in range(batch_size):\n",
        "            for c in range(channels):\n",
        "                for i in range(H_out):\n",
        "                    for j in range(W_out):\n",
        "                        h_start = i * s\n",
        "                        w_start = j * s\n",
        "                        dx[b, c, h_start:h_start+k, w_start:w_start+k] += delta[b, c, i, j] * scale\n",
        "        return dx"
      ],
      "metadata": {
        "id": "VgoC8ENxcMX_"
      },
      "execution_count": 49,
      "outputs": []
    },
    {
      "cell_type": "code",
      "source": [
        "x = np.array([[[[1, 2, 3, 4],\n",
        "                [5, 6, 7, 8],\n",
        "                [9,10,11,12],\n",
        "                [13,14,15,16]]]])\n",
        "\n",
        "pool = AveragePool2D(kernel_size=2, stride=2)\n",
        "out = pool.forward(x)\n",
        "print(\"Forward output:\\n\", out)\n",
        "\n",
        "delta = np.array([[[[1, 2],\n",
        "                    [3, 4]]]])\n",
        "dx = pool.backward(delta)\n",
        "print(\"Backward output (∂L/∂x):\\n\", dx)\n"
      ],
      "metadata": {
        "colab": {
          "base_uri": "https://localhost:8080/"
        },
        "id": "kMjHq85vcQKW",
        "outputId": "5a87f192-58a2-426a-e7cb-89ebd37c5648"
      },
      "execution_count": 51,
      "outputs": [
        {
          "output_type": "stream",
          "name": "stdout",
          "text": [
            "Forward output:\n",
            " [[[[ 3.5  5.5]\n",
            "   [11.5 13.5]]]]\n",
            "Backward output (∂L/∂x):\n",
            " [[[[0.25 0.25 0.5  0.5 ]\n",
            "   [0.25 0.25 0.5  0.5 ]\n",
            "   [0.75 0.75 1.   1.  ]\n",
            "   [0.75 0.75 1.   1.  ]]]]\n"
          ]
        }
      ]
    },
    {
      "cell_type": "code",
      "source": [
        "import numpy as np\n",
        "\n",
        "class Flatten:\n",
        "    def forward(self, x):\n",
        "        self.original_shape = x.shape\n",
        "        batch_size = x.shape[0]\n",
        "        return x.reshape(batch_size, -1)\n",
        "\n",
        "    def backward(self, delta):\n",
        "\n",
        "        return delta.reshape(self.original_shape)"
      ],
      "metadata": {
        "id": "II24BOtZclTT"
      },
      "execution_count": 57,
      "outputs": []
    },
    {
      "cell_type": "code",
      "source": [
        "# Input: shape (1, 2, 2, 2)\n",
        "x = np.array([[[[1, 2],\n",
        "                [3, 4]],\n",
        "               [[5, 6],\n",
        "                [7, 8]]]])\n",
        "\n",
        "flatten = Flatten()\n",
        "out = flatten.forward(x)\n",
        "print(\"Forward output:\\n\", out)\n",
        "\n",
        "\n",
        "delta = np.array([[0.1, 0.2, 0.3, 0.4, 0.5, 0.6, 0.7, 0.8]])\n",
        "dx = flatten.backward(delta)\n",
        "print(\"Backward output (∂L/∂x):\\n\", dx)\n"
      ],
      "metadata": {
        "colab": {
          "base_uri": "https://localhost:8080/"
        },
        "id": "pU_IrwZ_cqtE",
        "outputId": "bcc260a4-4fef-454b-a491-8d511150f66d"
      },
      "execution_count": 53,
      "outputs": [
        {
          "output_type": "stream",
          "name": "stdout",
          "text": [
            "Forward output:\n",
            " [[1 2 3 4 5 6 7 8]]\n",
            "Backward output (∂L/∂x):\n",
            " [[[[0.1 0.2]\n",
            "   [0.3 0.4]]\n",
            "\n",
            "  [[0.5 0.6]\n",
            "   [0.7 0.8]]]]\n"
          ]
        }
      ]
    },
    {
      "cell_type": "code",
      "source": [
        "import numpy as np\n",
        "import pandas as pd\n",
        "from sklearn.datasets import fetch_openml\n",
        "from sklearn.model_selection import train_test_split\n",
        "\n",
        "\n",
        "\n",
        "# Load MNIST\n",
        "mnist = fetch_openml('mnist_784', version=1)\n",
        "X = mnist.data.values.reshape(-1, 1, 28, 28).astype(np.float32) / 255.0\n",
        "y = mnist.target.astype(np.int64)\n",
        "\n",
        "# One-hot encoding\n",
        "def one_hot(y, num_classes=10):\n",
        "    # Ensure y is a numpy array for indexing\n",
        "    y_array = y.values if isinstance(y, pd.Series) else y\n",
        "    return np.eye(num_classes)[y_array]\n",
        "\n",
        "\n",
        "# Split\n",
        "X_train, X_test, y_train, y_test = train_test_split(X, y, test_size=0.1)\n",
        "\n",
        "# Initialize layers\n",
        "conv = Conv2d(in_channels=1, out_channels=4, kernel_size=3)\n",
        "pool = MaxPool2D(kernel_size=2, stride=2)\n",
        "flatten = Flatten()\n",
        "\n",
        "class FC:\n",
        "    def __init__(self, in_features, out_features):\n",
        "        self.W = np.random.randn(in_features, out_features) * 0.01\n",
        "        self.b = np.zeros(out_features)\n",
        "\n",
        "    def forward(self, x):\n",
        "        self.x = x\n",
        "        return x @ self.W + self.b\n",
        "\n",
        "    def backward(self, delta, lr=0.01):\n",
        "        dW = self.x.T @ delta\n",
        "        db = np.sum(delta, axis=0)\n",
        "        dx = delta @ self.W.T\n",
        "        self.W -= lr * dW\n",
        "        self.b -= lr * db\n",
        "        return dx\n",
        "\n",
        "fc = FC(in_features=4 * 13 * 13, out_features=10)  # After conv+pool\n",
        "\n",
        "# Softmax + Cross-Entropy\n",
        "def softmax(x):\n",
        "    e_x = np.exp(x - np.max(x, axis=1, keepdims=True))\n",
        "    return e_x / np.sum(e_x, axis=1, keepdims=True)\n",
        "\n",
        "def cross_entropy(pred, target):\n",
        "    # Ensure target is an array of integers\n",
        "    target_indices = target.values if isinstance(target, pd.Series) else target\n",
        "    return -np.mean(np.log(pred[np.arange(len(target_indices)), target_indices] + 1e-9))\n",
        "\n",
        "\n",
        "# Training loop\n",
        "for i in range(100):  # 100 samples for quick test\n",
        "    x_batch = X_train[i:i+1]\n",
        "    y_batch = y_train[i:i+1]\n",
        "\n",
        "    # Forward\n",
        "    out = conv.forward(x_batch)\n",
        "    out = pool.forward(out)\n",
        "    out = flatten.forward(out)\n",
        "    out = fc.forward(out)\n",
        "    probs = softmax(out)\n",
        "\n",
        "    # Loss\n",
        "    loss = cross_entropy(probs, y_batch)\n",
        "\n",
        "    # Backward\n",
        "    # Correct gradient for Softmax + Cross-Entropy\n",
        "    delta = probs - one_hot(y_batch, num_classes=10)\n",
        "\n",
        "    delta = fc.backward(delta)\n",
        "    delta = flatten.backward(delta)\n",
        "    delta = pool.backward(delta)\n",
        "    _, dw, db = conv.backward(delta)\n",
        "    conv.weights -= 0.01 * dw\n",
        "    conv.bias -= 0.01 * db\n",
        "\n",
        "    if i % 10 == 0:\n",
        "        print(f\"Step {i}, Loss: {loss:.4f}\")\n",
        "\n",
        "# Accuracy on test set\n",
        "correct = 0\n",
        "for i in range(100):  # quick test on 100 samples\n",
        "    x = X_test[i:i+1]\n",
        "\n",
        "    y = y_test.iloc[i]\n",
        "    out = conv.forward(x)\n",
        "    out = pool.forward(out)\n",
        "    out = flatten.forward(out)\n",
        "    out = fc.forward(out)\n",
        "    probs = softmax(out)\n",
        "    pred = np.argmax(probs)\n",
        "    correct += (pred == y)\n",
        "\n",
        "print(f\"Accuracy: {correct}/100 = {correct / 100:.2f}\")"
      ],
      "metadata": {
        "colab": {
          "base_uri": "https://localhost:8080/"
        },
        "id": "2lL7mThlc7WF",
        "outputId": "54f40dc1-89dd-4723-980a-6daa1dbe0ab0"
      },
      "execution_count": 68,
      "outputs": [
        {
          "output_type": "stream",
          "name": "stdout",
          "text": [
            "Step 0, Loss: 2.3039\n",
            "Step 10, Loss: 2.3017\n",
            "Step 20, Loss: 2.3216\n",
            "Step 30, Loss: 2.2941\n",
            "Step 40, Loss: 2.2305\n",
            "Step 50, Loss: 2.3231\n",
            "Step 60, Loss: 2.4035\n",
            "Step 70, Loss: 2.3851\n",
            "Step 80, Loss: 2.2952\n",
            "Step 90, Loss: 2.2925\n",
            "Accuracy: 9/100 = 0.09\n"
          ]
        }
      ]
    },
    {
      "cell_type": "code",
      "source": [
        "\n",
        "\n",
        "# Define LeNet layers\n",
        "conv1 = Conv2d(in_channels=1, out_channels=6, kernel_size=5)\n",
        "pool1 = MaxPool2D(kernel_size=2, stride=2)\n",
        "conv2 = Conv2d(in_channels=6, out_channels=16, kernel_size=5)\n",
        "pool2 = MaxPool2D(kernel_size=2, stride=2)\n",
        "flatten = Flatten()\n",
        "fc1 = FC(in_features=16*4*4, out_features=120)\n",
        "fc2 = FC(in_features=120, out_features=84)\n",
        "fc3 = FC(in_features=84, out_features=10)\n",
        "\n",
        "# Training loop\n",
        "for epoch in range(1):\n",
        "    for i in range(100):\n",
        "        x = X_train[i:i+1]\n",
        "        y = y_train[i:i+1]\n",
        "\n",
        "        # Forward pass\n",
        "        out = conv1.forward(x)\n",
        "        out = pool1.forward(out)\n",
        "        out = conv2.forward(out)\n",
        "        out = pool2.forward(out)\n",
        "        out = flatten.forward(out)\n",
        "        out = fc1.forward(out)\n",
        "        out = fc2.forward(out)\n",
        "        out = fc3.forward(out)\n",
        "        probs = softmax(out)\n",
        "\n",
        "        # Loss and backward\n",
        "        loss = cross_entropy(probs, y)\n",
        "        delta = probs\n",
        "\n",
        "        delta[0, y.iloc[0]] -= 1\n",
        "        delta = fc3.backward(delta)\n",
        "        delta = fc2.backward(delta)\n",
        "        delta = fc1.backward(delta)\n",
        "        delta = flatten.backward(delta)\n",
        "        delta = pool2.backward(delta)\n",
        "\n",
        "        delta = conv2.backward(delta)[0]\n",
        "        delta = pool1.backward(delta)\n",
        "\n",
        "        delta = conv1.backward(delta)[0]\n",
        "\n",
        "# Accuracy check\n",
        "correct = 0\n",
        "for i in range(100):\n",
        "    x = X_test[i:i+1]\n",
        "    y = y_test.iloc[i]\n",
        "    out = conv1.forward(x)\n",
        "    out = pool1.forward(out)\n",
        "    out = conv2.forward(out)\n",
        "    out = pool2.forward(out)\n",
        "    out = flatten.forward(out)\n",
        "    out = fc1.forward(out)\n",
        "    out = fc2.forward(out)\n",
        "    out = fc3.forward(out)\n",
        "    probs = softmax(out)\n",
        "    pred = np.argmax(probs)\n",
        "    correct += (pred == y)\n",
        "\n",
        "print(f\"LeNet Accuracy on 100 test samples: {correct}/100 = {correct / 100:.2f}\")"
      ],
      "metadata": {
        "colab": {
          "base_uri": "https://localhost:8080/"
        },
        "id": "cU9OrOiyhEVM",
        "outputId": "841d6a63-aeb8-4208-d627-6827b2702e2e"
      },
      "execution_count": 73,
      "outputs": [
        {
          "output_type": "stream",
          "name": "stdout",
          "text": [
            "LeNet Accuracy on 100 test samples: 9/100 = 0.09\n"
          ]
        }
      ]
    },
    {
      "cell_type": "code",
      "source": [
        "import numpy as np\n",
        "import matplotlib.pyplot as plt\n",
        "\n",
        "# Simulate a single-channel input for clarity\n",
        "input_image = np.random.rand(20, 20)\n",
        "\n",
        "# Define filter and stride\n",
        "filter_size = 3\n",
        "stride = 2\n",
        "\n",
        "# Compute output size\n",
        "output_size = (input_image.shape[0] - filter_size) // stride + 1  # = 9\n",
        "\n",
        "# Visualize patches\n",
        "fig, ax = plt.subplots()\n",
        "ax.imshow(input_image, cmap='gray')\n",
        "ax.set_title(\"Input Image with 3×3 Filters, Stride 2\")\n",
        "\n",
        "# Overlay filter patches\n",
        "for i in range(output_size):\n",
        "    for j in range(output_size):\n",
        "        y = i * stride\n",
        "        x = j * stride\n",
        "        rect = plt.Rectangle((x, y), filter_size, filter_size, edgecolor='red', facecolor='none')\n",
        "        ax.add_patch(rect)\n",
        "\n",
        "plt.show()\n"
      ],
      "metadata": {
        "colab": {
          "base_uri": "https://localhost:8080/",
          "height": 452
        },
        "id": "rA4ARVmGi72S",
        "outputId": "8a57fbfb-71de-4d5c-d154-f7ae1f8ba9b5"
      },
      "execution_count": 74,
      "outputs": [
        {
          "output_type": "display_data",
          "data": {
            "text/plain": [
              "<Figure size 640x480 with 1 Axes>"
            ],
            "image/png": "[encoded data removed]"
          },
          "metadata": {}
        }
      ]
    },
    {
      "cell_type": "code",
      "source": [
        "import matplotlib.pyplot as plt\n",
        "import numpy as np # Import numpy\n",
        "\n",
        "sample = X_train[0:1]  # shape: (1, 1, 28, 28)\n",
        "\n",
        "# Layer outputs\n",
        "conv1_layer = Conv2d(in_channels=1, out_channels=6, kernel_size=5) # Assuming Conv2d is defined\n",
        "pool1_layer = MaxPool2D(kernel_size=2, stride=2)\n",
        "conv2_layer = Conv2d(in_channels=6, out_channels=16, kernel_size=5) # Assuming Conv2d is defined\n",
        "pool2_layer = MaxPool2D(kernel_size=2, stride=2)\n",
        "\n",
        "\n",
        "out1 = conv1_layer.forward(sample)        # C1\n",
        "out2 = pool1_layer.forward(out1)          # S2\n",
        "out3 = conv2_layer.forward(out2)          # C3\n",
        "out4 = pool2_layer.forward(out3)          # S4\n",
        "\n",
        "\n",
        "# Plot feature maps\n",
        "def plot_feature_maps(tensor, title, num_maps=6):\n",
        "\n",
        "    fig, axes = plt.subplots(1, num_maps, figsize=(num_maps * 3, 3))\n",
        "    fig.suptitle(title)\n",
        "\n",
        "    if num_maps == 1:\n",
        "\n",
        "        axes.imshow(tensor[0, 0], cmap='gray')\n",
        "        axes.set_title(f\"Map 0\")\n",
        "        axes.axis('off')\n",
        "    else:\n",
        "\n",
        "        for i in range(num_maps):\n",
        "            axes[i].imshow(tensor[0, i], cmap='gray')\n",
        "            axes[i].set_title(f\"Map {i}\")\n",
        "            axes[i].axis('off')\n",
        "\n",
        "    plt.tight_layout(rect=[0, 0.03, 1, 0.95]) # Adjust layout\n",
        "    plt.show()\n",
        "\n",
        "plot_feature_maps(sample, \"Input Digit\", num_maps=1)\n",
        "plot_feature_maps(out1, \"After Conv1 (6 filters)\", num_maps=6)\n",
        "plot_feature_maps(out2, \"After Pool1\", num_maps=6)\n",
        "plot_feature_maps(out3, \"After Conv2 (16 filters)\", num_maps=6)\n",
        "plot_feature_maps(out4, \"After Pool2\", num_maps=6)"
      ],
      "metadata": {
        "colab": {
          "base_uri": "https://localhost:8080/",
          "height": 916
        },
        "id": "9YIMyibzjLy0",
        "outputId": "7d28390a-8240-486c-9889-f038b3280ac0"
      },
      "execution_count": 76,
      "outputs": [
        {
          "output_type": "display_data",
          "data": {
            "text/plain": [
              "<Figure size 300x300 with 1 Axes>"
            ],
            "image/png": "[encoded data removed]"
          },
          "metadata": {}
        },
        {
          "output_type": "display_data",
          "data": {
            "text/plain": [
              "<Figure size 1800x300 with 6 Axes>"
            ],
            "image/png": "[encoded data removed]"
          },
          "metadata": {}
        },
        {
          "output_type": "display_data",
          "data": {
            "text/plain": [
              "<Figure size 1800x300 with 6 Axes>"
            ],
            "image/png": "[encoded data removed]"
          },
          "metadata": {}
        },
        {
          "output_type": "display_data",
          "data": {
            "text/plain": [
              "<Figure size 1800x300 with 6 Axes>"
            ],
            "image/png": "[encoded data removed]"
          },
          "metadata": {}
        },
        {
          "output_type": "display_data",
          "data": {
            "text/plain": [
              "<Figure size 1800x300 with 6 Axes>"
            ],
            "image/png": "[encoded data removed]"
          },
          "metadata": {}
        }
      ]
    },
    {
      "cell_type": "markdown",
      "source": [
        "Why 3×3 filters are commonly used instead of large ones such as 7×7\n",
        "\n",
        "1. Parameter efficiency\n",
        "  A single 7×7 filter has 49 weights per input channel, while stacking three 3×3 filters gives a similar receptive field (7×7) and reduces Memory and computation.\n",
        "2. Non Linearity\n",
        "  Stacking multiple 3×3 layers introduces more activation functions , allowing the network to learn more complex, hierarchical features than a single large filter could\n",
        "\n",
        "\n",
        "Effects of a 1×1 filter with no height or width direction\n",
        "  1. It introduces non-linearity when stacked with     activation functions.\n",
        "  2.It reduces dimensionality without changing the spatial resolution.\n"
      ],
      "metadata": {
        "id": "bk5fpVQojyDL"
      }
    },
    {
      "cell_type": "code",
      "source": [],
      "metadata": {
        "id": "VaRf6PeCllVr"
      },
      "execution_count": null,
      "outputs": []
    }
  ]
}