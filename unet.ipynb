{
 "cells": [
  {
   "cell_type": "code",
   "execution_count": 1,
   "id": "54ccf350",
   "metadata": {},
   "outputs": [],
   "source": [
    "import glob\n",
    "import cv2\n",
    "import numpy as np \n",
    "import os\n",
    "import skimage.io as io\n",
    "import skimage.transform as trans\n",
    "import numpy as np\n",
    "from keras.models import *\n",
    "from keras.layers import *\n",
    "from keras.optimizers import *\n",
    "from keras.callbacks import ModelCheckpoint, LearningRateScheduler\n",
    "from keras import backend as keras\n",
    "import matplotlib.pyplot as plt\n",
    "%matplotlib inline\n",
    "plt.rcParams['figure.figsize'] = (12, 9)"
   ]
  },
  {
   "cell_type": "code",
   "execution_count": 2,
   "id": "bac836e2",
   "metadata": {},
   "outputs": [],
   "source": [
    "image_path_list = glob.glob(\"competition_data/train/images/*\")\n",
    "X_train=[]\n",
    "y_train=[]\n",
    "for image_path in image_path_list[:100]:\n",
    "    image = cv2.resize(cv2.imread(image_path, cv2.IMREAD_GRAYSCALE)/255, (256, 256))\n",
    "    X_train.append(image)\n",
    "    mask = cv2.resize(cv2.imread(image_path.replace(\"images\",\"masks\"), cv2.IMREAD_GRAYSCALE)/255, (256, 256))\n",
    "    y_train.append(mask)\n",
    "X_train=np.array(X_train)\n",
    "y_train=np.array(y_train)\n",
    "X_train = np.expand_dims(X_train, axis=-1)\n",
    "y_train = np.expand_dims(y_train, axis=-1)"
   ]
  },
  {
   "cell_type": "code",
   "execution_count": 3,
   "id": "3d4f98e6",
   "metadata": {},
   "outputs": [],
   "source": [
    "\n",
    "from tensorflow.keras.utils import Sequence\n",
    "\n",
    "class SaltDataset(Sequence):\n",
    "    def __init__(self, image_dir, mask_dir, image_ids, batch_size=16, img_size=(128, 128), shuffle=True):\n",
    "        self.image_dir = image_dir\n",
    "        self.mask_dir = mask_dir\n",
    "        self.image_ids = image_ids\n",
    "        self.batch_size = batch_size\n",
    "        self.img_size = img_size\n",
    "        self.shuffle = shuffle\n",
    "        self.on_epoch_end()\n",
    "\n",
    "    def __len__(self):\n",
    "        return len(self.image_ids) // self.batch_size\n",
    "\n",
    "    def on_epoch_end(self):\n",
    "        if self.shuffle:\n",
    "            np.random.shuffle(self.image_ids)\n",
    "\n",
    "    def __getitem__(self, idx):\n",
    "        batch_ids = self.image_ids[idx * self.batch_size:(idx + 1) * self.batch_size]\n",
    "        X = np.zeros((self.batch_size, *self.img_size, 1), dtype=np.float32)\n",
    "        Y = np.zeros((self.batch_size, *self.img_size, 1), dtype=np.float32)\n",
    "\n",
    "        for i, img_id in enumerate(batch_ids):\n",
    "            img = cv2.imread(os.path.join(self.image_dir, img_id + \".png\"), cv2.IMREAD_GRAYSCALE)\n",
    "            mask = cv2.imread(os.path.join(self.mask_dir, img_id + \".png\"), cv2.IMREAD_GRAYSCALE)\n",
    "            img = cv2.resize(img, self.img_size) / 255.0\n",
    "            mask = cv2.resize(mask, self.img_size) / 255.0\n",
    "            X[i, ..., 0] = img\n",
    "            Y[i, ..., 0] = mask\n",
    "\n",
    "        return X, Y\n"
   ]
  },
  {
   "cell_type": "code",
   "execution_count": 4,
   "id": "253221df",
   "metadata": {},
   "outputs": [
    {
     "name": "stdout",
     "output_type": "stream",
     "text": [
      "c:\\Users\\LOUIS J MAHOBE\\Desktop\\unet master\n"
     ]
    }
   ],
   "source": [
    "print(os.getcwd())\n"
   ]
  },
  {
   "cell_type": "code",
   "execution_count": 6,
   "id": "ccc5cb91",
   "metadata": {},
   "outputs": [],
   "source": [
    "\n",
    "\n",
    "import os\n",
    "\n",
    "def get_image_ids(image_dir):\n",
    "    image_files = [f for f in os.listdir(image_dir) if f.endswith('.png')]\n",
    "    image_ids = [os.path.splitext(f)[0] for f in image_files]\n",
    "    return image_ids"
   ]
  },
  {
   "cell_type": "code",
   "execution_count": 7,
   "id": "5f834574",
   "metadata": {},
   "outputs": [],
   "source": [
    "train_ids = get_image_ids(\"C:/Users/LOUIS J MAHOBE/unet master\")\n"
   ]
  },
  {
   "cell_type": "code",
   "execution_count": 8,
   "id": "a87705eb",
   "metadata": {},
   "outputs": [],
   "source": [
    "import matplotlib.pyplot as plt\n",
    "\n",
    "def visualize_sample(model, dataset, index=0):\n",
    "    X, Y = dataset[index]\n",
    "    preds = model.predict(X)\n",
    "\n",
    "    fig, axs = plt.subplots(3, 5, figsize=(15, 9))\n",
    "    for i in range(5):\n",
    "        axs[0, i].imshow(X[i].squeeze(), cmap='gray')\n",
    "        axs[0, i].set_title(\"Input\")\n",
    "        axs[1, i].imshow(Y[i].squeeze(), cmap='gray')\n",
    "        axs[1, i].set_title(\"Ground Truth\")\n",
    "        axs[2, i].imshow(preds[i].squeeze(), cmap='gray')\n",
    "        axs[2, i].set_title(\"Prediction\")\n",
    "        for j in range(3):\n",
    "            axs[j, i].axis('off')\n",
    "    plt.tight_layout()\n",
    "    plt.show()\n"
   ]
  },
  {
   "cell_type": "code",
   "execution_count": null,
   "id": "7630ac1a",
   "metadata": {},
   "outputs": [],
   "source": [
    "from tensorflow.keras.models import Model\n",
    "import matplotlib.pyplot as plt\n",
    "\n",
    "def get_feature_maps(model, layer_name, input_image):\n",
    "    \n",
    "\n",
    "    intermediate_model = Model(inputs=model.input, outputs=model.get_layer(layer_name).output)\n",
    "    feature_maps = intermediate_model.predict(np.expand_dims(input_image, axis=0))\n",
    "    return feature_maps[0]\n",
    "\n",
    "def plot_feature_maps(feature_maps, num_maps=16):\n",
    "    \n",
    "    fig, axs = plt.subplots(1, num_maps, figsize=(20, 5))\n",
    "    for i in range(num_maps):\n",
    "        axs[i].imshow(feature_maps[..., i], cmap='viridis')\n",
    "        axs[i].axis('off')\n",
    "    plt.tight_layout()\n",
    "    plt.show()\n"
   ]
  },
  {
   "cell_type": "code",
   "execution_count": null,
   "id": "a34aed12",
   "metadata": {},
   "outputs": [],
   "source": [
    "from keras.layers import Input, Conv2D, MaxPooling2D, UpSampling2D, concatenate, Dropout\n",
    "from keras.models import Model\n",
    "\n",
    "inputs = Input(shape=(256, 256, 1))\n",
    "\n",
    "# Encoder\n",
    "conv1 = Conv2D(64, 3, activation='relu', padding='same')(inputs)\n",
    "conv1 = Conv2D(64, 3, activation='relu', padding='same')(conv1)\n",
    "pool1 = MaxPooling2D(pool_size=(2, 2))(conv1)\n",
    "\n",
    "conv2 = Conv2D(128, 3, activation='relu', padding='same')(pool1)\n",
    "conv2 = Conv2D(128, 3, activation='relu', padding='same')(conv2)\n",
    "pool2 = MaxPooling2D(pool_size=(2, 2))(conv2)\n",
    "\n",
    "conv3 = Conv2D(256, 3, activation='relu', padding='same')(pool2)\n",
    "conv3 = Conv2D(256, 3, activation='relu', padding='same')(conv3)\n",
    "pool3 = MaxPooling2D(pool_size=(2, 2))(conv3)\n",
    "\n",
    "conv4 = Conv2D(512, 3, activation='relu', padding='same')(pool3)\n",
    "conv4 = Conv2D(512, 3, activation='relu', padding='same')(conv4)\n",
    "drop4 = Dropout(0.5)(conv4)\n",
    "pool4 = MaxPooling2D(pool_size=(2, 2))(drop4)\n",
    "\n",
    "# Bottleneck\n",
    "conv5 = Conv2D(1024, 3, activation='relu', padding='same')(pool4)\n",
    "conv5 = Conv2D(1024, 3, activation='relu', padding='same')(conv5)\n",
    "drop5 = Dropout(0.5)(conv5)\n",
    "\n",
    "# Decoder\n",
    "up6 = UpSampling2D(size=(2, 2))(drop5)\n",
    "up6 = Conv2D(512, 2, activation='relu', padding='same')(up6)\n",
    "merge6 = concatenate([drop4, up6], axis=3)\n",
    "conv6 = Conv2D(512, 3, activation='relu', padding='same')(merge6)\n",
    "conv6 = Conv2D(512, 3, activation='relu', padding='same')(conv6)\n",
    "\n",
    "up7 = UpSampling2D(size=(2, 2))(conv6)\n",
    "up7 = Conv2D(256, 2, activation='relu', padding='same')(up7)\n",
    "merge7 = concatenate([conv3, up7], axis=3)\n",
    "conv7 = Conv2D(256, 3, activation='relu', padding='same')(merge7)\n",
    "conv7 = Conv2D(256, 3, activation='relu', padding='same')(conv7)\n",
    "\n",
    "up8 = UpSampling2D(size=(2, 2))(conv7)\n",
    "up8 = Conv2D(128, 2, activation='relu', padding='same')(up8)\n",
    "merge8 = concatenate([conv2, up8], axis=3)\n",
    "conv8 = Conv2D(128, 3, activation='relu', padding='same')(merge8)\n",
    "conv8 = Conv2D(128, 3, activation='relu', padding='same')(conv8)\n",
    "\n",
    "up9 = UpSampling2D(size=(2, 2))(conv8)\n",
    "up9 = Conv2D(64, 2, activation='relu', padding='same')(up9)\n",
    "merge9 = concatenate([conv1, up9], axis=3)\n",
    "conv9 = Conv2D(64, 3, activation='relu', padding='same')(merge9)\n",
    "conv9 = Conv2D(64, 3, activation='relu', padding='same')(conv9)\n",
    "conv9 = Conv2D(2, 3, activation='relu', padding='same')(conv9)\n",
    "conv10 = Conv2D(1, 1, activation='sigmoid')(conv9)\n",
    "\n",
    "\n",
    "model = Model(inputs=inputs, outputs=conv10)\n",
    "model.compile(optimizer='adam', loss='binary_crossentropy', metrics=['accuracy'])"
   ]
  },
  {
   "cell_type": "code",
   "execution_count": 43,
   "id": "a3927dcc",
   "metadata": {},
   "outputs": [],
   "source": [
    "model = unet()\n"
   ]
  },
  {
   "cell_type": "code",
   "execution_count": 44,
   "id": "e6a28b71",
   "metadata": {},
   "outputs": [
    {
     "name": "stdout",
     "output_type": "stream",
     "text": [
      "['input_6', 'conv2d_71', 'conv2d_72', 'max_pooling2d_17', 'conv2d_73', 'conv2d_74', 'max_pooling2d_18', 'conv2d_75', 'conv2d_76', 'max_pooling2d_19', 'conv2d_77', 'conv2d_78', 'dropout_6', 'max_pooling2d_20', 'conv2d_79', 'conv2d_80', 'dropout_7', 'up_sampling2d_9', 'conv2d_81', 'concatenate_9', 'conv2d_82', 'conv2d_83', 'up_sampling2d_10', 'conv2d_84', 'concatenate_10', 'conv2d_85', 'conv2d_86', 'up_sampling2d_11', 'conv2d_87', 'concatenate_11', 'conv2d_88', 'conv2d_89', 'up_sampling2d_12', 'conv2d_90', 'concatenate_12', 'conv2d_91', 'conv2d_92', 'conv2d_93', 'conv2d_94']\n"
     ]
    }
   ],
   "source": [
    "print([layer.name for layer in model.layers])\n"
   ]
  },
  {
   "cell_type": "code",
   "execution_count": 45,
   "id": "2258eba8",
   "metadata": {},
   "outputs": [
    {
     "name": "stdout",
     "output_type": "stream",
     "text": [
      "[]\n"
     ]
    }
   ],
   "source": [
    "import glob\n",
    "\n",
    "image_list = glob.glob(\"C:/Users/LOUIS J MAHOBE/unet master/unet/images/*.png\")\n",
    "print(image_list[:5])  \n"
   ]
  },
  {
   "cell_type": "code",
   "execution_count": 79,
   "id": "dcba50e2",
   "metadata": {},
   "outputs": [],
   "source": [
    "image_path_list = glob.glob(\"competition_data/train/images/*\")"
   ]
  },
  {
   "cell_type": "code",
   "execution_count": 82,
   "id": "ca20f2da",
   "metadata": {},
   "outputs": [],
   "source": [
    "import cv2\n",
    "import numpy as np\n",
    "\n",
    "\n",
    "image_path_list = glob.glob(\"competition_data/train/images/*\")\n",
    "img = cv2.imread(image_path, cv2.IMREAD_GRAYSCALE)\n",
    "\n",
    "if img is None:\n",
    "    print(\"Image not found or failed to load:\", image_path)\n",
    "else:\n",
    "    img = cv2.resize(img, (256, 256)) / 255.0\n",
    "    img = np.expand_dims(img, axis=-1)  # shape: (256, 256, 1)\n"
   ]
  },
  {
   "cell_type": "code",
   "execution_count": 83,
   "id": "413340c8",
   "metadata": {},
   "outputs": [
    {
     "data": {
      "text/plain": [
       "['input_9',\n",
       " 'conv2d_113',\n",
       " 'conv2d_114',\n",
       " 'max_pooling2d_26',\n",
       " 'conv2d_115',\n",
       " 'conv2d_116',\n",
       " 'max_pooling2d_27',\n",
       " 'conv2d_117',\n",
       " 'conv2d_118',\n",
       " 'max_pooling2d_28',\n",
       " 'conv2d_119',\n",
       " 'conv2d_120',\n",
       " 'dropout_8',\n",
       " 'max_pooling2d_29',\n",
       " 'conv2d_121',\n",
       " 'conv2d_122',\n",
       " 'dropout_9',\n",
       " 'up_sampling2d_14',\n",
       " 'conv2d_123',\n",
       " 'concatenate_14',\n",
       " 'conv2d_124',\n",
       " 'conv2d_125',\n",
       " 'up_sampling2d_15',\n",
       " 'conv2d_126',\n",
       " 'concatenate_15',\n",
       " 'conv2d_127',\n",
       " 'conv2d_128',\n",
       " 'up_sampling2d_16',\n",
       " 'conv2d_129',\n",
       " 'concatenate_16',\n",
       " 'conv2d_130',\n",
       " 'conv2d_131',\n",
       " 'up_sampling2d_17',\n",
       " 'conv2d_132',\n",
       " 'concatenate_17',\n",
       " 'conv2d_133',\n",
       " 'conv2d_134',\n",
       " 'conv2d_135',\n",
       " 'conv2d_136']"
      ]
     },
     "execution_count": 83,
     "metadata": {},
     "output_type": "execute_result"
    }
   ],
   "source": [
    "[layer.name for layer in model.layers]\n"
   ]
  },
  {
   "cell_type": "code",
   "execution_count": 84,
   "id": "5446340d",
   "metadata": {},
   "outputs": [],
   "source": [
    "from keras.layers import Input\n",
    "\n",
    "inputs = Input(shape=(256, 256, 1))  # or whatever shape your images have\n"
   ]
  },
  {
   "cell_type": "code",
   "execution_count": 85,
   "id": "8b91bf41",
   "metadata": {},
   "outputs": [],
   "source": [
    "def conv_block(x, filters):\n",
    "    x = Conv2D(filters, 3, activation='relu', padding='same')(x)\n",
    "    x = Conv2D(filters, 3, activation='relu', padding='same')(x)\n",
    "    return x\n"
   ]
  },
  {
   "cell_type": "code",
   "execution_count": 86,
   "id": "45fb8199",
   "metadata": {},
   "outputs": [],
   "source": [
    "conv1 = conv_block(inputs, 64)\n",
    "pool1 = MaxPooling2D(pool_size=(2, 2))(conv1)\n"
   ]
  },
  {
   "cell_type": "code",
   "execution_count": 87,
   "id": "16393237",
   "metadata": {},
   "outputs": [],
   "source": [
    "conv1, pool1 = encoder_block(inputs, 64)\n"
   ]
  },
  {
   "cell_type": "code",
   "execution_count": 88,
   "id": "e8ff2b95",
   "metadata": {},
   "outputs": [],
   "source": [
    "up6 = Conv2D(512, 2, activation='relu', padding='same')(UpSampling2D(size=(2, 2))(drop5))\n",
    "merge6 = concatenate([drop4, up6], axis=3)\n"
   ]
  },
  {
   "cell_type": "code",
   "execution_count": 89,
   "id": "e5a83eab",
   "metadata": {},
   "outputs": [],
   "source": [
    "conv5 = Conv2D(1, 1, activation='sigmoid')(conv5)\n"
   ]
  },
  {
   "cell_type": "code",
   "execution_count": 90,
   "id": "5b83111f",
   "metadata": {},
   "outputs": [],
   "source": [
    "def encoder_block(x, filters):\n",
    "    x = Conv2D(filters, 3, activation='relu', padding='same', kernel_initializer='he_normal')(x)\n",
    "    x = Conv2D(filters, 3, activation='relu', padding='same', kernel_initializer='he_normal')(x)\n",
    "    p = MaxPooling2D(pool_size=(2, 2))(x)\n",
    "    return x, p\n"
   ]
  },
  {
   "cell_type": "code",
   "execution_count": 91,
   "id": "522817a4",
   "metadata": {},
   "outputs": [],
   "source": [
    "def decoder_block(x, skip, filters):\n",
    "    x = UpSampling2D(size=(2, 2))(x)\n",
    "    x = Conv2D(filters, 2, activation='relu', padding='same', kernel_initializer='he_normal')(x)\n",
    "    x = concatenate([skip, x], axis=3)\n",
    "    x = Conv2D(filters, 3, activation='relu', padding='same', kernel_initializer='he_normal')(x)\n",
    "    x = Conv2D(filters, 3, activation='relu', padding='same', kernel_initializer='he_normal')(x)\n",
    "    return x\n",
    "\n"
   ]
  },
  {
   "cell_type": "code",
   "execution_count": 92,
   "id": "dfc1d1b0",
   "metadata": {},
   "outputs": [],
   "source": [
    "output = Conv2D(1, 1, activation='sigmoid')(conv5)\n"
   ]
  },
  {
   "cell_type": "code",
   "execution_count": 93,
   "id": "d25f1a84",
   "metadata": {},
   "outputs": [],
   "source": [
    "model = build_unet()\n",
    "\n"
   ]
  },
  {
   "cell_type": "code",
   "execution_count": 94,
   "id": "356cc7c0",
   "metadata": {},
   "outputs": [],
   "source": [
    "import matplotlib.pyplot as plt\n",
    "\n",
    "def visualize_prediction(model, X, Y, index=0):\n",
    "    input_img = X[index]\n",
    "    true_mask = Y[index]\n",
    "    pred_mask = model.predict(np.expand_dims(input_img, axis=0))[0]\n",
    "\n",
    "    fig, axs = plt.subplots(1, 3, figsize=(15, 5))\n",
    "    axs[0].imshow(input_img.squeeze(), cmap='gray')\n",
    "    axs[0].set_title(\"Input Image\")\n",
    "    axs[1].imshow(true_mask.squeeze(), cmap='gray')\n",
    "    axs[1].set_title(\"Ground Truth\")\n",
    "    axs[2].imshow(pred_mask.squeeze(), cmap='gray')\n",
    "    axs[2].set_title(\"Predicted Mask\")\n",
    "    for ax in axs:\n",
    "        ax.axis('off')\n",
    "    plt.tight_layout()\n",
    "    plt.show()\n"
   ]
  }
 ],
 "metadata": {
  "kernelspec": {
   "display_name": "3.7.4",
   "language": "python",
   "name": "python3"
  },
  "language_info": {
   "codemirror_mode": {
    "name": "ipython",
    "version": 3
   },
   "file_extension": ".py",
   "mimetype": "text/x-python",
   "name": "python",
   "nbconvert_exporter": "python",
   "pygments_lexer": "ipython3",
   "version": "3.7.4"
  }
 },
 "nbformat": 4,
 "nbformat_minor": 5
}
