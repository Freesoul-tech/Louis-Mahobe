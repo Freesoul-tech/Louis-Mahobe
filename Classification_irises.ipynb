{
  "nbformat": 4,
  "nbformat_minor": 0,
  "metadata": {
    "colab": {
      "provenance": [],
      "authorship_tag": "ABX9TyNT3rIQhpepTfUMwy5KDKBI",
      "include_colab_link": true
    },
    "kernelspec": {
      "name": "python3",
      "display_name": "Python 3"
    },
    "language_info": {
      "name": "python"
    }
  },
  "cells": [
    {
      "cell_type": "markdown",
      "metadata": {
        "id": "view-in-github",
        "colab_type": "text"
      },
      "source": [
        "<a href=\"https://colab.research.google.com/github/Freesoul-tech/Louis-Mahobe/blob/main/Classification_irises.ipynb\" target=\"_parent\"><img src=\"https://colab.research.google.com/assets/colab-badge.svg\" alt=\"Open In Colab\"/></a>"
      ]
    },
    {
      "cell_type": "markdown",
      "source": [
        "# **Classification of irises**"
      ],
      "metadata": {
        "id": "y_mmf73CDk3u"
      }
    },
    {
      "cell_type": "code",
      "execution_count": 2,
      "metadata": {
        "colab": {
          "base_uri": "https://localhost:8080/",
          "height": 1000
        },
        "id": "vauR1rvnDcch",
        "outputId": "dc7f4109-1544-4664-d105-de013521e5bf"
      },
      "outputs": [
        {
          "output_type": "stream",
          "name": "stdout",
          "text": [
            "KNN Classification Report:\n",
            "               precision    recall  f1-score   support\n",
            "\n",
            "           1       0.76      0.93      0.84        14\n",
            "           2       0.88      0.64      0.74        11\n",
            "\n",
            "    accuracy                           0.80        25\n",
            "   macro avg       0.82      0.78      0.79        25\n",
            "weighted avg       0.81      0.80      0.79        25\n",
            "\n",
            "Logistic Regression Report:\n",
            "               precision    recall  f1-score   support\n",
            "\n",
            "           1       0.86      0.86      0.86        14\n",
            "           2       0.82      0.82      0.82        11\n",
            "\n",
            "    accuracy                           0.84        25\n",
            "   macro avg       0.84      0.84      0.84        25\n",
            "weighted avg       0.84      0.84      0.84        25\n",
            "\n",
            "SVM Classification Report:\n",
            "               precision    recall  f1-score   support\n",
            "\n",
            "           1       0.81      0.93      0.87        14\n",
            "           2       0.89      0.73      0.80        11\n",
            "\n",
            "    accuracy                           0.84        25\n",
            "   macro avg       0.85      0.83      0.83        25\n",
            "weighted avg       0.85      0.84      0.84        25\n",
            "\n",
            "Decision Tree Report:\n",
            "               precision    recall  f1-score   support\n",
            "\n",
            "           1       0.81      0.93      0.87        14\n",
            "           2       0.89      0.73      0.80        11\n",
            "\n",
            "    accuracy                           0.84        25\n",
            "   macro avg       0.85      0.83      0.83        25\n",
            "weighted avg       0.85      0.84      0.84        25\n",
            "\n",
            "Random Forest Report:\n",
            "               precision    recall  f1-score   support\n",
            "\n",
            "           1       0.76      0.93      0.84        14\n",
            "           2       0.88      0.64      0.74        11\n",
            "\n",
            "    accuracy                           0.80        25\n",
            "   macro avg       0.82      0.78      0.79        25\n",
            "weighted avg       0.81      0.80      0.79        25\n",
            "\n"
          ]
        },
        {
          "output_type": "display_data",
          "data": {
            "text/plain": [
              "<Figure size 640x480 with 1 Axes>"
            ],
            "image/png": "[encoded data removed]"
          },
          "metadata": {}
        }
      ],
      "source": [
        "import numpy as np\n",
        "import pandas as pd\n",
        "import matplotlib.pyplot as plt\n",
        "from sklearn.model_selection import train_test_split\n",
        "from sklearn.preprocessing import StandardScaler\n",
        "from sklearn.metrics import classification_report\n",
        "from sklearn import datasets\n",
        "\n",
        "\n",
        "iris = datasets.load_iris()\n",
        "X = iris.data[:, [0, 2]]\n",
        "y = iris.target\n",
        "\n",
        "# Binary classification:  (labels 1 and 2)\n",
        "X = X[y != 0]\n",
        "y = y[y != 0]\n",
        "\n",
        "# Split into training and validation sets\n",
        "X_train, X_test, y_train, y_test = train_test_split(X, y, test_size=0.25, random_state=42)\n",
        "\n",
        "# Standardize\n",
        "scaler = StandardScaler()\n",
        "X_train = scaler.fit_transform(X_train)\n",
        "X_test = scaler.transform(X_test)\n",
        "\n",
        "from sklearn.neighbors import KNeighborsClassifier\n",
        "\n",
        "knn = KNeighborsClassifier(n_neighbors=5)\n",
        "knn.fit(X_train, y_train)\n",
        "\n",
        "y_pred_knn = knn.predict(X_test)\n",
        "\n",
        "print(\"KNN Classification Report:\\n\", classification_report(y_test, y_pred_knn))\n",
        "\n",
        "from sklearn.linear_model import LogisticRegression\n",
        "\n",
        "log_reg = LogisticRegression()\n",
        "log_reg.fit(X_train, y_train)\n",
        "\n",
        "y_pred_log = log_reg.predict(X_test)\n",
        "\n",
        "print(\"Logistic Regression Report:\\n\", classification_report(y_test, y_pred_log))\n",
        "\n",
        "\n",
        "from sklearn.svm import SVC\n",
        "\n",
        "svm = SVC(kernel='linear')\n",
        "svm.fit(X_train, y_train)\n",
        "\n",
        "y_pred_svm = svm.predict(X_test)\n",
        "\n",
        "print(\"SVM Classification Report:\\n\", classification_report(y_test, y_pred_svm))\n",
        "\n",
        "from sklearn.tree import DecisionTreeClassifier\n",
        "\n",
        "tree = DecisionTreeClassifier()\n",
        "tree.fit(X_train, y_train)\n",
        "\n",
        "y_pred_tree = tree.predict(X_test)\n",
        "\n",
        "print(\"Decision Tree Report:\\n\", classification_report(y_test, y_pred_tree))\n",
        "\n",
        "from sklearn.ensemble import RandomForestClassifier\n",
        "\n",
        "forest = RandomForestClassifier(n_estimators=100)\n",
        "forest.fit(X_train, y_train)\n",
        "\n",
        "y_pred_forest = forest.predict(X_test)\n",
        "\n",
        "print(\"Random Forest Report:\\n\", classification_report(y_test, y_pred_forest))\n",
        "\n",
        "from matplotlib.colors import ListedColormap\n",
        "\n",
        "def plot_decision_boundary(X, y, model, title):\n",
        "    cmap_light = ListedColormap(['pink', 'skyblue'])\n",
        "    cmap_bold = ['red', 'blue']\n",
        "\n",
        "    x_min, x_max = X[:, 0].min() - 1, X[:, 0].max() + 1\n",
        "    y_min, y_max = X[:, 1].min() - 1, X[:, 1].max() + 1\n",
        "    xx, yy = np.meshgrid(np.arange(x_min, x_max, 0.04),\n",
        "                         np.arange(y_min, y_max, 0.04))\n",
        "\n",
        "    Z = model.predict(np.c_[xx.ravel(), yy.ravel()])\n",
        "    Z = Z.reshape(xx.shape)\n",
        "\n",
        "    plt.contourf(xx, yy, Z, alpha=0.3, cmap=cmap_light)\n",
        "    for i, color in enumerate(cmap_bold):\n",
        "        plt.scatter(X[y == i+1][:, 0], X[y == i+1][:, 1], color=color, label=iris.target_names[i+1])\n",
        "\n",
        "    plt.title(title)\n",
        "    plt.legend()\n",
        "    plt.show()\n",
        "\n",
        "\n",
        "plot_decision_boundary(X_test, y_test, knn, \"KNN Decision Boundary\")\n"
      ]
    }
  ]
}